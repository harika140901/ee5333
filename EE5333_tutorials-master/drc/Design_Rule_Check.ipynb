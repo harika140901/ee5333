{
  "nbformat": 4,
  "nbformat_minor": 0,
  "metadata": {
    "colab": {
      "provenance": [],
      "include_colab_link": true
    },
    "kernelspec": {
      "name": "python3",
      "display_name": "Python 3"
    },
    "language_info": {
      "name": "python"
    }
  },
  "cells": [
    {
      "cell_type": "markdown",
      "metadata": {
        "id": "view-in-github",
        "colab_type": "text"
      },
      "source": [
        "<a href=\"https://colab.research.google.com/github/harika140901/ee5333/blob/main/EE5333_tutorials-master/drc/Design_Rule_Check.ipynb\" target=\"_parent\"><img src=\"https://colab.research.google.com/assets/colab-badge.svg\" alt=\"Open In Colab\"/></a>"
      ]
    },
    {
      "cell_type": "code",
      "execution_count": 2,
      "metadata": {
        "id": "4gmToEpAWi9O",
        "colab": {
          "base_uri": "https://localhost:8080/"
        },
        "outputId": "70aca170-4804-45e0-ac1f-a6f2e6833591"
      },
      "outputs": [
        {
          "output_type": "stream",
          "name": "stdout",
          "text": [
            "Collecting LEFDEFParser==0.1\n",
            "  Downloading https://raw.githubusercontent.com/srini229/EE5333_tutorials/master/parser/LEFDEFParser-0.1-cp311-cp311-linux_x86_64.whl (617 kB)\n",
            "\u001b[2K     \u001b[90m━━━━━━━━━━━━━━━━━━━━━━━━━━━━━━━━━━━━━━━━\u001b[0m \u001b[32m617.8/617.8 kB\u001b[0m \u001b[31m7.5 MB/s\u001b[0m eta \u001b[36m0:00:00\u001b[0m\n",
            "\u001b[?25hInstalling collected packages: LEFDEFParser\n",
            "Successfully installed LEFDEFParser-0.1\n"
          ]
        }
      ],
      "source": [
        "!pip install --break-system-packages --force https://raw.githubusercontent.com/srini229/EE5333_tutorials/master/parser/LEFDEFParser-0.1-cp311-cp311-linux_x86_64.whl"
      ]
    },
    {
      "cell_type": "code",
      "source": [
        "!wget https://raw.githubusercontent.com/srini229/EE5333_tutorials/master/parser/Nangate.lef\n",
        "!wget https://raw.githubusercontent.com/srini229/EE5333_tutorials/master/drc/rects.txt"
      ],
      "metadata": {
        "id": "sy5OMKnHXV8z",
        "colab": {
          "base_uri": "https://localhost:8080/"
        },
        "outputId": "30b88ac5-1035-4375-c707-d213b69042c0"
      },
      "execution_count": 3,
      "outputs": [
        {
          "output_type": "stream",
          "name": "stdout",
          "text": [
            "--2025-03-19 06:45:28--  https://raw.githubusercontent.com/srini229/EE5333_tutorials/master/parser/Nangate.lef\n",
            "Resolving raw.githubusercontent.com (raw.githubusercontent.com)... 185.199.108.133, 185.199.109.133, 185.199.110.133, ...\n",
            "Connecting to raw.githubusercontent.com (raw.githubusercontent.com)|185.199.108.133|:443... connected.\n",
            "HTTP request sent, awaiting response... 200 OK\n",
            "Length: 1083933 (1.0M) [text/plain]\n",
            "Saving to: ‘Nangate.lef’\n",
            "\n",
            "Nangate.lef         100%[===================>]   1.03M  --.-KB/s    in 0.06s   \n",
            "\n",
            "2025-03-19 06:45:28 (15.9 MB/s) - ‘Nangate.lef’ saved [1083933/1083933]\n",
            "\n",
            "--2025-03-19 06:45:28--  https://raw.githubusercontent.com/srini229/EE5333_tutorials/master/drc/rects.txt\n",
            "Resolving raw.githubusercontent.com (raw.githubusercontent.com)... 185.199.108.133, 185.199.110.133, 185.199.109.133, ...\n",
            "Connecting to raw.githubusercontent.com (raw.githubusercontent.com)|185.199.108.133|:443... connected.\n",
            "HTTP request sent, awaiting response... 200 OK\n",
            "Length: 208141 (203K) [text/plain]\n",
            "Saving to: ‘rects.txt’\n",
            "\n",
            "rects.txt           100%[===================>] 203.26K  --.-KB/s    in 0.04s   \n",
            "\n",
            "2025-03-19 06:45:29 (4.67 MB/s) - ‘rects.txt’ saved [208141/208141]\n",
            "\n"
          ]
        }
      ]
    },
    {
      "cell_type": "code",
      "source": [
        "# find parallel run length between two rectangles\n",
        "# smaller dimension is assumed to be the width\n",
        "def getPRL(r1, r2):\n",
        "  w1, h1 = r1.ur.x - r1.ll.x, r1.ur.y - r1.ll.y\n",
        "  w2, h2 = r2.ur.x - r2.ll.x, r2.ur.y - r2.ll.y\n",
        "  if w1 > h1 and w2 > h2:\n",
        "    if r1.ur.x > r2.ll.x and r2.ur.x > r1.ll.x:\n",
        "      return min(r1.ur.x - r2.ll.x, r2.ur.x - r1.ll.x)\n",
        "    return 0\n",
        "  if r1.ur.y > r2.ll.y and r2.ur.y > r1.ll.y:\n",
        "    return min(r1.ur.y - r2.ll.y, r2.ur.y - r1.ll.y)\n",
        "  return 0"
      ],
      "metadata": {
        "id": "Mi_nuviziVVp"
      },
      "execution_count": 4,
      "outputs": []
    },
    {
      "cell_type": "code",
      "source": [
        "# get the spacing value from the spacing table for two input rectangles\n",
        "def getSpacing(layer, r1, r2):\n",
        "  width1, width2, prl =   min(r1.ur.x - r1.ll.x, r1.ur.y - r1.ll.y), min(r2.ur.x - r2.ll.x, r2.ur.y - r2.ll.y), getPRL(r1, r2)\n",
        "  spacing = layer.spacing()\n",
        "  i = 0\n",
        "  for i, w in enumerate(layer.spacingTable().width):\n",
        "    if width1 < w:\n",
        "      break\n",
        "  ind1, i = i - 1, 0\n",
        "  for i, w in enumerate(layer.spacingTable().width):\n",
        "    if width2 < w:\n",
        "      break\n",
        "  ind2, i = i - 1, 0\n",
        "  for i, p in enumerate(layer.spacingTable().prl):\n",
        "    if prl < p:\n",
        "      break\n",
        "  indp = i - 1\n",
        "  if ind1 >= 0 and ind2 >= 0 and indp >= 0:\n",
        "    spacing = max(layer.spacingTable().spacing[ind1][indp], layer.spacingTable().spacing[ind2][indp], spacing)\n",
        "  return spacing"
      ],
      "metadata": {
        "id": "gzhqKlq_ie1x"
      },
      "execution_count": 5,
      "outputs": []
    },
    {
      "cell_type": "code",
      "source": [
        "# check if two rectangles violate spacing\n",
        "def checkSpacing(r1, r2, s):\n",
        "  r = LEFDEFParser.Rect(r1.ll.x - s, r1.ll.y - s, r1.ur.x + s, r1.ur.y + s) # bloat r1 by s on all sides\n",
        "  return (r.ur.x > r2.ll.x and r.ll.x < r2.ur.x and r.ur.y > r2.ll.y and r.ll.y < r2.ur.y)"
      ],
      "metadata": {
        "id": "plsR3YCujo3O"
      },
      "execution_count": 6,
      "outputs": []
    },
    {
      "cell_type": "code",
      "source": [
        "import LEFDEFParser\n",
        "l = LEFDEFParser.LEFReader()\n",
        "l.readLEF('Nangate.lef')\n",
        "#for m in l.macros():\n",
        "#    m.print()\n",
        "layerMap = {layer.name():layer for layer in l.layers()}\n",
        "\n",
        "'''\n",
        "for k,v in layerMap.items():\n",
        "  print(v.name(), v.width(), v.spacing())\n",
        "  print('prl-> ', '\\t\\t', ' '.join([str(i) for i in v.spacingTable().prl]))\n",
        "  for i, w in enumerate(v.spacingTable().width):\n",
        "    #print('width ', v.spacingTable().width[i], '\\t', ' '.join([str(i) for i in v.spacingTable().spacing[i]]))\n",
        "'''\n",
        "\n",
        "maxSpacing = {layer.name():max(layer.spacing(), max([max(s) for s in layer.spacingTable().spacing])  if len(layer.spacingTable().spacing) else 0) for layer in l.layers()}\n",
        "print(maxSpacing)\n"
      ],
      "metadata": {
        "colab": {
          "base_uri": "https://localhost:8080/"
        },
        "id": "OcdeJ66qWy9f",
        "outputId": "4b92458e-20ea-4cca-b086-0f6f1d4078d8"
      },
      "execution_count": 7,
      "outputs": [
        {
          "output_type": "stream",
          "name": "stdout",
          "text": [
            "{'metal1': 130, 'metal2': 3000, 'metal3': 3000, 'metal4': 3000, 'metal5': 3000, 'metal6': 3000, 'metal7': 3000, 'metal8': 3000, 'metal9': 3000, 'metal10': 3000}\n"
          ]
        }
      ]
    },
    {
      "cell_type": "code",
      "source": [
        "layer = 'metal2'\n",
        "rects = [LEFDEFParser.Rect(0, 0, 1000, 140), LEFDEFParser.Rect(400, 300, 1000, 440), LEFDEFParser.Rect(1100, 0, 1600, 140)]\n",
        "for i in range(len(rects)):\n",
        "  for j in range(i + 1, len(rects)):\n",
        "    print(rects[i], rects[j], checkSpacing(rects[i], rects[j], getSpacing(layerMap[layer], rects[i], rects[j])))\n"
      ],
      "metadata": {
        "colab": {
          "base_uri": "https://localhost:8080/"
        },
        "id": "MzrVhBvTW-U4",
        "outputId": "55576252-d5de-4cc1-ae1a-344c9ebf9f99"
      },
      "execution_count": 8,
      "outputs": [
        {
          "output_type": "stream",
          "name": "stdout",
          "text": [
            "[(0,0),(1000,140)] [(400,300),(1000,440)] False\n",
            "[(0,0),(1000,140)] [(1100,0),(1600,140)] True\n",
            "[(400,300),(1000,440)] [(1100,0),(1600,140)] False\n"
          ]
        }
      ]
    },
    {
      "cell_type": "code",
      "source": [
        "with open('rects.txt', 'r') as fh:\n",
        "  rects = []\n",
        "  for l in fh:\n",
        "    s = [int(i) for i in l.split()]\n",
        "    if len(s) == 4:\n",
        "      rects.append(LEFDEFParser.Rect(s[0], s[1], s[2], s[3]))\n",
        "import time\n",
        "for N in [100, 200, 500, 1000]:\n",
        "  for layer in ['metal1', 'metal2']:\n",
        "    count, t = 0, time.time()\n",
        "# brute-force quadratic check between every pair of rectangles\n",
        "    for i in range(min(N, len(rects))):\n",
        "      for j in range(i + 1, min(N, len(rects))):\n",
        "        if checkSpacing(rects[i], rects[j], getSpacing(layerMap[layer], rects[i], rects[j])): count += 1\n",
        "    print('layer :', layer, '#violations :', count, 'runtime :', time.time() - t)\n",
        "  print()\n"
      ],
      "metadata": {
        "colab": {
          "base_uri": "https://localhost:8080/"
        },
        "id": "1rvO9yTcl290",
        "outputId": "f406a0ed-27aa-44d6-ffc5-0f0e8be50822"
      },
      "execution_count": 9,
      "outputs": [
        {
          "output_type": "stream",
          "name": "stdout",
          "text": [
            "layer : metal1 #violations : 144 runtime : 0.3750331401824951\n",
            "layer : metal2 #violations : 185 runtime : 0.46103644371032715\n",
            "\n",
            "layer : metal1 #violations : 626 runtime : 1.1191556453704834\n",
            "layer : metal2 #violations : 817 runtime : 1.4321706295013428\n",
            "\n",
            "layer : metal1 #violations : 3931 runtime : 5.772539138793945\n",
            "layer : metal2 #violations : 5160 runtime : 7.733041048049927\n",
            "\n",
            "layer : metal1 #violations : 16165 runtime : 25.376755475997925\n",
            "layer : metal2 #violations : 21088 runtime : 29.98246431350708\n",
            "\n"
          ]
        }
      ]
    },
    {
      "cell_type": "code",
      "source": [
        "# build a kdtree of rectangles\n",
        "# build the kd-tree using the input set of rectangles\n",
        "class node:\n",
        "  def __init__(self,name):\n",
        "    self._name = name\n",
        "    self._right = None\n",
        "    self._left = None\n",
        "    self._rects = []\n",
        "    self._median = 0\n",
        "\n",
        "class kdtree:\n",
        "  def __init__(self, rects):\n",
        "    Node = node(0)\n",
        "    self.root = Node\n",
        "    Node._left = node(1)\n",
        "    Node._right = node(1)\n",
        "    Node._rects = rects\n",
        "    listN = [Node._left, Node._right]\n",
        "    for i in [2,3,4]:\n",
        "      newlist = []\n",
        "      for n in listN:\n",
        "        n._left = node(i)\n",
        "        n._right = node(i)\n",
        "        newlist.append(n._left)\n",
        "        newlist.append(n._right)\n",
        "      listN = newlist\n",
        "    listN = [Node]\n",
        "    p = 0\n",
        "    for module in listN:\n",
        "      p += 1\n",
        "      rlist = module._rects\n",
        "      if module._name == 0:\n",
        "        median = sum(rlist[i].ll.x for i in range(len(rlist))) / len(rlist)\n",
        "      elif module.name == 1:\n",
        "        median = sum(rlist[i].ll.y for i in range(len(rlist))) / len(rlist)\n",
        "      elif module._name == 2:\n",
        "        median = sum(rlist[i].ur.x for i in range(len(rlist))) / len(rlist)\n",
        "      elif module.name == 3:\n",
        "        median = sum(rlist[i].ur.y for i in range(len(rlist))) / len(rlist)\n",
        "      else:\n",
        "        break\n",
        "      module._median = median\n",
        "      newList = []\n",
        "      newList.append(module._left)\n",
        "      newList.append(module._right)\n",
        "      for i in range(len(rlist)):\n",
        "        if module._name == 0:\n",
        "          if rlist[i].ll.x < median:\n",
        "            Node._left._rects.append(rlist[i])\n",
        "          else:\n",
        "            Node._right._rects.append(rlist[i])\n",
        "        elif module._name == 1:\n",
        "          if rlist[i].ll.y < median:\n",
        "            Node._left._rects.append(rlist[i])\n",
        "          else:\n",
        "            Node._right._rects.append(rlist[i])\n",
        "        elif module._name == 2:\n",
        "          if rlist[i].ur.x < median:\n",
        "            Node._left._rects.append(rlist[i])\n",
        "          else:\n",
        "            Node._right._rects.append(rlist[i])\n",
        "        elif module._name == 3:\n",
        "          if rlist[i].ur.y < median:\n",
        "            Node._left._rects.append(rlist[i])\n",
        "          else:\n",
        "            Node._right._rects.append(rlist[i])\n",
        "      if p == len(listN):\n",
        "        listN = newList\n",
        "\n",
        "  def region_query(self, region):\n",
        "    l = []\n",
        "    listN = [self.root]\n",
        "    while len(listN) != 0:\n",
        "      k = listN.pop()\n",
        "      # if len(listN) == 0:\n",
        "      #   bootToIncreD = True\n",
        "      if k._name == 0 or k._name == 2:\n",
        "        if region.ll.x < k._median and region.ur.x < k._median:\n",
        "          listN.append(k._left)\n",
        "        elif region.ll.x > k._median and region.ur.x > k._median:\n",
        "          listN.append(k._right)\n",
        "        else:\n",
        "          listN.append(k._right)\n",
        "          listN.append(k._left)\n",
        "      elif k._name == 1 or k._name == 3:\n",
        "        if region.ll.y < k._median and region.ur.y < k._median:\n",
        "          listN.append(k._left)\n",
        "        elif region.ll.y > k._median and region.ur.y > k._median:\n",
        "          listN.append(k._right)\n",
        "        else:\n",
        "          listN.append(k._right)\n",
        "          listN.append(k._left)\n",
        "      else:\n",
        "        for p in listN:\n",
        "          if p._name == 4:\n",
        "            l = l + p._rects\n",
        "            listN.remove(p)\n",
        "    return l"
      ],
      "metadata": {
        "id": "shpsHi8ltmZi"
      },
      "execution_count": 14,
      "outputs": []
    },
    {
      "cell_type": "code",
      "source": [
        "kdt = kdtree(rects)\n",
        "for N in [100, 1000, 2000]:\n",
        "  t = time.time()\n",
        "  for layer in ['metal1', 'metal2', 'metal3']:\n",
        "    count = 0\n",
        "    for i in range(min(N, len(rects))):\n",
        "      # replace pair-wise check with potentially conflicting neighbours through region query\n",
        "      s = maxSpacing[layer]\n",
        "      nbrs = kdt.region_query(LEFDEFParser.Rect(rects[i].ll.x - s, rects[i].ll.y - s, rects[i].ur.x + s, rects[i].ur.y + s))\n",
        "      for j in range(len(nbrs)):\n",
        "        if rects[i] == nbrs[j]: continue\n",
        "        if checkSpacing(rects[i], nbrs[j], getSpacing(layerMap[layer], rects[i], nbrs[j])): count += 1\n",
        "    print(layer, count)\n",
        "  print('runtime : ', time.time() - t)"
      ],
      "metadata": {
        "id": "OXm-GJEDuGmB",
        "colab": {
          "base_uri": "https://localhost:8080/"
        },
        "outputId": "7fbdf8f7-8ba6-4707-acbf-b1b7753785a4"
      },
      "execution_count": 15,
      "outputs": [
        {
          "output_type": "stream",
          "name": "stdout",
          "text": [
            "metal1 0\n",
            "metal2 0\n",
            "metal3 0\n",
            "runtime :  0.010742902755737305\n",
            "metal1 0\n",
            "metal2 0\n",
            "metal3 0\n",
            "runtime :  0.09420466423034668\n",
            "metal1 0\n",
            "metal2 0\n",
            "metal3 0\n",
            "runtime :  0.20350337028503418\n"
          ]
        }
      ]
    },
    {
      "cell_type": "code",
      "source": [
        "import time\n",
        "for N in [100, 1000]:\n",
        "  for layer in ['metal1', 'metal2', 'metal3']:\n",
        "    count, t = 0, time.time()\n",
        "# brute-force quadratic check between every pair of rectangles\n",
        "    for i in range(min(N, len(rects))):\n",
        "      for j in range(i + 1, min(N, len(rects))):\n",
        "        if checkSpacing(rects[i], rects[j], getSpacing(layerMap[layer], rects[i], rects[j])): count += 1\n",
        "    print('layer :', layer, '#violations :', count, 'runtime :', time.time() - t)\n",
        "  print()"
      ],
      "metadata": {
        "id": "55wR7o0pKr7e",
        "outputId": "569c1497-7a28-4170-8568-6bc9b049da70",
        "colab": {
          "base_uri": "https://localhost:8080/"
        }
      },
      "execution_count": 16,
      "outputs": [
        {
          "output_type": "stream",
          "name": "stdout",
          "text": [
            "layer : metal1 #violations : 144 runtime : 0.2294478416442871\n",
            "layer : metal2 #violations : 185 runtime : 0.28020763397216797\n",
            "layer : metal3 #violations : 185 runtime : 0.3879544734954834\n",
            "\n",
            "layer : metal1 #violations : 16165 runtime : 28.74310564994812\n",
            "layer : metal2 #violations : 21088 runtime : 32.11531925201416\n",
            "layer : metal3 #violations : 21088 runtime : 31.05124020576477\n",
            "\n",
            "layer : metal1 #violations : 65562 runtime : 107.58234548568726\n",
            "layer : metal2 #violations : 85559 runtime : 123.88293409347534\n",
            "layer : metal3 #violations : 85559 runtime : 124.95951581001282\n",
            "\n"
          ]
        }
      ]
    },
    {
      "cell_type": "code",
      "source": [],
      "metadata": {
        "id": "bPgYengqu5Zk"
      },
      "execution_count": null,
      "outputs": []
    }
  ]
}