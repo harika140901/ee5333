{
  "nbformat": 4,
  "nbformat_minor": 0,
  "metadata": {
    "colab": {
      "provenance": []
    },
    "kernelspec": {
      "display_name": "Python 3 (ipykernel)",
      "language": "python",
      "name": "python3"
    },
    "language_info": {
      "codemirror_mode": {
        "name": "ipython",
        "version": 3
      },
      "file_extension": ".py",
      "mimetype": "text/x-python",
      "name": "python",
      "nbconvert_exporter": "python",
      "pygments_lexer": "ipython3",
      "version": "3.11.2"
    }
  },
  "cells": [
    {
      "cell_type": "code",
      "execution_count": null,
      "metadata": {
        "colab": {
          "base_uri": "https://localhost:8080/"
        },
        "id": "6pfNNa4fqwMy",
        "outputId": "9fe8744e-9c23-45b7-fa6d-e671da453639"
      },
      "outputs": [
        {
          "output_type": "stream",
          "name": "stdout",
          "text": [
            "Collecting mip\n",
            "  Downloading mip-1.15.0-py3-none-any.whl.metadata (21 kB)\n",
            "Downloading mip-1.15.0-py3-none-any.whl (15.3 MB)\n",
            "\u001b[?25l   \u001b[90m━━━━━━━━━━━━━━━━━━━━━━━━━━━━━━━━━━━━━━━━\u001b[0m \u001b[32m0.0/15.3 MB\u001b[0m \u001b[31m?\u001b[0m eta \u001b[36m-:--:--\u001b[0m\r\u001b[2K   \u001b[91m━━━━━━━━━\u001b[0m\u001b[90m╺\u001b[0m\u001b[90m━━━━━━━━━━━━━━━━━━━━━━━━━━━━━━\u001b[0m \u001b[32m3.5/15.3 MB\u001b[0m \u001b[31m103.9 MB/s\u001b[0m eta \u001b[36m0:00:01\u001b[0m\r\u001b[2K   \u001b[91m━━━━━━━━━━━━━━━━━━━━━━━━━━\u001b[0m\u001b[90m╺\u001b[0m\u001b[90m━━━━━━━━━━━━━\u001b[0m \u001b[32m10.1/15.3 MB\u001b[0m \u001b[31m144.4 MB/s\u001b[0m eta \u001b[36m0:00:01\u001b[0m\r\u001b[2K   \u001b[90m━━━━━━━━━━━━━━━━━━━━━━━━━━━━━━━━━━━━━━━━\u001b[0m \u001b[32m15.3/15.3 MB\u001b[0m \u001b[31m187.1 MB/s\u001b[0m eta \u001b[36m0:00:00\u001b[0m\n",
            "\u001b[?25hInstalling collected packages: mip\n",
            "Successfully installed mip-1.15.0\n"
          ]
        }
      ],
      "source": [
        "# !pip uninstall -y cffi\n",
        "# !pip install --no-cache-dir --force-reinstall cffi==1.15.1\n",
        "# !pip install mip\n",
        "!pip install --no-cache-dir --no-deps mip\n"
      ]
    },
    {
      "cell_type": "markdown",
      "source": [
        "## LEF DEF Parsing\n",
        "\n",
        "- Install the LEFDEFParser from the the wheel file : [LEFDEFParser-0.1-cp310-cp310-linux_x86_64.whl](https://github.com/srini229/EE5333_tutorials/blob/master/parser/LEFDEFParser-0.1-cp310-cp310-linux_x86_64.whl)\n",
        "- Download example LEF and DEF files: [Nangate.lef](https://github.com/srini229/EE5333_tutorials/blob/master/parser/Nangate.lef) and [example.def](https://github.com/srini229/EE5333_tutorials/blob/master/parser/example.def)\n",
        "\n",
        "    <img src=\"https://raw.githubusercontent.com/srini229/EE5333_tutorials/master/part/fig/example_cir.png\" width=340 height=195 />\n",
        "\n"
      ],
      "metadata": {
        "id": "9b8l7WIsKTOC"
      }
    },
    {
      "cell_type": "code",
      "source": [
        "!pip install --break-system-packages https://raw.githubusercontent.com/srini229/EE5333_tutorials/master/parser/LEFDEFParser-0.1-cp311-cp311-linux_x86_64.whl\n",
        "!rm -f *.{lef,def}\n",
        "!wget https://raw.githubusercontent.com/srini229/EE5333_tutorials/master/parser/{Nangate.lef,example.def}\n",
        "!wget https://raw.githubusercontent.com/srini229/EE5333_tutorials/master/parser/sample.{lef,def}"
      ],
      "metadata": {
        "id": "yZMKB51YKRme",
        "outputId": "2725255f-cd1b-483e-da79-6abb28897cd9",
        "colab": {
          "base_uri": "https://localhost:8080/"
        }
      },
      "execution_count": 29,
      "outputs": [
        {
          "output_type": "stream",
          "name": "stdout",
          "text": [
            "Collecting LEFDEFParser==0.1\n",
            "  Using cached https://raw.githubusercontent.com/srini229/EE5333_tutorials/master/parser/LEFDEFParser-0.1-cp311-cp311-linux_x86_64.whl (617 kB)\n",
            "--2025-01-31 12:58:50--  https://raw.githubusercontent.com/srini229/EE5333_tutorials/master/parser/Nangate.lef\n",
            "Resolving raw.githubusercontent.com (raw.githubusercontent.com)... 185.199.108.133, 185.199.109.133, 185.199.110.133, ...\n",
            "Connecting to raw.githubusercontent.com (raw.githubusercontent.com)|185.199.108.133|:443... connected.\n",
            "HTTP request sent, awaiting response... 200 OK\n",
            "Length: 1083933 (1.0M) [text/plain]\n",
            "Saving to: ‘Nangate.lef’\n",
            "\n",
            "Nangate.lef         100%[===================>]   1.03M  --.-KB/s    in 0.02s   \n",
            "\n",
            "2025-01-31 12:58:50 (42.0 MB/s) - ‘Nangate.lef’ saved [1083933/1083933]\n",
            "\n",
            "--2025-01-31 12:58:50--  https://raw.githubusercontent.com/srini229/EE5333_tutorials/master/parser/example.def\n",
            "Reusing existing connection to raw.githubusercontent.com:443.\n",
            "HTTP request sent, awaiting response... 200 OK\n",
            "Length: 899 [text/plain]\n",
            "Saving to: ‘example.def’\n",
            "\n",
            "example.def         100%[===================>]     899  --.-KB/s    in 0s      \n",
            "\n",
            "2025-01-31 12:58:50 (39.3 MB/s) - ‘example.def’ saved [899/899]\n",
            "\n",
            "FINISHED --2025-01-31 12:58:50--\n",
            "Total wall clock time: 0.6s\n",
            "Downloaded: 2 files, 1.0M in 0.02s (42.0 MB/s)\n",
            "--2025-01-31 12:58:50--  https://raw.githubusercontent.com/srini229/EE5333_tutorials/master/parser/sample.lef\n",
            "Resolving raw.githubusercontent.com (raw.githubusercontent.com)... 185.199.108.133, 185.199.109.133, 185.199.110.133, ...\n",
            "Connecting to raw.githubusercontent.com (raw.githubusercontent.com)|185.199.108.133|:443... connected.\n",
            "HTTP request sent, awaiting response... 200 OK\n",
            "Length: 40034 (39K) [text/plain]\n",
            "Saving to: ‘sample.lef’\n",
            "\n",
            "sample.lef          100%[===================>]  39.10K  --.-KB/s    in 0.004s  \n",
            "\n",
            "2025-01-31 12:58:51 (8.99 MB/s) - ‘sample.lef’ saved [40034/40034]\n",
            "\n",
            "--2025-01-31 12:58:51--  https://raw.githubusercontent.com/srini229/EE5333_tutorials/master/parser/sample.def\n",
            "Reusing existing connection to raw.githubusercontent.com:443.\n",
            "HTTP request sent, awaiting response... 200 OK\n",
            "Length: 2909 (2.8K) [text/plain]\n",
            "Saving to: ‘sample.def’\n",
            "\n",
            "sample.def          100%[===================>]   2.84K  --.-KB/s    in 0s      \n",
            "\n",
            "2025-01-31 12:58:51 (39.8 MB/s) - ‘sample.def’ saved [2909/2909]\n",
            "\n",
            "FINISHED --2025-01-31 12:58:51--\n",
            "Total wall clock time: 0.3s\n",
            "Downloaded: 2 files, 42K in 0.004s (9.48 MB/s)\n"
          ]
        }
      ]
    },
    {
      "cell_type": "code",
      "source": [
        "#vertex class; name is the instance name of the gate; area: area of the module and the;\n",
        "class Vertex:\n",
        "  def __init__(self, name, area):\n",
        "    self._name = name\n",
        "    self._area = area\n",
        "  def __repr__(self):\n",
        "    return self._name + f\" ({round(self._area,2)})\"\n",
        "\n",
        "# Reads input LEF/DEF files and returns a hypergraph with vertex list V and hyperedge list E;\n",
        "# each hyperedge in E is a tuple of vertices of type `Vertex` defined above.\n",
        "def loadNetlist(leffile = None, deffile = None):\n",
        "  import LEFDEFParser as LDP\n",
        "  l = LDP.LEFReader()\n",
        "  areaLookup = dict()\n",
        "  if leffile:\n",
        "    l.readLEF(leffile)\n",
        "    areaLookup = {m.name():(m.xdim()*m.ydim()*1.e-6) for m in l.macros()}\n",
        "  vertices = dict()\n",
        "  edges = dict()\n",
        "  if deffile:\n",
        "    d = LDP.DEFReader()\n",
        "    d.readDEF(deffile)\n",
        "    vertices = {c.name() : Vertex(c.name(), areaLookup.get(c.macro(), None)) for c in d.components()}\n",
        "    edges = {n.name():[vertices[p[0]] for p in n.pins() if p[0] != 'PIN'] for n in d.nets()}\n",
        "  delE = list()\n",
        "  for e in edges:\n",
        "    if len(edges[e]) <= 1:\n",
        "      delE.append(e)\n",
        "  for e in delE: del edges[e]\n",
        "  return vertices, edges"
      ],
      "metadata": {
        "id": "eiYXZ9ybriIn"
      },
      "execution_count": 30,
      "outputs": []
    },
    {
      "cell_type": "markdown",
      "source": [
        "## $k$-way hypergraph partitioning using ILP\n",
        "+ Hypergraph $H(V,E)$\n",
        "+ $x_{v,i}$ is the indicator variable for $v$ being in partition $V_i$\n",
        "+ $x_{e,i}$ is the indicator variable for $e\\in E$ being contained in $V_i$\n",
        "\n",
        "+ Objective: $\\max\\limits_{x_{e,i}} \\sum\\limits_{e\\in E}\\sum\\limits_{i=1}^k x_{e,i}$\n",
        "+ Subject to constraints:\n",
        "<ul>\n",
        "$\\begin{align}\n",
        "x_{v,i} &\\in \\{0, 1\\}, &\\forall v \\in V, \\forall i \\in \\{1,2,\\ldots, k\\}\\\\\n",
        "x_{e,i} &\\in \\{0, 1\\}, &\\forall e \\in E, \\forall i \\in \\{1,2,\\ldots, k\\}\\\\\n",
        "\\sum\\limits_{i=1}^k x_{v,i} &=1 , &\\forall v \\in V\\\\\n",
        "\\sum_{v\\in V} area(v)\\cdot x_{v,i}&\\leq Area_{max} &\\forall v \\in V\\\\\n",
        "\\sum_{v\\in V} area(v)\\cdot x_{v,i}&\\geq Area_{min} &\\forall v \\in V\\\\\n",
        "x_{e,i} &\\leq x_{v,i}, &\\forall e \\in E, \\forall v~\\text{connected by}~e\\\\\n",
        "\\end{align}$\n",
        "</ul>"
      ],
      "metadata": {
        "id": "i7U9GT-Wq1mP"
      }
    },
    {
      "cell_type": "code",
      "source": [
        "# V - vertices; each vertex is one of the gates in the netlist; Each vertex is of type\n",
        "# E - hyperedges; each edge/hyperedge is a tuple of vertices\n",
        "# k - is the number of partitions\n",
        "# (Amin, Amax) - minimum/maximum area for balance criterion\n",
        "def partition(V, E, Amin, Amax, k = 2):\n",
        "  import mip\n",
        "  model = mip.Model(f\"{k}-way partition\")\n",
        "  x = {u:[model.add_var(f\"x_{u}_{i}\", var_type = mip.BINARY) for i in range(k)] for u in V}\n",
        "  x_e = {e:[model.add_var(f\"x_{e}_{i}\", var_type = mip.BINARY) for i in range(k)] for e in E}\n",
        "  model.verbose = 0\n",
        "  model.objective = mip.maximize(mip.xsum(x_e[e][i] for e in E for i in range(k)))\n",
        "\n",
        "  for u in V:\n",
        "    model += mip.xsum(x[u]) == 1\n",
        "\n",
        "  for i in range(k):\n",
        "    model += mip.xsum(V[u]._area*x[u][i] for u in V) >= Amin\n",
        "    model += mip.xsum(V[u]._area*x[u][i] for u in V) <= Amax\n",
        "\n",
        "  for e in E:\n",
        "    for i in range(k):\n",
        "      for v in E[e]:\n",
        "        model += x_e[e][i] <= x[v._name][i]\n",
        "\n",
        "  model.write(f\"partition{k}.lp\")\n",
        "  model.optimize()\n",
        "  sol = [list() for i in range(k)]\n",
        "\n",
        "  if model.status == mip.OptimizationStatus.OPTIMAL:\n",
        "    for u in V:\n",
        "      for i in range(k):\n",
        "        if round(x[u][i].x) == 1: sol[i].append(V[u])\n",
        "    print(sol)\n",
        "    return (sol, len(E)- model.objective.x)\n",
        "  return None, None\n"
      ],
      "metadata": {
        "id": "owS9xJ2iq5ma"
      },
      "execution_count": 31,
      "outputs": []
    },
    {
      "cell_type": "code",
      "source": [
        "from typing import DefaultDict\n",
        "# bi-partition the input hypergraph using Fiduccia-Matheyses algorithm\n",
        "# argument list is the same as the ILP version described above\n",
        "# return value is a list of two lists and the number of cut hyperedges;\n",
        "# each list is a partition comprising contained gates(vertices)\n",
        "class Node:\n",
        "  def __init__(self, name, area):\n",
        "    self._name = name\n",
        "    self._area = area\n",
        "    self._ngbrs = []\n",
        "    self._f = 0\n",
        "    self._t = 0\n",
        "    self._g = 0\n",
        "    self._part = -1\n",
        "  def __repr__(self):\n",
        "    return self._name + f\" ({round(self._area,2)})\"\n",
        "\n",
        "def updateNgbrs(V, E):\n",
        "  import random\n",
        "  V_temp = {V[v]._name: Node(V[v]._name, V[v]._area) for v in V}\n",
        "  for v in V_temp:\n",
        "    V_temp[v]._part = random.choice([0,1])\n",
        "  for e in E:\n",
        "    for node in E[e]:\n",
        "      for nodeNxt in E[e]:\n",
        "        if node != nodeNxt:\n",
        "          V_temp[node._name]._ngbrs.append(V_temp[nodeNxt._name])\n",
        "  return V_temp\n",
        "\n",
        "def updateFTG(V_temp, E):\n",
        "  for e in E:\n",
        "    temp = []\n",
        "    if len(E[e]) > 2:\n",
        "      for node in E[e]:\n",
        "        temp.append(node._part)\n",
        "      partA = temp.count(0)\n",
        "      partB = temp.count(1)\n",
        "      if partA == 1:\n",
        "        for node in E[e]:\n",
        "          if node._part == 0:\n",
        "            V_temp[E[e][0]._name]._f += 1\n",
        "      elif partB == 1:\n",
        "        for node in E[e]:\n",
        "          if node._part == 1:\n",
        "            V_temp[E[e][0]._name]._f += 1\n",
        "      if partA == len(E[e]) or partB == len(E[e]):\n",
        "        for node in E[e]:\n",
        "          V_temp[E[e][0]._name]._t += 1\n",
        "    else:\n",
        "      if E[e][0]._part != E[e][1]._part:\n",
        "        V_temp[E[e][0]._name]._f += 1\n",
        "        V_temp[E[e][1]._name]._f += 1\n",
        "      else:\n",
        "        V_temp[E[e][0]._name]._t += 1\n",
        "        V_temp[E[e][1]._name]._t += 1\n",
        "  for v in V_temp:\n",
        "    V_temp[v]._g = V_temp[v]._f - V_temp[v]._t\n",
        "  return V_temp\n",
        "\n",
        "def area(V_temp):\n",
        "  area = 0\n",
        "  for v in V_temp:\n",
        "    if V_temp[v]._part == 0:\n",
        "      area += V_temp[v]._area\n",
        "  return area\n",
        "\n",
        "def partitionFM(V, E, Amin, Amax):\n",
        "  V_temp = updateNgbrs(V,E)\n",
        "  E_temp = DefaultDict(list)\n",
        "  for e in E:\n",
        "    for v in E[e]:\n",
        "      for n in V_temp:\n",
        "        if v._name == V_temp[n]._name:\n",
        "          E_temp[e].append(V_temp[n])\n",
        "  V_temp = updateFTG(V_temp, E_temp)\n",
        "  nodeList = []\n",
        "  while len(nodeList) <= len(V):\n",
        "    maxg = []\n",
        "    for v in V_temp:\n",
        "      maxg.append(V_temp[v]._g)\n",
        "\n",
        "    maxg = list(set(maxg))\n",
        "    maxg.sort(reverse=True)\n",
        "    for m in maxg:\n",
        "      booltoexit = False\n",
        "      for v in V_temp:\n",
        "        if V_temp[v]._g == m and (V_temp[v]._part == 1 and area(V_temp) + V_temp[v]._area <= Amax) and v not in nodeList:\n",
        "          nodeList.append(V_temp[v])\n",
        "          V_temp[v]._part = 0\n",
        "          booltoexit = True\n",
        "          break\n",
        "        elif V_temp[v]._g == m and (V_temp[v]._part == 0 and area(V_temp) - V_temp[v]._area >= Amin):\n",
        "          nodeList.append(V_temp[v])\n",
        "          V_temp[v]._part = 1\n",
        "          booltoexit = True\n",
        "          break\n",
        "      if booltoexit:\n",
        "          break\n",
        "    V_temp = updateFTG(V_temp, E_temp)\n",
        "\n",
        "  A = []\n",
        "  B = []\n",
        "  for v in V_temp:\n",
        "    if V_temp[v]._part == 0:\n",
        "      A.append(V_temp[v])\n",
        "    else:\n",
        "      B.append(V_temp[v])\n",
        "  cutList = []\n",
        "\n",
        "  for e in E_temp:\n",
        "    prevVpart = E_temp[e][0]._part\n",
        "    for v in E_temp[e]:\n",
        "      if v._part != prevVpart:\n",
        "        cutList.append(e)\n",
        "        break\n",
        "  cutList = list(set(cutList))\n",
        "\n",
        "  return ([A,B], len(cutList))"
      ],
      "metadata": {
        "id": "4-OyoMlMrG7s"
      },
      "execution_count": 36,
      "outputs": []
    },
    {
      "cell_type": "code",
      "source": [
        "import time\n",
        "for (lf,df) in [('sample.lef', 'sample.def'),('Nangate.lef', 'example.def')]: #\n",
        "  V,E = loadNetlist(lf, df)\n",
        "  print(E)\n",
        "  Atotal = sum(V[u]._area for u in V)\n",
        "  maxCellArea = max(V[u]._area for u in V)\n",
        "  print(\"Total area :\", Atotal, \"delArea :\", round(maxCellArea,2))\n",
        "  for partfn in [partition, partitionFM]:\n",
        "    t = time.time()\n",
        "    sol, numcuts = partfn(V, E, Atotal/2 - maxCellArea, Atotal/2 + maxCellArea)\n",
        "    print(f\"{partfn.__name__} runtime : {time.time() - t}\")\n",
        "    if sol:\n",
        "      print(\"number of cuts :\", round(numcuts))\n",
        "      for part in sol:\n",
        "        print(\"area :\", round(sum([x._area for x in part]),2), part)"
      ],
      "metadata": {
        "colab": {
          "base_uri": "https://localhost:8080/"
        },
        "id": "lb5iCFC0q8SQ",
        "outputId": "a62545b8-81ef-494d-e5b7-75eb15d80b4f"
      },
      "execution_count": 44,
      "outputs": [
        {
          "output_type": "stream",
          "name": "stdout",
          "text": [
            "{'net1237': [inst5638 (12.31), inst4678 (5.47)], 'net1240': [inst3502 (13.68), inst2015 (10.94)], 'net1233': [inst6050 (8.21), inst4189 (15.05)], 'net1236': [inst2908 (9.58), inst2591 (15.05)], 'net1234': [inst6458 (17.78), inst4597 (8.21)], 'net1232': [inst4382 (8.21), inst4062 (12.31)], 'net1231': [inst5821 (6.84), inst5275 (9.58)], 'net1239': [inst6286 (10.94), inst5333 (12.31)], 'net1235': [inst4183 (25.99), inst4132 (8.21)], 'net1238': [inst3444 (8.21), inst3428 (8.21)], 'net1230': [inst7234 (10.94), inst5195 (12.31)]}\n",
            "Total area : 250.344 delArea : 25.99\n",
            "[[inst2591 (15.05), inst2908 (9.58), inst3428 (8.21), inst3444 (8.21), inst4062 (12.31), inst4678 (5.47), inst4189 (15.05), inst4382 (8.21), inst5638 (12.31), inst5275 (9.58), inst5821 (6.84), inst6050 (8.21), inst5195 (12.31), inst7234 (10.94)], [inst2015 (10.94), inst3502 (13.68), inst4132 (8.21), inst4183 (25.99), inst4597 (8.21), inst5333 (12.31), inst6286 (10.94), inst6458 (17.78)]]\n",
            "partition runtime : 0.01352071762084961\n",
            "number of cuts : 0\n",
            "area : 142.27 [inst2591 (15.05), inst2908 (9.58), inst3428 (8.21), inst3444 (8.21), inst4062 (12.31), inst4678 (5.47), inst4189 (15.05), inst4382 (8.21), inst5638 (12.31), inst5275 (9.58), inst5821 (6.84), inst6050 (8.21), inst5195 (12.31), inst7234 (10.94)]\n",
            "area : 108.07 [inst2015 (10.94), inst3502 (13.68), inst4132 (8.21), inst4183 (25.99), inst4597 (8.21), inst5333 (12.31), inst6286 (10.94), inst6458 (17.78)]\n",
            "partitionFM runtime : 0.0004582405090332031\n",
            "number of cuts : 1\n",
            "area : 147.74 [inst3428 (8.21), inst3444 (8.21), inst4132 (8.21), inst4183 (25.99), inst4062 (12.31), inst4678 (5.47), inst4189 (15.05), inst4382 (8.21), inst5333 (12.31), inst5638 (12.31), inst6286 (10.94), inst6050 (8.21), inst5195 (12.31)]\n",
            "area : 102.6 [inst2015 (10.94), inst2591 (15.05), inst2908 (9.58), inst3502 (13.68), inst4597 (8.21), inst5275 (9.58), inst5821 (6.84), inst6458 (17.78), inst7234 (10.94)]\n",
            "{'n2': [a (3.19), b (3.19)], 'n6': [a (3.19), e (3.19)], 'n7': [b (3.19), c (3.19), d (3.19)], 'n8': [c (3.19), e (3.19)], 'n9': [d (3.19), f (2.13)]}\n",
            "Total area : 18.088 delArea : 3.19\n",
            "[[a (3.19), c (3.19), e (3.19)], [b (3.19), d (3.19), f (2.13)]]\n",
            "partition runtime : 0.0256350040435791\n",
            "number of cuts : 2\n",
            "area : 9.58 [a (3.19), c (3.19), e (3.19)]\n",
            "area : 8.51 [b (3.19), d (3.19), f (2.13)]\n",
            "partitionFM runtime : 0.00018262863159179688\n",
            "number of cuts : 2\n",
            "area : 9.58 [a (3.19), c (3.19), e (3.19)]\n",
            "area : 8.51 [b (3.19), d (3.19), f (2.13)]\n"
          ]
        }
      ]
    },
    {
      "cell_type": "code",
      "source": [],
      "metadata": {
        "id": "2eCXDSEptnbB"
      },
      "execution_count": null,
      "outputs": []
    }
  ]
}