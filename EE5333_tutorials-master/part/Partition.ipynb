{
  "nbformat": 4,
  "nbformat_minor": 0,
  "metadata": {
    "colab": {
      "provenance": [],
      "include_colab_link": true
    },
    "kernelspec": {
      "display_name": "Python 3 (ipykernel)",
      "language": "python",
      "name": "python3"
    },
    "language_info": {
      "codemirror_mode": {
        "name": "ipython",
        "version": 3
      },
      "file_extension": ".py",
      "mimetype": "text/x-python",
      "name": "python",
      "nbconvert_exporter": "python",
      "pygments_lexer": "ipython3",
      "version": "3.11.2"
    }
  },
  "cells": [
    {
      "cell_type": "markdown",
      "metadata": {
        "id": "view-in-github",
        "colab_type": "text"
      },
      "source": [
        "<a href=\"https://colab.research.google.com/github/harika140901/EE5333_tutorials/blob/master/part/Partition.ipynb\" target=\"_parent\"><img src=\"https://colab.research.google.com/assets/colab-badge.svg\" alt=\"Open In Colab\"/></a>"
      ]
    },
    {
      "cell_type": "code",
      "execution_count": 1,
      "metadata": {
        "colab": {
          "base_uri": "https://localhost:8080/"
        },
        "id": "6pfNNa4fqwMy",
        "outputId": "91009ecd-56a5-47f9-8306-4162ee5b8103"
      },
      "outputs": [
        {
          "output_type": "stream",
          "name": "stdout",
          "text": [
            "Collecting mip\n",
            "  Downloading mip-1.15.0-py3-none-any.whl.metadata (21 kB)\n",
            "Collecting cffi==1.15.* (from mip)\n",
            "  Downloading cffi-1.15.1-cp311-cp311-manylinux_2_17_x86_64.manylinux2014_x86_64.whl.metadata (1.1 kB)\n",
            "Requirement already satisfied: pycparser in /usr/local/lib/python3.11/dist-packages (from cffi==1.15.*->mip) (2.22)\n",
            "Downloading mip-1.15.0-py3-none-any.whl (15.3 MB)\n",
            "\u001b[2K   \u001b[90m━━━━━━━━━━━━━━━━━━━━━━━━━━━━━━━━━━━━━━━━\u001b[0m \u001b[32m15.3/15.3 MB\u001b[0m \u001b[31m20.0 MB/s\u001b[0m eta \u001b[36m0:00:00\u001b[0m\n",
            "\u001b[?25hDownloading cffi-1.15.1-cp311-cp311-manylinux_2_17_x86_64.manylinux2014_x86_64.whl (462 kB)\n",
            "\u001b[2K   \u001b[90m━━━━━━━━━━━━━━━━━━━━━━━━━━━━━━━━━━━━━━━━\u001b[0m \u001b[32m462.6/462.6 kB\u001b[0m \u001b[31m16.2 MB/s\u001b[0m eta \u001b[36m0:00:00\u001b[0m\n",
            "\u001b[?25hInstalling collected packages: cffi, mip\n",
            "  Attempting uninstall: cffi\n",
            "    Found existing installation: cffi 1.17.1\n",
            "    Uninstalling cffi-1.17.1:\n",
            "      Successfully uninstalled cffi-1.17.1\n",
            "\u001b[31mERROR: pip's dependency resolver does not currently take into account all the packages that are installed. This behaviour is the source of the following dependency conflicts.\n",
            "pygit2 1.16.0 requires cffi>=1.17.0, but you have cffi 1.15.1 which is incompatible.\u001b[0m\u001b[31m\n",
            "\u001b[0mSuccessfully installed cffi-1.15.1 mip-1.15.0\n"
          ]
        }
      ],
      "source": [
        "!pip install mip"
      ]
    },
    {
      "cell_type": "markdown",
      "metadata": {
        "id": "RWFnDilGqp48"
      },
      "source": [
        "## Partitioning\n",
        "\n",
        "* Kernighan Lin Algorithm for bi-partitioning ($V'$) :\n",
        "  + $G=(V,E)$\n",
        "  + $A$, $B$ $\\subset V$\n",
        "  + $A \\cup B = V$\n",
        "  + $A\\cap B = ∅$\n",
        "  + $|A| = |B| = \\dfrac{|V|}{2}$\n",
        "  + Flowchart:\n",
        "\n",
        "    <img src=\"https://raw.githubusercontent.com/srini229/EE5333_tutorials/master/part/fig/KL_flowchart.jpg\" width=698 height=612 />\n"
      ]
    },
    {
      "cell_type": "code",
      "execution_count": 15,
      "metadata": {
        "id": "mRdE46JJsBI9"
      },
      "outputs": [],
      "source": [
        "# Vertex class to hold the partition index, neighbours, EA, EB and D values\n",
        "class Vertex:\n",
        "  def __init__(self, i, part):\n",
        "    self._id = i\n",
        "    self._nbrs = []\n",
        "    self._part = part\n",
        "    self._ea = 0\n",
        "    self._eb = 0\n",
        "    self._d  = 0\n",
        "  def reset(self, part):\n",
        "    (self._part, self._ea, self._eb, self._d) = (part, 0, 0, 0)\n",
        "  def __str__(self):\n",
        "    return '(' + str(self._id) + ',' + str(self._part) + ',' + str(self._ea) + ',' + str(self._eb) + ',' + str(self._d) + ',' + str([i._id for i in self._nbrs]) + ')'\n",
        "  def __repr__(self):\n",
        "    return str(self)\n",
        "\n",
        "# clear the partition, EA, EB and D values\n",
        "# do this at the beginning of every iteration\n",
        "def reset(V, A, B):\n",
        "  for j in range(2):\n",
        "    partition = A if (0 == j) else B\n",
        "    for i in partition:\n",
        "      V[i].reset(j)\n",
        "  for v in V:\n",
        "    assert(v._part == 0 or v._part == 1)\n",
        "    for n in v._nbrs:\n",
        "      if n._part == 0:\n",
        "        v._ea += 1\n",
        "      else:\n",
        "        v._eb += 1\n",
        "  for v in V:\n",
        "    v._d = (v._ea - v._eb) if (v._part == 1) else (v._eb - v._ea)\n",
        "\n",
        "# Choose the pair whose swap has the maximum gain in number of cuts\n",
        "def findMaxGain(V, Ap, Bp, E):\n",
        "  (amax, bmax, gmax) = (-1, -1, -2 * len(E) - 1)\n",
        "  for a in Ap:\n",
        "    for b in Bp:\n",
        "      g = V[a]._d + V[b]._d - (2 if (min(a,b), max(a,b)) in E else 0)\n",
        "      if gmax < g:\n",
        "        (amax, bmax, gmax) = (a, b, g)\n",
        "  assert(amax >= 0 and bmax >= 0)\n",
        "  return (amax, bmax, gmax)\n",
        "\n",
        "# update the E and D for only the affected neighbours of a and b\n",
        "def updateED(V, a, b):\n",
        "  V[a]._part = 1\n",
        "  V[b]._part = 0\n",
        "  for i in [a,b]:\n",
        "    for n in V[i]._nbrs:\n",
        "      if i == a:\n",
        "        n._ea -= 1\n",
        "        n._eb += 1\n",
        "      else:\n",
        "        n._ea += 1\n",
        "        n._eb -= 1\n",
        "      n._d = (n._ea - n._eb) if (n._part == 1) else (n._eb - n._ea)\n",
        "\n",
        "# N is the number of vertices; vertices are {0, 1,... N-1}\n",
        "# E is the list of edges\n",
        "# E : list of edges; edge = unordered pair of vertices\n",
        "# Return value : two sets A, B and the count of number of cuts\n",
        "def KLPart(N, E):\n",
        "  if N%2: N+= 1 # make N even if its odd by adding a single no-neighbour vertex\n",
        "  V = [Vertex(i, -1) for i in range(N)]\n",
        "  for e in E:\n",
        "    if e[0] > e[1]: e = (e[1], e[0])\n",
        "    else: e = (e[0], e[1])\n",
        "  E = set(E)\n",
        "  for e in E:\n",
        "    V[e[0]]._nbrs.append(V[e[1]])\n",
        "    V[e[1]]._nbrs.append(V[e[0]])\n",
        "  import random\n",
        "  Vc = V[:]\n",
        "  partLen = N//2\n",
        "  random.shuffle(Vc) # randomly initialize A and B\n",
        "\n",
        "  A = {Vc[i]._id for i in range(partLen)}\n",
        "  B = {Vc[i]._id for i in range(partLen, N)}\n",
        "\n",
        "  print(A)\n",
        "  print(B)\n",
        "  maxGain = 1\n",
        "  while maxGain >= 0:\n",
        "    Ap, Bp= A.copy(), B.copy()\n",
        "    reset(V, A, B)\n",
        "    G, S = [], []\n",
        "    for p in range(partLen):\n",
        "      (a, b, g) = findMaxGain(V, Ap, Bp, E)\n",
        "      updateED(V, a, b)\n",
        "      Ap.remove(a)\n",
        "      Bp.remove(b)\n",
        "      G.append(g)\n",
        "      S.append((a, b))\n",
        "    for i in range(1, len(G)):\n",
        "      G[i] += G[i-1]\n",
        "    maxGain = max(G)\n",
        "    maxIndex = G.index(maxGain)\n",
        "    if maxGain > 0:\n",
        "      for (a, b) in S[0:maxIndex + 1]:\n",
        "        A.remove(a)\n",
        "        B.remove(b)\n",
        "        A.add(b)\n",
        "        B.add(a)\n",
        "    else:\n",
        "      break\n",
        "\n",
        "  cut = 0\n",
        "  for a in A:\n",
        "    for b in B:\n",
        "      if (min(a, b), max(a,b)) in E:\n",
        "        cut += 1\n",
        "  return (A, B, cut)"
      ]
    },
    {
      "cell_type": "code",
      "execution_count": 3,
      "metadata": {
        "colab": {
          "base_uri": "https://localhost:8080/"
        },
        "id": "TDx6x3GsuxKa",
        "outputId": "73d4bac4-c534-4ff4-bb27-d44d16323991"
      },
      "outputs": [
        {
          "output_type": "stream",
          "name": "stdout",
          "text": [
            "{1, 3, 5, 7}\n",
            "{0, 2, 4, 6}\n",
            "({2, 3, 6, 7}, {0, 1, 4, 5}, 1)\n"
          ]
        }
      ],
      "source": [
        "print(KLPart(8, [(0,1), (0,4), (0,5), (1,4), (1,5), (4,5), (2,3), (2,6), (2,7), (3,6), (3,7), (6,7), (2,5)]))"
      ]
    },
    {
      "cell_type": "markdown",
      "metadata": {
        "id": "iXlhpb6Qy6Wr"
      },
      "source": [
        "## Bipartitioning using ILP\n",
        "+ $x_v$ is the indicator variable for $v$ being in $A$\n",
        "+ $x_{u,v}$ is the indicator variable for $(u,v)\\in E$ being cut\n",
        "+ <ul>\n",
        "$\\begin{align}\n",
        "        x_{u,v} = x_u \\oplus x_v\n",
        "\\end{align}$\n",
        "</ul>\n",
        "\n",
        "+ Objective: $\\min\\limits_{x_v, x_{u,v}} \\sum\\limits_{(u,v)\\in E}x_{u,v}$\n",
        "+ Subject to constraints:\n",
        "<ul>\n",
        "$\\begin{align}\n",
        "\\sum_{v\\in V} x_v&=\\frac{|V|}{2}\\\\\n",
        "x_u - x_v &\\leq x_{u,v}, &\\forall (u,v) \\in E\\\\\n",
        "x_v - x_u &\\leq x_{u,v}, &\\forall (u,v) \\in E\\\\\n",
        "x_u + x_v &\\geq x_{u,v}, &\\forall (u,v) \\in E\\\\\n",
        "x_u + x_v + x_{u,v} &\\leq 2, &\\forall (u,v) \\in E\\\\\n",
        "x_v &\\in \\{0, 1\\}, &\\forall v \\in V\\\\\n",
        "x_{u,v} &\\in \\{0, 1\\}, &\\forall (u,v) \\in E\n",
        "\\end{align}$\n",
        "</ul>\n"
      ]
    },
    {
      "cell_type": "code",
      "execution_count": 16,
      "metadata": {
        "id": "5J5avrLbvGiv"
      },
      "outputs": [],
      "source": [
        "def bipartition(N, E):\n",
        "  import mip\n",
        "  model = mip.Model(\"Bi-partition\")\n",
        "  x = [model.add_var(f\"x_{u}\", var_type = mip.BINARY) for u in range(N)]\n",
        "  x_uv = [model.add_var(f\"x_{u}_{v}\", var_type = mip.BINARY) for u,v in E]\n",
        "  model.verbose = 0\n",
        "  model.objective = mip.minimize(mip.xsum(x_uv))\n",
        "  model += (mip.xsum(x) == N//2)\n",
        "  for e, (u,v) in enumerate(E):\n",
        "  # xor constraints\n",
        "    model += (x[u] - x[v] <= x_uv[e])\n",
        "    model += (x[v] - x[u] <= x_uv[e])\n",
        "    model += (x[u] + x[v] >= x_uv[e])\n",
        "    model += (x[u] + x[v] + x_uv[e] <= 2)\n",
        "\n",
        "  model.write(\"bipartition.lp\")\n",
        "  model.optimize()\n",
        "  if model.status == mip.OptimizationStatus.OPTIMAL:\n",
        "    A = [i for i in range(N) if x[i].x >= 0.9]\n",
        "    B = [i for i in range(N) if x[i].x < 0.9]\n",
        "    return (A, B, model.objective.x)\n",
        "  return None\n",
        "\n"
      ]
    },
    {
      "cell_type": "code",
      "execution_count": 5,
      "metadata": {
        "colab": {
          "base_uri": "https://localhost:8080/"
        },
        "id": "8FNdUsrs-vn9",
        "outputId": "d9413910-e8b8-49a4-e6fc-45c3fe3cc67f"
      },
      "outputs": [
        {
          "output_type": "stream",
          "name": "stdout",
          "text": [
            "([2, 3, 6, 7], [0, 1, 4, 5], 1.0)\n"
          ]
        }
      ],
      "source": [
        "print(bipartition(8, [(0,1), (0,4), (0,5), (1,4), (1,5), (4,5), (2,3), (2,6), (2,7), (3,6), (3,7), (6,7), (2,5)]))"
      ]
    },
    {
      "cell_type": "code",
      "execution_count": 4,
      "metadata": {
        "id": "nd93RnYwxVjq"
      },
      "outputs": [],
      "source": [
        "def random_graph(N, fns):\n",
        "  import networkx as nx\n",
        "  import time\n",
        "  g = nx.erdos_renyi_graph(N, 0.4)\n",
        "  G = []\n",
        "  for fn in fns:\n",
        "    t = time.time()\n",
        "    (A,B,c) = fn(N, g.edges)\n",
        "    print(\"runtime : \", time.time() - t, 'cut size : ', c)\n",
        "    import graphviz\n",
        "    gv = graphviz.Graph()\n",
        "    A = list(A)\n",
        "    B = list(B)\n",
        "    for i in range(len(A)):\n",
        "      gv.node(str(A[i]), color='red', shape='circle')\n",
        "    for i in range(len(B)):\n",
        "      gv.node(str(B[i]), color='blue', shape='circle')\n",
        "    for e in g.edges:\n",
        "      gv.edge(str(e[0]), str(e[1]), splines='line')\n",
        "    #gv.engine = 'patchwork'\n",
        "    G.append(gv)\n",
        "  return G"
      ]
    },
    {
      "cell_type": "code",
      "execution_count": 5,
      "metadata": {
        "colab": {
          "base_uri": "https://localhost:8080/",
          "height": 981
        },
        "id": "XJrIsWs02hjm",
        "outputId": "350e54db-6be9-484b-c11e-90357c10459a"
      },
      "outputs": [
        {
          "output_type": "stream",
          "name": "stdout",
          "text": [
            "{0, 1, 2, 3, 6}\n",
            "{4, 5, 7, 8, 9}\n",
            "runtime :  0.0003790855407714844 cut size :  3\n",
            "runtime :  1.5312795639038086 cut size :  3.0\n"
          ]
        },
        {
          "output_type": "display_data",
          "data": {
            "image/svg+xml": "<?xml version=\"1.0\" encoding=\"UTF-8\" standalone=\"no\"?>\n<!DOCTYPE svg PUBLIC \"-//W3C//DTD SVG 1.1//EN\"\n \"http://www.w3.org/Graphics/SVG/1.1/DTD/svg11.dtd\">\n<!-- Generated by graphviz version 2.43.0 (0)\n -->\n<!-- Title: %3 Pages: 1 -->\n<svg width=\"224pt\" height=\"332pt\"\n viewBox=\"0.00 0.00 224.33 332.00\" xmlns=\"http://www.w3.org/2000/svg\" xmlns:xlink=\"http://www.w3.org/1999/xlink\">\n<g id=\"graph0\" class=\"graph\" transform=\"scale(1 1) rotate(0) translate(4 328)\">\n<title>%3</title>\n<polygon fill=\"white\" stroke=\"transparent\" points=\"-4,4 -4,-328 220.33,-328 220.33,4 -4,4\"/>\n<!-- 1 -->\n<g id=\"node1\" class=\"node\">\n<title>1</title>\n<ellipse fill=\"none\" stroke=\"red\" cx=\"122.33\" cy=\"-234\" rx=\"18\" ry=\"18\"/>\n<text text-anchor=\"middle\" x=\"122.33\" y=\"-230.3\" font-family=\"Times,serif\" font-size=\"14.00\">1</text>\n</g>\n<!-- 3 -->\n<g id=\"node2\" class=\"node\">\n<title>3</title>\n<ellipse fill=\"none\" stroke=\"red\" cx=\"160.33\" cy=\"-162\" rx=\"18\" ry=\"18\"/>\n<text text-anchor=\"middle\" x=\"160.33\" y=\"-158.3\" font-family=\"Times,serif\" font-size=\"14.00\">3</text>\n</g>\n<!-- 1&#45;&#45;3 -->\n<g id=\"edge4\" class=\"edge\">\n<title>1&#45;&#45;3</title>\n<path fill=\"none\" stroke=\"black\" d=\"M130.58,-217.81C136.95,-206.07 145.73,-189.89 152.1,-178.16\"/>\n</g>\n<!-- 5 -->\n<g id=\"node3\" class=\"node\">\n<title>5</title>\n<ellipse fill=\"none\" stroke=\"red\" cx=\"106.33\" cy=\"-90\" rx=\"18\" ry=\"18\"/>\n<text text-anchor=\"middle\" x=\"106.33\" y=\"-86.3\" font-family=\"Times,serif\" font-size=\"14.00\">5</text>\n</g>\n<!-- 1&#45;&#45;5 -->\n<g id=\"edge5\" class=\"edge\">\n<title>1&#45;&#45;5</title>\n<path fill=\"none\" stroke=\"black\" d=\"M120.4,-215.87C117.33,-188.58 111.35,-135.52 108.27,-108.19\"/>\n</g>\n<!-- 3&#45;&#45;5 -->\n<g id=\"edge8\" class=\"edge\">\n<title>3&#45;&#45;5</title>\n<path fill=\"none\" stroke=\"black\" d=\"M149.67,-147.17C140.2,-134.9 126.44,-117.06 116.98,-104.8\"/>\n</g>\n<!-- 7 -->\n<g id=\"node5\" class=\"node\">\n<title>7</title>\n<ellipse fill=\"none\" stroke=\"red\" cx=\"198.33\" cy=\"-90\" rx=\"18\" ry=\"18\"/>\n<text text-anchor=\"middle\" x=\"198.33\" y=\"-86.3\" font-family=\"Times,serif\" font-size=\"14.00\">7</text>\n</g>\n<!-- 3&#45;&#45;7 -->\n<g id=\"edge9\" class=\"edge\">\n<title>3&#45;&#45;7</title>\n<path fill=\"none\" stroke=\"black\" d=\"M168.58,-145.81C174.95,-134.07 183.73,-117.89 190.1,-106.16\"/>\n</g>\n<!-- 9 -->\n<g id=\"node10\" class=\"node\">\n<title>9</title>\n<ellipse fill=\"none\" stroke=\"blue\" cx=\"45.33\" cy=\"-18\" rx=\"18\" ry=\"18\"/>\n<text text-anchor=\"middle\" x=\"45.33\" y=\"-14.3\" font-family=\"Times,serif\" font-size=\"14.00\">9</text>\n</g>\n<!-- 3&#45;&#45;9 -->\n<g id=\"edge10\" class=\"edge\">\n<title>3&#45;&#45;9</title>\n<path fill=\"none\" stroke=\"black\" d=\"M158.82,-143.92C156.34,-124.67 149.9,-93.28 133.33,-72 123.47,-59.34 83.97,-38.28 61.39,-26.89\"/>\n</g>\n<!-- 6 -->\n<g id=\"node4\" class=\"node\">\n<title>6</title>\n<ellipse fill=\"none\" stroke=\"red\" cx=\"106.33\" cy=\"-18\" rx=\"18\" ry=\"18\"/>\n<text text-anchor=\"middle\" x=\"106.33\" y=\"-14.3\" font-family=\"Times,serif\" font-size=\"14.00\">6</text>\n</g>\n<!-- 5&#45;&#45;6 -->\n<g id=\"edge13\" class=\"edge\">\n<title>5&#45;&#45;6</title>\n<path fill=\"none\" stroke=\"black\" d=\"M106.33,-71.7C106.33,-60.85 106.33,-46.92 106.33,-36.1\"/>\n</g>\n<!-- 0 -->\n<g id=\"node6\" class=\"node\">\n<title>0</title>\n<ellipse fill=\"none\" stroke=\"blue\" cx=\"76.33\" cy=\"-306\" rx=\"18\" ry=\"18\"/>\n<text text-anchor=\"middle\" x=\"76.33\" y=\"-302.3\" font-family=\"Times,serif\" font-size=\"14.00\">0</text>\n</g>\n<!-- 0&#45;&#45;3 -->\n<g id=\"edge2\" class=\"edge\">\n<title>0&#45;&#45;3</title>\n<path fill=\"none\" stroke=\"black\" d=\"M92.79,-297.96C110,-289.65 136.29,-274.12 149.33,-252 162.46,-229.74 163.19,-198.93 162.08,-180.01\"/>\n</g>\n<!-- 2 -->\n<g id=\"node7\" class=\"node\">\n<title>2</title>\n<ellipse fill=\"none\" stroke=\"blue\" cx=\"30.33\" cy=\"-234\" rx=\"18\" ry=\"18\"/>\n<text text-anchor=\"middle\" x=\"30.33\" y=\"-230.3\" font-family=\"Times,serif\" font-size=\"14.00\">2</text>\n</g>\n<!-- 0&#45;&#45;2 -->\n<g id=\"edge1\" class=\"edge\">\n<title>0&#45;&#45;2</title>\n<path fill=\"none\" stroke=\"black\" d=\"M66.8,-290.5C58.91,-278.48 47.74,-261.49 39.85,-249.49\"/>\n</g>\n<!-- 8 -->\n<g id=\"node9\" class=\"node\">\n<title>8</title>\n<ellipse fill=\"none\" stroke=\"blue\" cx=\"45.33\" cy=\"-90\" rx=\"18\" ry=\"18\"/>\n<text text-anchor=\"middle\" x=\"45.33\" y=\"-86.3\" font-family=\"Times,serif\" font-size=\"14.00\">8</text>\n</g>\n<!-- 0&#45;&#45;8 -->\n<g id=\"edge3\" class=\"edge\">\n<title>0&#45;&#45;8</title>\n<path fill=\"none\" stroke=\"black\" d=\"M74.92,-287.99C72.34,-258.53 66.29,-196.15 57.33,-144 55.23,-131.73 52.1,-118.02 49.57,-107.62\"/>\n</g>\n<!-- 4 -->\n<g id=\"node8\" class=\"node\">\n<title>4</title>\n<ellipse fill=\"none\" stroke=\"blue\" cx=\"30.33\" cy=\"-162\" rx=\"18\" ry=\"18\"/>\n<text text-anchor=\"middle\" x=\"30.33\" y=\"-158.3\" font-family=\"Times,serif\" font-size=\"14.00\">4</text>\n</g>\n<!-- 2&#45;&#45;4 -->\n<g id=\"edge6\" class=\"edge\">\n<title>2&#45;&#45;4</title>\n<path fill=\"none\" stroke=\"black\" d=\"M30.33,-215.7C30.33,-204.85 30.33,-190.92 30.33,-180.1\"/>\n</g>\n<!-- 2&#45;&#45;9 -->\n<g id=\"edge7\" class=\"edge\">\n<title>2&#45;&#45;9</title>\n<path fill=\"none\" stroke=\"black\" d=\"M20.53,-218.43C14.25,-208.18 6.66,-193.86 3.33,-180 -9.61,-126.07 20.49,-62.47 36.34,-34.04\"/>\n</g>\n<!-- 4&#45;&#45;5 -->\n<g id=\"edge11\" class=\"edge\">\n<title>4&#45;&#45;5</title>\n<path fill=\"none\" stroke=\"black\" d=\"M43.23,-149.13C57.2,-136.25 79.38,-115.83 93.38,-102.93\"/>\n</g>\n<!-- 4&#45;&#45;8 -->\n<g id=\"edge12\" class=\"edge\">\n<title>4&#45;&#45;8</title>\n<path fill=\"none\" stroke=\"black\" d=\"M33.96,-144.05C36.32,-133.05 39.38,-118.76 41.74,-107.79\"/>\n</g>\n<!-- 8&#45;&#45;9 -->\n<g id=\"edge14\" class=\"edge\">\n<title>8&#45;&#45;9</title>\n<path fill=\"none\" stroke=\"black\" d=\"M45.33,-71.7C45.33,-60.85 45.33,-46.92 45.33,-36.1\"/>\n</g>\n</g>\n</svg>\n",
            "text/plain": [
              "<graphviz.graphs.Graph at 0x7ecb65c61e10>"
            ]
          },
          "metadata": {}
        },
        {
          "output_type": "display_data",
          "data": {
            "image/svg+xml": "<?xml version=\"1.0\" encoding=\"UTF-8\" standalone=\"no\"?>\n<!DOCTYPE svg PUBLIC \"-//W3C//DTD SVG 1.1//EN\"\n \"http://www.w3.org/Graphics/SVG/1.1/DTD/svg11.dtd\">\n<!-- Generated by graphviz version 2.43.0 (0)\n -->\n<!-- Title: %3 Pages: 1 -->\n<svg width=\"197pt\" height=\"332pt\"\n viewBox=\"0.00 0.00 197.46 332.00\" xmlns=\"http://www.w3.org/2000/svg\" xmlns:xlink=\"http://www.w3.org/1999/xlink\">\n<g id=\"graph0\" class=\"graph\" transform=\"scale(1 1) rotate(0) translate(4 328)\">\n<title>%3</title>\n<polygon fill=\"white\" stroke=\"transparent\" points=\"-4,4 -4,-328 193.46,-328 193.46,4 -4,4\"/>\n<!-- 0 -->\n<g id=\"node1\" class=\"node\">\n<title>0</title>\n<ellipse fill=\"none\" stroke=\"red\" cx=\"160.08\" cy=\"-306\" rx=\"18\" ry=\"18\"/>\n<text text-anchor=\"middle\" x=\"160.08\" y=\"-302.3\" font-family=\"Times,serif\" font-size=\"14.00\">0</text>\n</g>\n<!-- 2 -->\n<g id=\"node2\" class=\"node\">\n<title>2</title>\n<ellipse fill=\"none\" stroke=\"red\" cx=\"160.08\" cy=\"-234\" rx=\"18\" ry=\"18\"/>\n<text text-anchor=\"middle\" x=\"160.08\" y=\"-230.3\" font-family=\"Times,serif\" font-size=\"14.00\">2</text>\n</g>\n<!-- 0&#45;&#45;2 -->\n<g id=\"edge1\" class=\"edge\">\n<title>0&#45;&#45;2</title>\n<path fill=\"none\" stroke=\"black\" d=\"M160.08,-287.7C160.08,-276.85 160.08,-262.92 160.08,-252.1\"/>\n</g>\n<!-- 8 -->\n<g id=\"node4\" class=\"node\">\n<title>8</title>\n<ellipse fill=\"none\" stroke=\"red\" cx=\"141.08\" cy=\"-90\" rx=\"18\" ry=\"18\"/>\n<text text-anchor=\"middle\" x=\"141.08\" y=\"-86.3\" font-family=\"Times,serif\" font-size=\"14.00\">8</text>\n</g>\n<!-- 0&#45;&#45;8 -->\n<g id=\"edge3\" class=\"edge\">\n<title>0&#45;&#45;8</title>\n<path fill=\"none\" stroke=\"black\" d=\"M169.88,-290.43C176.17,-280.18 183.75,-265.86 187.08,-252 190.81,-236.44 189.14,-231.87 187.08,-216 182.82,-183.18 179.88,-174.92 168.08,-144 163,-130.69 155.55,-116.32 149.76,-105.91\"/>\n</g>\n<!-- 3 -->\n<g id=\"node7\" class=\"node\">\n<title>3</title>\n<ellipse fill=\"none\" stroke=\"blue\" cx=\"41.08\" cy=\"-162\" rx=\"18\" ry=\"18\"/>\n<text text-anchor=\"middle\" x=\"41.08\" y=\"-158.3\" font-family=\"Times,serif\" font-size=\"14.00\">3</text>\n</g>\n<!-- 0&#45;&#45;3 -->\n<g id=\"edge2\" class=\"edge\">\n<title>0&#45;&#45;3</title>\n<path fill=\"none\" stroke=\"black\" d=\"M142.61,-300.68C119.92,-294.13 80.8,-279.44 60.08,-252 44.18,-230.95 40.94,-199.49 40.61,-180.16\"/>\n</g>\n<!-- 4 -->\n<g id=\"node3\" class=\"node\">\n<title>4</title>\n<ellipse fill=\"none\" stroke=\"red\" cx=\"141.08\" cy=\"-162\" rx=\"18\" ry=\"18\"/>\n<text text-anchor=\"middle\" x=\"141.08\" y=\"-158.3\" font-family=\"Times,serif\" font-size=\"14.00\">4</text>\n</g>\n<!-- 2&#45;&#45;4 -->\n<g id=\"edge6\" class=\"edge\">\n<title>2&#45;&#45;4</title>\n<path fill=\"none\" stroke=\"black\" d=\"M155.58,-216.41C152.55,-205.25 148.57,-190.6 145.55,-179.47\"/>\n</g>\n<!-- 9 -->\n<g id=\"node5\" class=\"node\">\n<title>9</title>\n<ellipse fill=\"none\" stroke=\"red\" cx=\"141.08\" cy=\"-18\" rx=\"18\" ry=\"18\"/>\n<text text-anchor=\"middle\" x=\"141.08\" y=\"-14.3\" font-family=\"Times,serif\" font-size=\"14.00\">9</text>\n</g>\n<!-- 2&#45;&#45;9 -->\n<g id=\"edge7\" class=\"edge\">\n<title>2&#45;&#45;9</title>\n<path fill=\"none\" stroke=\"black\" d=\"M163.97,-216.26C170.18,-186.68 180.43,-123.43 168.08,-72 164.75,-58.14 157.17,-43.82 150.88,-33.57\"/>\n</g>\n<!-- 4&#45;&#45;8 -->\n<g id=\"edge12\" class=\"edge\">\n<title>4&#45;&#45;8</title>\n<path fill=\"none\" stroke=\"black\" d=\"M141.08,-143.7C141.08,-132.85 141.08,-118.92 141.08,-108.1\"/>\n</g>\n<!-- 5 -->\n<g id=\"node8\" class=\"node\">\n<title>5</title>\n<ellipse fill=\"none\" stroke=\"blue\" cx=\"87.08\" cy=\"-90\" rx=\"18\" ry=\"18\"/>\n<text text-anchor=\"middle\" x=\"87.08\" y=\"-86.3\" font-family=\"Times,serif\" font-size=\"14.00\">5</text>\n</g>\n<!-- 4&#45;&#45;5 -->\n<g id=\"edge11\" class=\"edge\">\n<title>4&#45;&#45;5</title>\n<path fill=\"none\" stroke=\"black\" d=\"M130.41,-147.17C120.94,-134.9 107.19,-117.06 97.73,-104.8\"/>\n</g>\n<!-- 8&#45;&#45;9 -->\n<g id=\"edge14\" class=\"edge\">\n<title>8&#45;&#45;9</title>\n<path fill=\"none\" stroke=\"black\" d=\"M141.08,-71.7C141.08,-60.85 141.08,-46.92 141.08,-36.1\"/>\n</g>\n<!-- 1 -->\n<g id=\"node6\" class=\"node\">\n<title>1</title>\n<ellipse fill=\"none\" stroke=\"blue\" cx=\"87.08\" cy=\"-234\" rx=\"18\" ry=\"18\"/>\n<text text-anchor=\"middle\" x=\"87.08\" y=\"-230.3\" font-family=\"Times,serif\" font-size=\"14.00\">1</text>\n</g>\n<!-- 1&#45;&#45;3 -->\n<g id=\"edge4\" class=\"edge\">\n<title>1&#45;&#45;3</title>\n<path fill=\"none\" stroke=\"black\" d=\"M77.55,-218.5C69.65,-206.48 58.49,-189.49 50.6,-177.49\"/>\n</g>\n<!-- 1&#45;&#45;5 -->\n<g id=\"edge5\" class=\"edge\">\n<title>1&#45;&#45;5</title>\n<path fill=\"none\" stroke=\"black\" d=\"M87.08,-215.87C87.08,-188.58 87.08,-135.52 87.08,-108.19\"/>\n</g>\n<!-- 3&#45;&#45;9 -->\n<g id=\"edge10\" class=\"edge\">\n<title>3&#45;&#45;9</title>\n<path fill=\"none\" stroke=\"black\" d=\"M29.04,-148.54C13.01,-130.4 -11.4,-96.24 6.08,-72 35.66,-30.95 68.34,-57.64 114.08,-36 118.29,-34.01 122.64,-31.5 126.59,-29.02\"/>\n</g>\n<!-- 3&#45;&#45;5 -->\n<g id=\"edge8\" class=\"edge\">\n<title>3&#45;&#45;5</title>\n<path fill=\"none\" stroke=\"black\" d=\"M50.61,-146.5C58.51,-134.48 69.67,-117.49 77.56,-105.49\"/>\n</g>\n<!-- 7 -->\n<g id=\"node10\" class=\"node\">\n<title>7</title>\n<ellipse fill=\"none\" stroke=\"blue\" cx=\"33.08\" cy=\"-90\" rx=\"18\" ry=\"18\"/>\n<text text-anchor=\"middle\" x=\"33.08\" y=\"-86.3\" font-family=\"Times,serif\" font-size=\"14.00\">7</text>\n</g>\n<!-- 3&#45;&#45;7 -->\n<g id=\"edge9\" class=\"edge\">\n<title>3&#45;&#45;7</title>\n<path fill=\"none\" stroke=\"black\" d=\"M39.14,-144.05C37.9,-133.21 36.3,-119.18 35.05,-108.28\"/>\n</g>\n<!-- 6 -->\n<g id=\"node9\" class=\"node\">\n<title>6</title>\n<ellipse fill=\"none\" stroke=\"blue\" cx=\"87.08\" cy=\"-18\" rx=\"18\" ry=\"18\"/>\n<text text-anchor=\"middle\" x=\"87.08\" y=\"-14.3\" font-family=\"Times,serif\" font-size=\"14.00\">6</text>\n</g>\n<!-- 5&#45;&#45;6 -->\n<g id=\"edge13\" class=\"edge\">\n<title>5&#45;&#45;6</title>\n<path fill=\"none\" stroke=\"black\" d=\"M87.08,-71.7C87.08,-60.85 87.08,-46.92 87.08,-36.1\"/>\n</g>\n</g>\n</svg>\n",
            "text/plain": [
              "<graphviz.graphs.Graph at 0x7ecb4da34250>"
            ]
          },
          "metadata": {}
        }
      ],
      "source": [
        "G = random_graph(10, [KLPart, bipartition])\n",
        "from IPython.display import display\n",
        "display(G[0], G[1])"
      ]
    },
    {
      "cell_type": "code",
      "execution_count": 8,
      "metadata": {
        "colab": {
          "base_uri": "https://localhost:8080/"
        },
        "id": "bYe2eC01VgeC",
        "outputId": "0e996d08-7e05-4939-d323-f6e973349d56"
      },
      "outputs": [
        {
          "output_type": "stream",
          "name": "stdout",
          "text": [
            "\\Problem name: Bi-partition\n",
            "\n",
            "Minimize\n",
            "OBJROW: x_0_2 + x_0_3 + x_1_2 + x_1_5 + x_1_6 + x_1_8 + x_1_9 + x_2_3 + x_2_4 + x_2_5\n",
            " + x_2_8 + x_2_9 + x_3_5 + x_3_8 + x_3_9 + x_4_7 + x_4_8 + x_4_9 + x_5_8 + x_5_9\n",
            " + x_6_9\n",
            "Subject To\n",
            "constr(0):  x_0 + x_1 + x_2 + x_3 + x_4 + x_5 + x_6 + x_7 + x_8 + x_9\n",
            " = 5\n",
            "constr(1):  x_0 - x_2 - x_0_2 <= -0\n",
            "constr(2):  - x_0 + x_2 - x_0_2 <= -0\n",
            "constr(3):  x_0 + x_2 - x_0_2 >= -0\n",
            "constr(4):  x_0 + x_2 + x_0_2 <= 2\n",
            "constr(5):  x_0 - x_3 - x_0_3 <= -0\n",
            "constr(6):  - x_0 + x_3 - x_0_3 <= -0\n",
            "constr(7):  x_0 + x_3 - x_0_3 >= -0\n",
            "constr(8):  x_0 + x_3 + x_0_3 <= 2\n",
            "constr(9):  x_1 - x_2 - x_1_2 <= -0\n",
            "constr(10):  - x_1 + x_2 - x_1_2 <= -0\n",
            "constr(11):  x_1 + x_2 - x_1_2 >= -0\n",
            "constr(12):  x_1 + x_2 + x_1_2 <= 2\n",
            "constr(13):  x_1 - x_5 - x_1_5 <= -0\n",
            "constr(14):  - x_1 + x_5 - x_1_5 <= -0\n",
            "constr(15):  x_1 + x_5 - x_1_5 >= -0\n",
            "constr(16):  x_1 + x_5 + x_1_5 <= 2\n",
            "constr(17):  x_1 - x_6 - x_1_6 <= -0\n",
            "constr(18):  - x_1 + x_6 - x_1_6 <= -0\n",
            "constr(19):  x_1 + x_6 - x_1_6 >= -0\n",
            "constr(20):  x_1 + x_6 + x_1_6 <= 2\n",
            "constr(21):  x_1 - x_8 - x_1_8 <= -0\n",
            "constr(22):  - x_1 + x_8 - x_1_8 <= -0\n",
            "constr(23):  x_1 + x_8 - x_1_8 >= -0\n",
            "constr(24):  x_1 + x_8 + x_1_8 <= 2\n",
            "constr(25):  x_1 - x_9 - x_1_9 <= -0\n",
            "constr(26):  - x_1 + x_9 - x_1_9 <= -0\n",
            "constr(27):  x_1 + x_9 - x_1_9 >= -0\n",
            "constr(28):  x_1 + x_9 + x_1_9 <= 2\n",
            "constr(29):  x_2 - x_3 - x_2_3 <= -0\n",
            "constr(30):  - x_2 + x_3 - x_2_3 <= -0\n",
            "constr(31):  x_2 + x_3 - x_2_3 >= -0\n",
            "constr(32):  x_2 + x_3 + x_2_3 <= 2\n",
            "constr(33):  x_2 - x_4 - x_2_4 <= -0\n",
            "constr(34):  - x_2 + x_4 - x_2_4 <= -0\n",
            "constr(35):  x_2 + x_4 - x_2_4 >= -0\n",
            "constr(36):  x_2 + x_4 + x_2_4 <= 2\n",
            "constr(37):  x_2 - x_5 - x_2_5 <= -0\n",
            "constr(38):  - x_2 + x_5 - x_2_5 <= -0\n",
            "constr(39):  x_2 + x_5 - x_2_5 >= -0\n",
            "constr(40):  x_2 + x_5 + x_2_5 <= 2\n",
            "constr(41):  x_2 - x_8 - x_2_8 <= -0\n",
            "constr(42):  - x_2 + x_8 - x_2_8 <= -0\n",
            "constr(43):  x_2 + x_8 - x_2_8 >= -0\n",
            "constr(44):  x_2 + x_8 + x_2_8 <= 2\n",
            "constr(45):  x_2 - x_9 - x_2_9 <= -0\n",
            "constr(46):  - x_2 + x_9 - x_2_9 <= -0\n",
            "constr(47):  x_2 + x_9 - x_2_9 >= -0\n",
            "constr(48):  x_2 + x_9 + x_2_9 <= 2\n",
            "constr(49):  x_3 - x_5 - x_3_5 <= -0\n",
            "constr(50):  - x_3 + x_5 - x_3_5 <= -0\n",
            "constr(51):  x_3 + x_5 - x_3_5 >= -0\n",
            "constr(52):  x_3 + x_5 + x_3_5 <= 2\n",
            "constr(53):  x_3 - x_8 - x_3_8 <= -0\n",
            "constr(54):  - x_3 + x_8 - x_3_8 <= -0\n",
            "constr(55):  x_3 + x_8 - x_3_8 >= -0\n",
            "constr(56):  x_3 + x_8 + x_3_8 <= 2\n",
            "constr(57):  x_3 - x_9 - x_3_9 <= -0\n",
            "constr(58):  - x_3 + x_9 - x_3_9 <= -0\n",
            "constr(59):  x_3 + x_9 - x_3_9 >= -0\n",
            "constr(60):  x_3 + x_9 + x_3_9 <= 2\n",
            "constr(61):  x_4 - x_7 - x_4_7 <= -0\n",
            "constr(62):  - x_4 + x_7 - x_4_7 <= -0\n",
            "constr(63):  x_4 + x_7 - x_4_7 >= -0\n",
            "constr(64):  x_4 + x_7 + x_4_7 <= 2\n",
            "constr(65):  x_4 - x_8 - x_4_8 <= -0\n",
            "constr(66):  - x_4 + x_8 - x_4_8 <= -0\n",
            "constr(67):  x_4 + x_8 - x_4_8 >= -0\n",
            "constr(68):  x_4 + x_8 + x_4_8 <= 2\n",
            "constr(69):  x_4 - x_9 - x_4_9 <= -0\n",
            "constr(70):  - x_4 + x_9 - x_4_9 <= -0\n",
            "constr(71):  x_4 + x_9 - x_4_9 >= -0\n",
            "constr(72):  x_4 + x_9 + x_4_9 <= 2\n",
            "constr(73):  x_5 - x_8 - x_5_8 <= -0\n",
            "constr(74):  - x_5 + x_8 - x_5_8 <= -0\n",
            "constr(75):  x_5 + x_8 - x_5_8 >= -0\n",
            "constr(76):  x_5 + x_8 + x_5_8 <= 2\n",
            "constr(77):  x_5 - x_9 - x_5_9 <= -0\n",
            "constr(78):  - x_5 + x_9 - x_5_9 <= -0\n",
            "constr(79):  x_5 + x_9 - x_5_9 >= -0\n",
            "constr(80):  x_5 + x_9 + x_5_9 <= 2\n",
            "constr(81):  x_6 - x_9 - x_6_9 <= -0\n",
            "constr(82):  - x_6 + x_9 - x_6_9 <= -0\n",
            "constr(83):  x_6 + x_9 - x_6_9 >= -0\n",
            "constr(84):  x_6 + x_9 + x_6_9 <= 2\n",
            "Bounds\n",
            " 0 <= x_0 <= 1\n",
            " 0 <= x_1 <= 1\n",
            " 0 <= x_2 <= 1\n",
            " 0 <= x_3 <= 1\n",
            " 0 <= x_4 <= 1\n",
            " 0 <= x_5 <= 1\n",
            " 0 <= x_6 <= 1\n",
            " 0 <= x_7 <= 1\n",
            " 0 <= x_8 <= 1\n",
            " 0 <= x_9 <= 1\n",
            " 0 <= x_0_2 <= 1\n",
            " 0 <= x_0_3 <= 1\n",
            " 0 <= x_1_2 <= 1\n",
            " 0 <= x_1_5 <= 1\n",
            " 0 <= x_1_6 <= 1\n",
            " 0 <= x_1_8 <= 1\n",
            " 0 <= x_1_9 <= 1\n",
            " 0 <= x_2_3 <= 1\n",
            " 0 <= x_2_4 <= 1\n",
            " 0 <= x_2_5 <= 1\n",
            " 0 <= x_2_8 <= 1\n",
            " 0 <= x_2_9 <= 1\n",
            " 0 <= x_3_5 <= 1\n",
            " 0 <= x_3_8 <= 1\n",
            " 0 <= x_3_9 <= 1\n",
            " 0 <= x_4_7 <= 1\n",
            " 0 <= x_4_8 <= 1\n",
            " 0 <= x_4_9 <= 1\n",
            " 0 <= x_5_8 <= 1\n",
            " 0 <= x_5_9 <= 1\n",
            " 0 <= x_6_9 <= 1\n",
            "Integers\n",
            "x_0 x_1 x_2 x_3 x_4 x_5 x_6 x_7 x_8 x_9 \n",
            "x_0_2 x_0_3 x_1_2 x_1_5 x_1_6 x_1_8 x_1_9 x_2_3 x_2_4 x_2_5 \n",
            "x_2_8 x_2_9 x_3_5 x_3_8 x_3_9 x_4_7 x_4_8 x_4_9 x_5_8 x_5_9 \n",
            "x_6_9 \n",
            "End\n"
          ]
        }
      ],
      "source": [
        "!cat bipartition.lp"
      ]
    },
    {
      "cell_type": "markdown",
      "source": [
        "## Bipartitioning using ILP - II\n",
        "+ $x_{v,A}$ is the indicator variable for $v$ being in $A$\n",
        "+ Similarly define $x_{v,B}$\n",
        "+ $x_{u,v,A}$ is the indicator variable for $(u,v)\\in E$ being contained in $A$\n",
        "\n",
        "+ Objective: $\\max\\limits_{x_{u,v,i}} \\sum\\limits_{(u,v)\\in E}x_{u,v,A} + x_{u,v,B}$\n",
        "+ Subject to constraints:\n",
        "<ul>\n",
        "$\\begin{align}\n",
        "\\sum_{v\\in V} x_{v,i}&=\\frac{|V|}{2}, &\\forall v \\in V\\\\\n",
        "x_{v,A}, x_{v,B} &\\in \\{0, 1\\}, &\\forall v \\in V\\\\\n",
        "x_{u,v,A} &\\leq x_{u,A}, &\\forall (u,v) \\in E\\\\\n",
        "x_{u,v,A} &\\leq x_{v,A}, &\\forall (u,v) \\in E\\\\\n",
        "x_{v,A} + x_{v,B} &=1 , &\\forall v \\in V\\\\\n",
        "x_{u,v,A}, x_{u,v,B} &\\in \\{0, 1\\}, &\\forall (u,v) \\in E\n",
        "\\end{align}$\n",
        "</ul>"
      ],
      "metadata": {
        "id": "qWWfroQk4VnI"
      }
    },
    {
      "cell_type": "code",
      "execution_count": 19,
      "metadata": {
        "id": "6YDfSu4byzuK"
      },
      "outputs": [],
      "source": [
        "def bipartition2(N, E):\n",
        "  import mip\n",
        "  model = mip.Model(\"Bi-partition2\")\n",
        "  x_a = [model.add_var(f\"x_{u}\", var_type = mip.BINARY) for u in range(N)]\n",
        "  x_b = [model.add_var(f\"x_{u}\", var_type = mip.BINARY) for u in range(N)]\n",
        "  x_uv_a = [model.add_var(f\"x_{u}_{v}\", var_type = mip.BINARY) for u,v in E]\n",
        "  x_uv_b = [model.add_var(f\"x_{u}_{v}\", var_type = mip.BINARY) for u,v in E]\n",
        "  model.verbose = 0\n",
        "  maxSum = 0\n",
        "  for e in range(len(E)):\n",
        "    maxSum += (x_uv_a[e] + x_uv_b[e])\n",
        "  model.objective = mip.maximize(maxSum)\n",
        "  model += (mip.xsum(x_a) == N//2)\n",
        "  model += (mip.xsum(x_b) == N//2)\n",
        "  for i,e in enumerate(E):\n",
        "    model += (x_uv_a[i] <= x_a[e[0]])\n",
        "    model += (x_uv_a[i] <= x_a[e[1]])\n",
        "    model += (x_uv_b[i] <= x_b[e[0]])\n",
        "    model += (x_uv_b[i] <= x_b[e[1]])\n",
        "  for v in range(N):\n",
        "    model += (x_a[v] + x_b[v] == 1)\n",
        "\n",
        "  model.write(\"bipartition2.lp\")\n",
        "  model.optimize()\n",
        "  if model.status == mip.OptimizationStatus.OPTIMAL:\n",
        "    A = [i for i in range(N) if x_a[i].x >= 0.9]\n",
        "    B = [i for i in range(N) if x_b[i].x >= 0.9]\n",
        "    return (A, B, len(E) - model.objective.x)\n",
        "  return None"
      ]
    },
    {
      "cell_type": "code",
      "source": [
        "G = random_graph(20, [KLPart, bipartition, bipartition2])\n",
        "from IPython.display import display\n",
        "display(G[0], G[1], G[2])"
      ],
      "metadata": {
        "id": "hawqhl8xXRD_",
        "colab": {
          "base_uri": "https://localhost:8080/",
          "height": 1000
        },
        "outputId": "de34f4fc-2182-40a1-a0da-2da2a734a97a"
      },
      "execution_count": 20,
      "outputs": [
        {
          "output_type": "stream",
          "name": "stdout",
          "text": [
            "{0, 1, 2, 3, 4, 8, 9, 11, 14, 16}\n",
            "{5, 6, 7, 10, 12, 13, 15, 17, 18, 19}\n",
            "runtime :  0.0028455257415771484 cut size :  27\n",
            "runtime :  5.81893253326416 cut size :  27.0\n",
            "runtime :  24.795776844024658 cut size :  27.0\n"
          ]
        },
        {
          "output_type": "display_data",
          "data": {
            "image/svg+xml": "<?xml version=\"1.0\" encoding=\"UTF-8\" standalone=\"no\"?>\n<!DOCTYPE svg PUBLIC \"-//W3C//DTD SVG 1.1//EN\"\n \"http://www.w3.org/Graphics/SVG/1.1/DTD/svg11.dtd\">\n<!-- Generated by graphviz version 2.43.0 (0)\n -->\n<!-- Title: %3 Pages: 1 -->\n<svg width=\"1207pt\" height=\"860pt\"\n viewBox=\"0.00 0.00 1207.00 859.97\" xmlns=\"http://www.w3.org/2000/svg\" xmlns:xlink=\"http://www.w3.org/1999/xlink\">\n<g id=\"graph0\" class=\"graph\" transform=\"scale(1 1) rotate(0) translate(4 855.97)\">\n<title>%3</title>\n<polygon fill=\"white\" stroke=\"transparent\" points=\"-4,4 -4,-855.97 1203,-855.97 1203,4 -4,4\"/>\n<!-- 1 -->\n<g id=\"node1\" class=\"node\">\n<title>1</title>\n<ellipse fill=\"none\" stroke=\"red\" cx=\"228\" cy=\"-689.97\" rx=\"18\" ry=\"18\"/>\n<text text-anchor=\"middle\" x=\"228\" y=\"-686.27\" font-family=\"Times,serif\" font-size=\"14.00\">1</text>\n</g>\n<!-- 6 -->\n<g id=\"node3\" class=\"node\">\n<title>6</title>\n<ellipse fill=\"none\" stroke=\"red\" cx=\"689\" cy=\"-617.97\" rx=\"18\" ry=\"18\"/>\n<text text-anchor=\"middle\" x=\"689\" y=\"-614.27\" font-family=\"Times,serif\" font-size=\"14.00\">6</text>\n</g>\n<!-- 1&#45;&#45;6 -->\n<g id=\"edge11\" class=\"edge\">\n<title>1&#45;&#45;6</title>\n<path fill=\"none\" stroke=\"black\" d=\"M245.79,-686.27C319.18,-675.13 597.98,-632.79 671.26,-621.67\"/>\n</g>\n<!-- 9 -->\n<g id=\"node5\" class=\"node\">\n<title>9</title>\n<ellipse fill=\"none\" stroke=\"red\" cx=\"603\" cy=\"-469.48\" rx=\"18\" ry=\"18\"/>\n<text text-anchor=\"middle\" x=\"603\" y=\"-465.78\" font-family=\"Times,serif\" font-size=\"14.00\">9</text>\n</g>\n<!-- 1&#45;&#45;9 -->\n<g id=\"edge12\" class=\"edge\">\n<title>1&#45;&#45;9</title>\n<path fill=\"none\" stroke=\"black\" d=\"M246.15,-689.49C291.17,-689.95 410.21,-685.99 491,-635.97 549.26,-599.91 584.29,-520.99 597.25,-486.8\"/>\n</g>\n<!-- 10 -->\n<g id=\"node6\" class=\"node\">\n<title>10</title>\n<ellipse fill=\"none\" stroke=\"red\" cx=\"300\" cy=\"-544.47\" rx=\"19.5\" ry=\"19.5\"/>\n<text text-anchor=\"middle\" x=\"300\" y=\"-540.77\" font-family=\"Times,serif\" font-size=\"14.00\">10</text>\n</g>\n<!-- 1&#45;&#45;10 -->\n<g id=\"edge13\" class=\"edge\">\n<title>1&#45;&#45;10</title>\n<path fill=\"none\" stroke=\"black\" d=\"M235.71,-673.62C249.27,-646.57 277.33,-590.66 291.46,-562.49\"/>\n</g>\n<!-- 11 -->\n<g id=\"node7\" class=\"node\">\n<title>11</title>\n<ellipse fill=\"none\" stroke=\"red\" cx=\"486\" cy=\"-469.48\" rx=\"19.5\" ry=\"19.5\"/>\n<text text-anchor=\"middle\" x=\"486\" y=\"-465.78\" font-family=\"Times,serif\" font-size=\"14.00\">11</text>\n</g>\n<!-- 1&#45;&#45;11 -->\n<g id=\"edge14\" class=\"edge\">\n<title>1&#45;&#45;11</title>\n<path fill=\"none\" stroke=\"black\" d=\"M241.51,-677.53C285.68,-640.13 425.6,-521.63 471.36,-482.87\"/>\n</g>\n<!-- 15 -->\n<g id=\"node8\" class=\"node\">\n<title>15</title>\n<ellipse fill=\"none\" stroke=\"red\" cx=\"555\" cy=\"-169.49\" rx=\"19.5\" ry=\"19.5\"/>\n<text text-anchor=\"middle\" x=\"555\" y=\"-165.79\" font-family=\"Times,serif\" font-size=\"14.00\">15</text>\n</g>\n<!-- 1&#45;&#45;15 -->\n<g id=\"edge15\" class=\"edge\">\n<title>1&#45;&#45;15</title>\n<path fill=\"none\" stroke=\"black\" d=\"M222.9,-672.61C211.43,-632.86 186.84,-528.72 217,-449.98 265.07,-324.49 308.86,-301.99 419,-224.99 456.52,-198.75 508.52,-182.47 536.08,-175.11\"/>\n</g>\n<!-- 16 -->\n<g id=\"node9\" class=\"node\">\n<title>16</title>\n<ellipse fill=\"none\" stroke=\"red\" cx=\"412\" cy=\"-94.49\" rx=\"19.5\" ry=\"19.5\"/>\n<text text-anchor=\"middle\" x=\"412\" y=\"-90.79\" font-family=\"Times,serif\" font-size=\"14.00\">16</text>\n</g>\n<!-- 1&#45;&#45;16 -->\n<g id=\"edge16\" class=\"edge\">\n<title>1&#45;&#45;16</title>\n<path fill=\"none\" stroke=\"black\" d=\"M212.08,-681.32C195.62,-672.59 170.36,-656.8 156,-635.97 88.87,-538.6 57.44,-483.71 104,-374.98 164.83,-232.94 339.19,-133.07 394.76,-104.13\"/>\n</g>\n<!-- 19 -->\n<g id=\"node10\" class=\"node\">\n<title>19</title>\n<ellipse fill=\"none\" stroke=\"red\" cx=\"132\" cy=\"-394.48\" rx=\"19.5\" ry=\"19.5\"/>\n<text text-anchor=\"middle\" x=\"132\" y=\"-390.78\" font-family=\"Times,serif\" font-size=\"14.00\">19</text>\n</g>\n<!-- 1&#45;&#45;19 -->\n<g id=\"edge17\" class=\"edge\">\n<title>1&#45;&#45;19</title>\n<path fill=\"none\" stroke=\"black\" d=\"M213.92,-678.33C202.03,-668.59 185.48,-653.12 176,-635.97 134.84,-561.49 131.16,-456.16 131.5,-413.99\"/>\n</g>\n<!-- 5 -->\n<g id=\"node14\" class=\"node\">\n<title>5</title>\n<ellipse fill=\"none\" stroke=\"blue\" cx=\"464\" cy=\"-617.97\" rx=\"18\" ry=\"18\"/>\n<text text-anchor=\"middle\" x=\"464\" y=\"-614.27\" font-family=\"Times,serif\" font-size=\"14.00\">5</text>\n</g>\n<!-- 1&#45;&#45;5 -->\n<g id=\"edge10\" class=\"edge\">\n<title>1&#45;&#45;5</title>\n<path fill=\"none\" stroke=\"black\" d=\"M243.28,-679.92C248.47,-677.1 254.37,-674.16 260,-671.97 277.69,-665.09 400.73,-634.54 446.71,-623.22\"/>\n</g>\n<!-- 4 -->\n<g id=\"node2\" class=\"node\">\n<title>4</title>\n<ellipse fill=\"none\" stroke=\"red\" cx=\"586\" cy=\"-689.97\" rx=\"18\" ry=\"18\"/>\n<text text-anchor=\"middle\" x=\"586\" y=\"-686.27\" font-family=\"Times,serif\" font-size=\"14.00\">4</text>\n</g>\n<!-- 4&#45;&#45;6 -->\n<g id=\"edge25\" class=\"edge\">\n<title>4&#45;&#45;6</title>\n<path fill=\"none\" stroke=\"black\" d=\"M600.76,-678.94C620.34,-665.64 654.7,-642.28 674.27,-628.98\"/>\n</g>\n<!-- 8 -->\n<g id=\"node4\" class=\"node\">\n<title>8</title>\n<ellipse fill=\"none\" stroke=\"red\" cx=\"735\" cy=\"-544.47\" rx=\"18\" ry=\"18\"/>\n<text text-anchor=\"middle\" x=\"735\" y=\"-540.77\" font-family=\"Times,serif\" font-size=\"14.00\">8</text>\n</g>\n<!-- 4&#45;&#45;8 -->\n<g id=\"edge26\" class=\"edge\">\n<title>4&#45;&#45;8</title>\n<path fill=\"none\" stroke=\"black\" d=\"M603.79,-686.99C632.09,-682.86 687.11,-670.6 716,-635.97 733.38,-615.14 736.09,-582.37 735.93,-562.51\"/>\n</g>\n<!-- 4&#45;&#45;10 -->\n<g id=\"edge27\" class=\"edge\">\n<title>4&#45;&#45;10</title>\n<path fill=\"none\" stroke=\"black\" d=\"M568.46,-684.24C540.02,-676.23 482.45,-658.65 437,-635.97 390.07,-612.56 339.83,-576.05 315.28,-557.37\"/>\n</g>\n<!-- 4&#45;&#45;11 -->\n<g id=\"edge28\" class=\"edge\">\n<title>4&#45;&#45;11</title>\n<path fill=\"none\" stroke=\"black\" d=\"M577.79,-673.79C565.31,-650.48 541.11,-604.32 523,-563.97 511.35,-538.01 499.54,-507.21 492.49,-488.25\"/>\n</g>\n<!-- 4&#45;&#45;15 -->\n<g id=\"edge30\" class=\"edge\">\n<title>4&#45;&#45;15</title>\n<path fill=\"none\" stroke=\"black\" d=\"M584.91,-671.97C581.25,-614.57 569.1,-422.65 560,-263.99 558.51,-238.02 556.93,-207.99 555.95,-189.12\"/>\n</g>\n<!-- 4&#45;&#45;16 -->\n<g id=\"edge31\" class=\"edge\">\n<title>4&#45;&#45;16</title>\n<path fill=\"none\" stroke=\"black\" d=\"M568.23,-686.79C530.86,-681.71 441.94,-667.12 374,-635.97 361.39,-630.19 278.38,-576.29 272,-563.97 185.69,-397.4 352.74,-169.29 400.03,-110.03\"/>\n</g>\n<!-- 4&#45;&#45;19 -->\n<g id=\"edge33\" class=\"edge\">\n<title>4&#45;&#45;19</title>\n<path fill=\"none\" stroke=\"black\" d=\"M567.88,-688.18C524.43,-685.67 411.72,-675.53 328,-635.97 226.71,-588.11 160.62,-459.26 139.4,-412.63\"/>\n</g>\n<!-- 12 -->\n<g id=\"node16\" class=\"node\">\n<title>12</title>\n<ellipse fill=\"none\" stroke=\"blue\" cx=\"886\" cy=\"-394.48\" rx=\"19.5\" ry=\"19.5\"/>\n<text text-anchor=\"middle\" x=\"886\" y=\"-390.78\" font-family=\"Times,serif\" font-size=\"14.00\">12</text>\n</g>\n<!-- 4&#45;&#45;12 -->\n<g id=\"edge29\" class=\"edge\">\n<title>4&#45;&#45;12</title>\n<path fill=\"none\" stroke=\"black\" d=\"M603.81,-686.71C634.27,-682.05 697.06,-668.9 738,-635.97 816.13,-573.14 863.88,-457.23 879.93,-413.13\"/>\n</g>\n<!-- 18 -->\n<g id=\"node20\" class=\"node\">\n<title>18</title>\n<ellipse fill=\"none\" stroke=\"blue\" cx=\"971\" cy=\"-94.49\" rx=\"19.5\" ry=\"19.5\"/>\n<text text-anchor=\"middle\" x=\"971\" y=\"-90.79\" font-family=\"Times,serif\" font-size=\"14.00\">18</text>\n</g>\n<!-- 4&#45;&#45;18 -->\n<g id=\"edge32\" class=\"edge\">\n<title>4&#45;&#45;18</title>\n<path fill=\"none\" stroke=\"black\" d=\"M603.82,-685.72C678.03,-671.04 961.43,-603.2 1022,-413.98 1057.8,-302.14 1056.29,-258.34 1011,-149.99 1004.57,-134.62 992.97,-119.53 983.91,-109.14\"/>\n</g>\n<!-- 6&#45;&#45;8 -->\n<g id=\"edge39\" class=\"edge\">\n<title>6&#45;&#45;8</title>\n<path fill=\"none\" stroke=\"black\" d=\"M698.31,-602.5C706.29,-590.1 717.73,-572.32 725.71,-559.92\"/>\n</g>\n<!-- 6&#45;&#45;9 -->\n<g id=\"edge40\" class=\"edge\">\n<title>6&#45;&#45;9</title>\n<path fill=\"none\" stroke=\"black\" d=\"M680.28,-602.12C663.8,-574.04 628.24,-513.48 611.74,-485.37\"/>\n</g>\n<!-- 6&#45;&#45;15 -->\n<g id=\"edge41\" class=\"edge\">\n<title>6&#45;&#45;15</title>\n<path fill=\"none\" stroke=\"black\" d=\"M685.35,-600.25C673.21,-545.48 631.92,-366.95 580,-224.99 575.28,-212.09 568.78,-198 563.59,-187.38\"/>\n</g>\n<!-- 6&#45;&#45;18 -->\n<g id=\"edge42\" class=\"edge\">\n<title>6&#45;&#45;18</title>\n<path fill=\"none\" stroke=\"black\" d=\"M707.15,-617.53C798,-619.28 1199,-614.61 1199,-395.48 1199,-395.48 1199,-395.48 1199,-243.49 1199,-144.39 1045.58,-108.29 990.44,-98.51\"/>\n</g>\n<!-- 8&#45;&#45;9 -->\n<g id=\"edge46\" class=\"edge\">\n<title>8&#45;&#45;9</title>\n<path fill=\"none\" stroke=\"black\" d=\"M719.6,-534.96C694.3,-520.97 644.21,-493.27 618.71,-479.17\"/>\n</g>\n<!-- 8&#45;&#45;11 -->\n<g id=\"edge47\" class=\"edge\">\n<title>8&#45;&#45;11</title>\n<path fill=\"none\" stroke=\"black\" d=\"M717.89,-538.46C672.84,-525.25 551.24,-489.6 504.58,-475.92\"/>\n</g>\n<!-- 8&#45;&#45;15 -->\n<g id=\"edge50\" class=\"edge\">\n<title>8&#45;&#45;15</title>\n<path fill=\"none\" stroke=\"black\" d=\"M727.49,-527.92C698.42,-467.67 593.32,-249.89 563.15,-187.37\"/>\n</g>\n<!-- 8&#45;&#45;12 -->\n<g id=\"edge48\" class=\"edge\">\n<title>8&#45;&#45;12</title>\n<path fill=\"none\" stroke=\"black\" d=\"M747.36,-531.36C775.25,-504.03 842.93,-437.69 872.17,-409.04\"/>\n</g>\n<!-- 13 -->\n<g id=\"node17\" class=\"node\">\n<title>13</title>\n<ellipse fill=\"none\" stroke=\"blue\" cx=\"962\" cy=\"-319.48\" rx=\"19.5\" ry=\"19.5\"/>\n<text text-anchor=\"middle\" x=\"962\" y=\"-315.78\" font-family=\"Times,serif\" font-size=\"14.00\">13</text>\n</g>\n<!-- 8&#45;&#45;13 -->\n<g id=\"edge49\" class=\"edge\">\n<title>8&#45;&#45;13</title>\n<path fill=\"none\" stroke=\"black\" d=\"M750.37,-534.43C772.13,-521.56 810.75,-498.48 824,-488.98 866.31,-458.63 881.46,-454.62 914,-413.98 933.05,-390.19 947.67,-357.65 955.54,-337.9\"/>\n</g>\n<!-- 17 -->\n<g id=\"node19\" class=\"node\">\n<title>17</title>\n<ellipse fill=\"none\" stroke=\"blue\" cx=\"412\" cy=\"-19.5\" rx=\"19.5\" ry=\"19.5\"/>\n<text text-anchor=\"middle\" x=\"412\" y=\"-15.8\" font-family=\"Times,serif\" font-size=\"14.00\">17</text>\n</g>\n<!-- 8&#45;&#45;17 -->\n<g id=\"edge51\" class=\"edge\">\n<title>8&#45;&#45;17</title>\n<path fill=\"none\" stroke=\"black\" d=\"M738.15,-526.44C746.5,-476.23 764.77,-326.01 706,-224.99 640.18,-111.87 483.82,-46.52 430.32,-26.86\"/>\n</g>\n<!-- 8&#45;&#45;18 -->\n<g id=\"edge52\" class=\"edge\">\n<title>8&#45;&#45;18</title>\n<path fill=\"none\" stroke=\"black\" d=\"M750.01,-534.08C755.28,-530.98 761.31,-527.64 767,-524.98 877.47,-473.23 1009,-517.47 1009,-395.48 1009,-395.48 1009,-395.48 1009,-243.49 1009,-194.94 989.58,-140.18 978.51,-112.89\"/>\n</g>\n<!-- 9&#45;&#45;15 -->\n<g id=\"edge55\" class=\"edge\">\n<title>9&#45;&#45;15</title>\n<path fill=\"none\" stroke=\"black\" d=\"M600.28,-451.6C591.93,-399.77 566.7,-243.11 557.99,-189.06\"/>\n</g>\n<!-- 9&#45;&#45;16 -->\n<g id=\"edge56\" class=\"edge\">\n<title>9&#45;&#45;16</title>\n<path fill=\"none\" stroke=\"black\" d=\"M591.04,-455.72C562.99,-425.12 492.56,-344.15 455,-263.99 430.92,-212.59 419.02,-145.81 414.39,-113.97\"/>\n</g>\n<!-- 9&#45;&#45;19 -->\n<g id=\"edge58\" class=\"edge\">\n<title>9&#45;&#45;19</title>\n<path fill=\"none\" stroke=\"black\" d=\"M585.67,-464.54C567.78,-460.55 539.03,-454.36 514,-449.98 375.76,-425.78 207.95,-404.69 151.55,-397.83\"/>\n</g>\n<!-- 9&#45;&#45;13 -->\n<g id=\"edge53\" class=\"edge\">\n<title>9&#45;&#45;13</title>\n<path fill=\"none\" stroke=\"black\" d=\"M620.62,-463.99C652.42,-455.67 721.27,-436.61 777,-413.98 810.59,-400.34 905.92,-350.25 944.98,-329.54\"/>\n</g>\n<!-- 14 -->\n<g id=\"node18\" class=\"node\">\n<title>14</title>\n<ellipse fill=\"none\" stroke=\"blue\" cx=\"678\" cy=\"-244.49\" rx=\"19.5\" ry=\"19.5\"/>\n<text text-anchor=\"middle\" x=\"678\" y=\"-240.79\" font-family=\"Times,serif\" font-size=\"14.00\">14</text>\n</g>\n<!-- 9&#45;&#45;14 -->\n<g id=\"edge54\" class=\"edge\">\n<title>9&#45;&#45;14</title>\n<path fill=\"none\" stroke=\"black\" d=\"M608.51,-452.08C622.25,-411.25 657.89,-305.27 672.06,-263.14\"/>\n</g>\n<!-- 9&#45;&#45;18 -->\n<g id=\"edge57\" class=\"edge\">\n<title>9&#45;&#45;18</title>\n<path fill=\"none\" stroke=\"black\" d=\"M615.24,-456.07C670.87,-399.69 899.53,-167.93 957.56,-109.11\"/>\n</g>\n<!-- 10&#45;&#45;11 -->\n<g id=\"edge59\" class=\"edge\">\n<title>10&#45;&#45;11</title>\n<path fill=\"none\" stroke=\"black\" d=\"M317.83,-536.47C353.3,-522.56 432.31,-491.55 467.95,-477.56\"/>\n</g>\n<!-- 10&#45;&#45;15 -->\n<g id=\"edge60\" class=\"edge\">\n<title>10&#45;&#45;15</title>\n<path fill=\"none\" stroke=\"black\" d=\"M304.36,-525.16C317.86,-472.1 363.63,-316.24 455,-224.99 478.78,-201.24 515.08,-185 536.78,-176.77\"/>\n</g>\n<!-- 10&#45;&#45;16 -->\n<g id=\"edge61\" class=\"edge\">\n<title>10&#45;&#45;16</title>\n<path fill=\"none\" stroke=\"black\" d=\"M301.05,-524.71C302.33,-505.72 304.98,-475.61 310,-449.98 335.78,-318.32 387.68,-164.75 405.68,-113.3\"/>\n</g>\n<!-- 11&#45;&#45;12 -->\n<g id=\"edge62\" class=\"edge\">\n<title>11&#45;&#45;12</title>\n<path fill=\"none\" stroke=\"black\" d=\"M504.93,-464.42C523.12,-460.56 551.4,-454.67 576,-449.98 685.77,-429.05 817.99,-406.78 866.74,-398.67\"/>\n</g>\n<!-- 11&#45;&#45;17 -->\n<g id=\"edge63\" class=\"edge\">\n<title>11&#45;&#45;17</title>\n<path fill=\"none\" stroke=\"black\" d=\"M479.12,-451.15C459.39,-400.39 402.78,-247.16 384,-113.99 381.58,-96.83 379.93,-91.84 384,-75 387.35,-61.14 394.87,-46.86 401.27,-36.39\"/>\n</g>\n<!-- 15&#45;&#45;16 -->\n<g id=\"edge74\" class=\"edge\">\n<title>15&#45;&#45;16</title>\n<path fill=\"none\" stroke=\"black\" d=\"M538.03,-159.83C510.51,-145.78 456.45,-118.19 428.94,-104.14\"/>\n</g>\n<!-- 15&#45;&#45;18 -->\n<g id=\"edge75\" class=\"edge\">\n<title>15&#45;&#45;18</title>\n<path fill=\"none\" stroke=\"black\" d=\"M574.23,-165.12C643.9,-152.89 882.63,-111 951.97,-98.83\"/>\n</g>\n<!-- 16&#45;&#45;17 -->\n<g id=\"edge76\" class=\"edge\">\n<title>16&#45;&#45;17</title>\n<path fill=\"none\" stroke=\"black\" d=\"M412,-74.7C412,-63.8 412,-50.12 412,-39.23\"/>\n</g>\n<!-- 0 -->\n<g id=\"node11\" class=\"node\">\n<title>0</title>\n<ellipse fill=\"none\" stroke=\"blue\" cx=\"274\" cy=\"-833.97\" rx=\"18\" ry=\"18\"/>\n<text text-anchor=\"middle\" x=\"274\" y=\"-830.27\" font-family=\"Times,serif\" font-size=\"14.00\">0</text>\n</g>\n<!-- 0&#45;&#45;1 -->\n<g id=\"edge1\" class=\"edge\">\n<title>0&#45;&#45;1</title>\n<path fill=\"none\" stroke=\"black\" d=\"M268.72,-816.68C259.9,-789.44 242.24,-734.92 233.36,-707.51\"/>\n</g>\n<!-- 0&#45;&#45;10 -->\n<g id=\"edge5\" class=\"edge\">\n<title>0&#45;&#45;10</title>\n<path fill=\"none\" stroke=\"black\" d=\"M261.66,-820.85C236.44,-794.56 182.84,-729.96 201,-671.97 216.5,-622.47 261.74,-578.12 285.32,-557.57\"/>\n</g>\n<!-- 0&#45;&#45;19 -->\n<g id=\"edge9\" class=\"edge\">\n<title>0&#45;&#45;19</title>\n<path fill=\"none\" stroke=\"black\" d=\"M258.44,-824.9C242.6,-815.93 218.39,-800.04 204,-779.97 126.09,-671.36 135.1,-622.46 128,-488.98 126.62,-463.02 128.53,-432.99 130.15,-414.11\"/>\n</g>\n<!-- 2 -->\n<g id=\"node12\" class=\"node\">\n<title>2</title>\n<ellipse fill=\"none\" stroke=\"blue\" cx=\"712\" cy=\"-761.97\" rx=\"18\" ry=\"18\"/>\n<text text-anchor=\"middle\" x=\"712\" y=\"-758.27\" font-family=\"Times,serif\" font-size=\"14.00\">2</text>\n</g>\n<!-- 0&#45;&#45;2 -->\n<g id=\"edge2\" class=\"edge\">\n<title>0&#45;&#45;2</title>\n<path fill=\"none\" stroke=\"black\" d=\"M291.71,-830.14C362.29,-818.86 623.09,-777.18 694.07,-765.84\"/>\n</g>\n<!-- 0&#45;&#45;5 -->\n<g id=\"edge3\" class=\"edge\">\n<title>0&#45;&#45;5</title>\n<path fill=\"none\" stroke=\"black\" d=\"M285.6,-819.91C319.6,-781.61 418.75,-669.94 452.55,-631.87\"/>\n</g>\n<!-- 7 -->\n<g id=\"node15\" class=\"node\">\n<title>7</title>\n<ellipse fill=\"none\" stroke=\"blue\" cx=\"1093\" cy=\"-469.48\" rx=\"18\" ry=\"18\"/>\n<text text-anchor=\"middle\" x=\"1093\" y=\"-465.78\" font-family=\"Times,serif\" font-size=\"14.00\">7</text>\n</g>\n<!-- 0&#45;&#45;7 -->\n<g id=\"edge4\" class=\"edge\">\n<title>0&#45;&#45;7</title>\n<path fill=\"none\" stroke=\"black\" d=\"M292.18,-832.4C396.88,-828.97 920.58,-810.41 985,-779.97 1034.46,-756.61 1070,-745.67 1070,-690.97 1070,-690.97 1070,-690.97 1070,-616.97 1070,-569.34 1082.01,-514.05 1088.67,-487.04\"/>\n</g>\n<!-- 0&#45;&#45;12 -->\n<g id=\"edge6\" class=\"edge\">\n<title>0&#45;&#45;12</title>\n<path fill=\"none\" stroke=\"black\" d=\"M292.25,-833.37C355.67,-834.25 571.67,-832.91 739,-779.97 802.71,-759.81 835.52,-764.6 871,-707.97 931.27,-611.78 903.13,-464.37 890.76,-413.49\"/>\n</g>\n<!-- 0&#45;&#45;13 -->\n<g id=\"edge7\" class=\"edge\">\n<title>0&#45;&#45;13</title>\n<path fill=\"none\" stroke=\"black\" d=\"M292.07,-832.98C393.05,-832.86 888.23,-829.69 1031,-779.97 1097.13,-756.94 1161,-760.99 1161,-690.97 1161,-690.97 1161,-690.97 1161,-468.48 1161,-379.35 1030.89,-337.6 981.08,-324.88\"/>\n</g>\n<!-- 0&#45;&#45;17 -->\n<g id=\"edge8\" class=\"edge\">\n<title>0&#45;&#45;17</title>\n<path fill=\"none\" stroke=\"black\" d=\"M256.02,-832.13C195.06,-828.23 0,-806.7 0,-690.97 0,-690.97 0,-690.97 0,-168.49 0,-83.94 311.23,-34.57 392.68,-23.09\"/>\n</g>\n<!-- 2&#45;&#45;6 -->\n<g id=\"edge19\" class=\"edge\">\n<title>2&#45;&#45;6</title>\n<path fill=\"none\" stroke=\"black\" d=\"M709.27,-744.13C704.84,-716.8 696.15,-663.11 691.73,-635.8\"/>\n</g>\n<!-- 2&#45;&#45;10 -->\n<g id=\"edge21\" class=\"edge\">\n<title>2&#45;&#45;10</title>\n<path fill=\"none\" stroke=\"black\" d=\"M694.24,-757.94C641.16,-748.17 480.8,-713.56 374,-635.97 345.76,-615.46 322.06,-581.66 309.55,-561.68\"/>\n</g>\n<!-- 3 -->\n<g id=\"node13\" class=\"node\">\n<title>3</title>\n<ellipse fill=\"none\" stroke=\"blue\" cx=\"735\" cy=\"-689.97\" rx=\"18\" ry=\"18\"/>\n<text text-anchor=\"middle\" x=\"735\" y=\"-686.27\" font-family=\"Times,serif\" font-size=\"14.00\">3</text>\n</g>\n<!-- 2&#45;&#45;3 -->\n<g id=\"edge18\" class=\"edge\">\n<title>2&#45;&#45;3</title>\n<path fill=\"none\" stroke=\"black\" d=\"M717.33,-744.74C721,-733.59 725.84,-718.84 729.53,-707.61\"/>\n</g>\n<!-- 2&#45;&#45;7 -->\n<g id=\"edge20\" class=\"edge\">\n<title>2&#45;&#45;7</title>\n<path fill=\"none\" stroke=\"black\" d=\"M729.95,-757.99C760.79,-752.25 824.96,-737.51 871,-707.97 970.52,-644.12 1055.83,-525.72 1083.54,-484.82\"/>\n</g>\n<!-- 2&#45;&#45;14 -->\n<g id=\"edge22\" class=\"edge\">\n<title>2&#45;&#45;14</title>\n<path fill=\"none\" stroke=\"black\" d=\"M726.54,-750.69C738.61,-741.18 754.9,-725.84 762,-707.97 792.03,-632.39 773.83,-605.44 762,-524.98 746.97,-422.72 702.55,-305.96 685.13,-262.74\"/>\n</g>\n<!-- 3&#45;&#45;6 -->\n<g id=\"edge23\" class=\"edge\">\n<title>3&#45;&#45;6</title>\n<path fill=\"none\" stroke=\"black\" d=\"M725.47,-674.47C717.57,-662.45 706.41,-645.47 698.52,-633.46\"/>\n</g>\n<!-- 3&#45;&#45;13 -->\n<g id=\"edge24\" class=\"edge\">\n<title>3&#45;&#45;13</title>\n<path fill=\"none\" stroke=\"black\" d=\"M747.36,-676.51C783.08,-639.76 887.21,-527.34 940,-413.98 951.4,-389.49 957.19,-358.56 959.89,-339.14\"/>\n</g>\n<!-- 5&#45;&#45;9 -->\n<g id=\"edge34\" class=\"edge\">\n<title>5&#45;&#45;9</title>\n<path fill=\"none\" stroke=\"black\" d=\"M476.09,-604.23C502.38,-576.52 564.48,-511.07 590.84,-483.3\"/>\n</g>\n<!-- 5&#45;&#45;10 -->\n<g id=\"edge35\" class=\"edge\">\n<title>5&#45;&#45;10</title>\n<path fill=\"none\" stroke=\"black\" d=\"M448.59,-608.23C443.4,-605.43 437.52,-602.43 432,-599.97 389.22,-580.94 375.56,-583.48 333,-563.97 327.51,-561.45 321.7,-558.36 316.51,-555.42\"/>\n</g>\n<!-- 5&#45;&#45;15 -->\n<g id=\"edge37\" class=\"edge\">\n<title>5&#45;&#45;15</title>\n<path fill=\"none\" stroke=\"black\" d=\"M455.78,-601.71C450.69,-591.39 444.65,-577.26 442,-563.97 439.7,-552.42 440.14,-474.55 443,-449.98 454.86,-348.23 440.85,-313.15 493,-224.99 504.24,-205.99 524.39,-190.13 538.67,-180.51\"/>\n</g>\n<!-- 5&#45;&#45;14 -->\n<g id=\"edge36\" class=\"edge\">\n<title>5&#45;&#45;14</title>\n<path fill=\"none\" stroke=\"black\" d=\"M458.89,-600.45C450.25,-569.44 435.75,-501.04 458,-449.98 500.91,-351.5 617.22,-279.1 661.01,-254.57\"/>\n</g>\n<!-- 5&#45;&#45;17 -->\n<g id=\"edge38\" class=\"edge\">\n<title>5&#45;&#45;17</title>\n<path fill=\"none\" stroke=\"black\" d=\"M454.42,-602.29C448.17,-591.98 440.37,-577.65 436,-563.97 374.6,-371.84 389.04,-315.34 377,-113.99 375.97,-96.69 372.12,-91.63 377,-75 381.43,-59.89 391.48,-45.01 399.68,-34.62\"/>\n</g>\n<!-- 7&#45;&#45;12 -->\n<g id=\"edge43\" class=\"edge\">\n<title>7&#45;&#45;12</title>\n<path fill=\"none\" stroke=\"black\" d=\"M1076.06,-462.5C1037.53,-448.92 943.63,-415.8 904.06,-401.85\"/>\n</g>\n<!-- 7&#45;&#45;13 -->\n<g id=\"edge44\" class=\"edge\">\n<title>7&#45;&#45;13</title>\n<path fill=\"none\" stroke=\"black\" d=\"M1081.37,-455.34C1056.83,-427.61 999.89,-363.29 974.55,-334.67\"/>\n</g>\n<!-- 7&#45;&#45;18 -->\n<g id=\"edge45\" class=\"edge\">\n<title>7&#45;&#45;18</title>\n<path fill=\"none\" stroke=\"black\" d=\"M1098.5,-452.27C1107.16,-425.28 1123,-369.25 1123,-320.48 1123,-320.48 1123,-320.48 1123,-243.49 1123,-169.27 1028.83,-120.2 988.73,-102.67\"/>\n</g>\n<!-- 12&#45;&#45;15 -->\n<g id=\"edge65\" class=\"edge\">\n<title>12&#45;&#45;15</title>\n<path fill=\"none\" stroke=\"black\" d=\"M874.01,-378.76C847.12,-346.61 778.65,-269.47 706,-224.99 662.5,-198.36 604.03,-181.95 574.22,-174.76\"/>\n</g>\n<!-- 12&#45;&#45;13 -->\n<g id=\"edge64\" class=\"edge\">\n<title>12&#45;&#45;13</title>\n<path fill=\"none\" stroke=\"black\" d=\"M899.59,-380.43C913.34,-367.23 934.48,-346.92 948.27,-333.67\"/>\n</g>\n<!-- 12&#45;&#45;17 -->\n<g id=\"edge66\" class=\"edge\">\n<title>12&#45;&#45;17</title>\n<path fill=\"none\" stroke=\"black\" d=\"M884.58,-374.68C879.28,-318.88 855.56,-153.29 757,-75 705.96,-34.45 497.31,-23.57 431.79,-21.12\"/>\n</g>\n<!-- 12&#45;&#45;18 -->\n<g id=\"edge67\" class=\"edge\">\n<title>12&#45;&#45;18</title>\n<path fill=\"none\" stroke=\"black\" d=\"M891.19,-375.29C906.4,-321.96 950.76,-166.47 965.88,-113.45\"/>\n</g>\n<!-- 13&#45;&#45;16 -->\n<g id=\"edge69\" class=\"edge\">\n<title>13&#45;&#45;16</title>\n<path fill=\"none\" stroke=\"black\" d=\"M944.91,-310.07C891.96,-284.2 725.69,-204.26 583,-149.99 528.54,-129.28 462.4,-109.75 430.7,-100.72\"/>\n</g>\n<!-- 13&#45;&#45;14 -->\n<g id=\"edge68\" class=\"edge\">\n<title>13&#45;&#45;14</title>\n<path fill=\"none\" stroke=\"black\" d=\"M943.37,-313.69C891.91,-300.47 748.24,-263.54 696.7,-250.3\"/>\n</g>\n<!-- 13&#45;&#45;17 -->\n<g id=\"edge70\" class=\"edge\">\n<title>13&#45;&#45;17</title>\n<path fill=\"none\" stroke=\"black\" d=\"M971.92,-302.64C997.34,-259.81 1058.77,-140.57 999,-75 959.92,-32.12 529.54,-22.44 431.71,-20.79\"/>\n</g>\n<!-- 13&#45;&#45;18 -->\n<g id=\"edge71\" class=\"edge\">\n<title>13&#45;&#45;18</title>\n<path fill=\"none\" stroke=\"black\" d=\"M962.75,-299.86C964.45,-257.88 968.55,-156.3 970.24,-114.23\"/>\n</g>\n<!-- 14&#45;&#45;15 -->\n<g id=\"edge72\" class=\"edge\">\n<title>14&#45;&#45;15</title>\n<path fill=\"none\" stroke=\"black\" d=\"M661.67,-233.79C638.14,-219.83 594.96,-194.21 571.4,-180.22\"/>\n</g>\n<!-- 14&#45;&#45;18 -->\n<g id=\"edge73\" class=\"edge\">\n<title>14&#45;&#45;18</title>\n<path fill=\"none\" stroke=\"black\" d=\"M695.02,-234.89C746.8,-208.73 902.09,-130.3 953.93,-104.11\"/>\n</g>\n</g>\n</svg>\n",
            "text/plain": [
              "<graphviz.graphs.Graph at 0x7ecb66a31d50>"
            ]
          },
          "metadata": {}
        },
        {
          "output_type": "display_data",
          "data": {
            "image/svg+xml": "<?xml version=\"1.0\" encoding=\"UTF-8\" standalone=\"no\"?>\n<!DOCTYPE svg PUBLIC \"-//W3C//DTD SVG 1.1//EN\"\n \"http://www.w3.org/Graphics/SVG/1.1/DTD/svg11.dtd\">\n<!-- Generated by graphviz version 2.43.0 (0)\n -->\n<!-- Title: %3 Pages: 1 -->\n<svg width=\"1188pt\" height=\"860pt\"\n viewBox=\"0.00 0.00 1188.00 859.97\" xmlns=\"http://www.w3.org/2000/svg\" xmlns:xlink=\"http://www.w3.org/1999/xlink\">\n<g id=\"graph0\" class=\"graph\" transform=\"scale(1 1) rotate(0) translate(4 855.97)\">\n<title>%3</title>\n<polygon fill=\"white\" stroke=\"transparent\" points=\"-4,4 -4,-855.97 1184,-855.97 1184,4 -4,4\"/>\n<!-- 0 -->\n<g id=\"node1\" class=\"node\">\n<title>0</title>\n<ellipse fill=\"none\" stroke=\"red\" cx=\"735\" cy=\"-833.97\" rx=\"18\" ry=\"18\"/>\n<text text-anchor=\"middle\" x=\"735\" y=\"-830.27\" font-family=\"Times,serif\" font-size=\"14.00\">0</text>\n</g>\n<!-- 1 -->\n<g id=\"node2\" class=\"node\">\n<title>1</title>\n<ellipse fill=\"none\" stroke=\"red\" cx=\"266\" cy=\"-689.97\" rx=\"18\" ry=\"18\"/>\n<text text-anchor=\"middle\" x=\"266\" y=\"-686.27\" font-family=\"Times,serif\" font-size=\"14.00\">1</text>\n</g>\n<!-- 0&#45;&#45;1 -->\n<g id=\"edge1\" class=\"edge\">\n<title>0&#45;&#45;1</title>\n<path fill=\"none\" stroke=\"black\" d=\"M716.93,-833.22C642.99,-833.87 364.18,-832.74 298,-779.97 276.05,-762.47 269.14,-728.64 266.98,-708.1\"/>\n</g>\n<!-- 2 -->\n<g id=\"node3\" class=\"node\">\n<title>2</title>\n<ellipse fill=\"none\" stroke=\"red\" cx=\"735\" cy=\"-761.97\" rx=\"18\" ry=\"18\"/>\n<text text-anchor=\"middle\" x=\"735\" y=\"-758.27\" font-family=\"Times,serif\" font-size=\"14.00\">2</text>\n</g>\n<!-- 0&#45;&#45;2 -->\n<g id=\"edge2\" class=\"edge\">\n<title>0&#45;&#45;2</title>\n<path fill=\"none\" stroke=\"black\" d=\"M735,-815.67C735,-804.82 735,-790.89 735,-780.08\"/>\n</g>\n<!-- 5 -->\n<g id=\"node4\" class=\"node\">\n<title>5</title>\n<ellipse fill=\"none\" stroke=\"red\" cx=\"350\" cy=\"-617.97\" rx=\"18\" ry=\"18\"/>\n<text text-anchor=\"middle\" x=\"350\" y=\"-614.27\" font-family=\"Times,serif\" font-size=\"14.00\">5</text>\n</g>\n<!-- 0&#45;&#45;5 -->\n<g id=\"edge3\" class=\"edge\">\n<title>0&#45;&#45;5</title>\n<path fill=\"none\" stroke=\"black\" d=\"M719.43,-824.32C657.25,-789.76 427.11,-661.83 365.34,-627.5\"/>\n</g>\n<!-- 10 -->\n<g id=\"node6\" class=\"node\">\n<title>10</title>\n<ellipse fill=\"none\" stroke=\"red\" cx=\"295\" cy=\"-544.47\" rx=\"19.5\" ry=\"19.5\"/>\n<text text-anchor=\"middle\" x=\"295\" y=\"-540.77\" font-family=\"Times,serif\" font-size=\"14.00\">10</text>\n</g>\n<!-- 0&#45;&#45;10 -->\n<g id=\"edge5\" class=\"edge\">\n<title>0&#45;&#45;10</title>\n<path fill=\"none\" stroke=\"black\" d=\"M716.92,-833.26C640.26,-834.12 342.57,-833.87 270,-779.97 229.91,-750.2 228.67,-720.83 239,-671.97 247.89,-629.91 271.73,-584.82 285.26,-561.51\"/>\n</g>\n<!-- 19 -->\n<g id=\"node10\" class=\"node\">\n<title>19</title>\n<ellipse fill=\"none\" stroke=\"red\" cx=\"67\" cy=\"-394.48\" rx=\"19.5\" ry=\"19.5\"/>\n<text text-anchor=\"middle\" x=\"67\" y=\"-390.78\" font-family=\"Times,serif\" font-size=\"14.00\">19</text>\n</g>\n<!-- 0&#45;&#45;19 -->\n<g id=\"edge9\" class=\"edge\">\n<title>0&#45;&#45;19</title>\n<path fill=\"none\" stroke=\"black\" d=\"M717.01,-832.72C651.47,-831.46 419.69,-823.96 235,-779.97 126.36,-754.1 0,-802.66 0,-690.97 0,-690.97 0,-690.97 0,-616.97 0,-537.43 40.08,-448.43 58.24,-412.19\"/>\n</g>\n<!-- 7 -->\n<g id=\"node14\" class=\"node\">\n<title>7</title>\n<ellipse fill=\"none\" stroke=\"blue\" cx=\"1096\" cy=\"-469.48\" rx=\"18\" ry=\"18\"/>\n<text text-anchor=\"middle\" x=\"1096\" y=\"-465.78\" font-family=\"Times,serif\" font-size=\"14.00\">7</text>\n</g>\n<!-- 0&#45;&#45;7 -->\n<g id=\"edge4\" class=\"edge\">\n<title>0&#45;&#45;7</title>\n<path fill=\"none\" stroke=\"black\" d=\"M753.13,-831.9C814.16,-828.02 1011.22,-813.14 1064,-779.97 1104.82,-754.32 1126,-739.18 1126,-690.97 1126,-690.97 1126,-690.97 1126,-616.97 1126,-568.94 1110.33,-513.83 1101.64,-486.95\"/>\n</g>\n<!-- 12 -->\n<g id=\"node17\" class=\"node\">\n<title>12</title>\n<ellipse fill=\"none\" stroke=\"blue\" cx=\"997\" cy=\"-394.48\" rx=\"19.5\" ry=\"19.5\"/>\n<text text-anchor=\"middle\" x=\"997\" y=\"-390.78\" font-family=\"Times,serif\" font-size=\"14.00\">12</text>\n</g>\n<!-- 0&#45;&#45;12 -->\n<g id=\"edge6\" class=\"edge\">\n<title>0&#45;&#45;12</title>\n<path fill=\"none\" stroke=\"black\" d=\"M753.3,-833.16C820.53,-832.82 1050,-822.04 1050,-690.97 1050,-690.97 1050,-690.97 1050,-543.47 1050,-492.99 1022.32,-438.18 1006.97,-411.67\"/>\n</g>\n<!-- 13 -->\n<g id=\"node18\" class=\"node\">\n<title>13</title>\n<ellipse fill=\"none\" stroke=\"blue\" cx=\"905\" cy=\"-319.48\" rx=\"19.5\" ry=\"19.5\"/>\n<text text-anchor=\"middle\" x=\"905\" y=\"-315.78\" font-family=\"Times,serif\" font-size=\"14.00\">13</text>\n</g>\n<!-- 0&#45;&#45;13 -->\n<g id=\"edge7\" class=\"edge\">\n<title>0&#45;&#45;13</title>\n<path fill=\"none\" stroke=\"black\" d=\"M752.96,-831C808.55,-823.81 974,-793.78 974,-690.97 974,-690.97 974,-690.97 974,-616.97 974,-508.37 929.54,-383.07 912,-337.87\"/>\n</g>\n<!-- 17 -->\n<g id=\"node19\" class=\"node\">\n<title>17</title>\n<ellipse fill=\"none\" stroke=\"blue\" cx=\"760\" cy=\"-19.5\" rx=\"19.5\" ry=\"19.5\"/>\n<text text-anchor=\"middle\" x=\"760\" y=\"-15.8\" font-family=\"Times,serif\" font-size=\"14.00\">17</text>\n</g>\n<!-- 0&#45;&#45;17 -->\n<g id=\"edge8\" class=\"edge\">\n<title>0&#45;&#45;17</title>\n<path fill=\"none\" stroke=\"black\" d=\"M753.12,-831.97C818.06,-828.11 1038.6,-812.83 1100,-779.97 1146.89,-754.88 1180,-744.16 1180,-690.97 1180,-690.97 1180,-690.97 1180,-168.49 1180,-82.39 862.02,-34.08 779.42,-22.98\"/>\n</g>\n<!-- 1&#45;&#45;5 -->\n<g id=\"edge10\" class=\"edge\">\n<title>1&#45;&#45;5</title>\n<path fill=\"none\" stroke=\"black\" d=\"M279.5,-677.73C295.17,-664.66 320.88,-643.24 336.54,-630.19\"/>\n</g>\n<!-- 9 -->\n<g id=\"node5\" class=\"node\">\n<title>9</title>\n<ellipse fill=\"none\" stroke=\"red\" cx=\"547\" cy=\"-469.48\" rx=\"18\" ry=\"18\"/>\n<text text-anchor=\"middle\" x=\"547\" y=\"-465.78\" font-family=\"Times,serif\" font-size=\"14.00\">9</text>\n</g>\n<!-- 1&#45;&#45;9 -->\n<g id=\"edge12\" class=\"edge\">\n<title>1&#45;&#45;9</title>\n<path fill=\"none\" stroke=\"black\" d=\"M283.01,-683.98C308.91,-675.98 359.31,-658.84 398,-635.97 441.5,-610.26 452.24,-601.58 486,-563.97 508.4,-539.02 528.38,-505.1 538.98,-485.72\"/>\n</g>\n<!-- 1&#45;&#45;10 -->\n<g id=\"edge13\" class=\"edge\">\n<title>1&#45;&#45;10</title>\n<path fill=\"none\" stroke=\"black\" d=\"M269.38,-672.23C274.85,-645.17 285.59,-592.03 291.27,-563.92\"/>\n</g>\n<!-- 15 -->\n<g id=\"node8\" class=\"node\">\n<title>15</title>\n<ellipse fill=\"none\" stroke=\"red\" cx=\"494\" cy=\"-169.49\" rx=\"19.5\" ry=\"19.5\"/>\n<text text-anchor=\"middle\" x=\"494\" y=\"-165.79\" font-family=\"Times,serif\" font-size=\"14.00\">15</text>\n</g>\n<!-- 1&#45;&#45;15 -->\n<g id=\"edge15\" class=\"edge\">\n<title>1&#45;&#45;15</title>\n<path fill=\"none\" stroke=\"black\" d=\"M253.8,-676.39C224.39,-644.68 152,-557.76 152,-470.48 152,-470.48 152,-470.48 152,-393.48 152,-238.25 402.28,-185.42 474.63,-173.39\"/>\n</g>\n<!-- 16 -->\n<g id=\"node9\" class=\"node\">\n<title>16</title>\n<ellipse fill=\"none\" stroke=\"red\" cx=\"304\" cy=\"-94.49\" rx=\"19.5\" ry=\"19.5\"/>\n<text text-anchor=\"middle\" x=\"304\" y=\"-90.79\" font-family=\"Times,serif\" font-size=\"14.00\">16</text>\n</g>\n<!-- 1&#45;&#45;16 -->\n<g id=\"edge16\" class=\"edge\">\n<title>1&#45;&#45;16</title>\n<path fill=\"none\" stroke=\"black\" d=\"M247.97,-689.43C210.49,-689.36 123.68,-683.7 76,-635.97 -6.8,-553.09 7.36,-487.78 39,-374.98 70.62,-262.26 87.46,-226.59 176,-149.99 208.7,-121.71 258.25,-106.33 285.1,-99.64\"/>\n</g>\n<!-- 1&#45;&#45;19 -->\n<g id=\"edge17\" class=\"edge\">\n<title>1&#45;&#45;19</title>\n<path fill=\"none\" stroke=\"black\" d=\"M247.88,-689.05C213.23,-688.13 137.67,-680.78 100,-635.97 44.95,-570.49 56.45,-457.64 63.58,-413.72\"/>\n</g>\n<!-- 6 -->\n<g id=\"node13\" class=\"node\">\n<title>6</title>\n<ellipse fill=\"none\" stroke=\"blue\" cx=\"682\" cy=\"-617.97\" rx=\"18\" ry=\"18\"/>\n<text text-anchor=\"middle\" x=\"682\" y=\"-614.27\" font-family=\"Times,serif\" font-size=\"14.00\">6</text>\n</g>\n<!-- 1&#45;&#45;6 -->\n<g id=\"edge11\" class=\"edge\">\n<title>1&#45;&#45;6</title>\n<path fill=\"none\" stroke=\"black\" d=\"M283.61,-686.01C351.5,-674.59 595.85,-633.47 664.15,-621.98\"/>\n</g>\n<!-- 11 -->\n<g id=\"node16\" class=\"node\">\n<title>11</title>\n<ellipse fill=\"none\" stroke=\"blue\" cx=\"389\" cy=\"-469.48\" rx=\"19.5\" ry=\"19.5\"/>\n<text text-anchor=\"middle\" x=\"389\" y=\"-465.78\" font-family=\"Times,serif\" font-size=\"14.00\">11</text>\n</g>\n<!-- 1&#45;&#45;11 -->\n<g id=\"edge14\" class=\"edge\">\n<title>1&#45;&#45;11</title>\n<path fill=\"none\" stroke=\"black\" d=\"M283.81,-686.13C309.26,-681.03 355.33,-667.72 377,-635.97 407.85,-590.76 399.52,-521.5 393.17,-488.79\"/>\n</g>\n<!-- 2&#45;&#45;10 -->\n<g id=\"edge21\" class=\"edge\">\n<title>2&#45;&#45;10</title>\n<path fill=\"none\" stroke=\"black\" d=\"M716.8,-761.11C653.08,-760.59 437.74,-750.09 323,-635.97 303.64,-616.72 297.62,-584.38 295.77,-564.03\"/>\n</g>\n<!-- 14 -->\n<g id=\"node7\" class=\"node\">\n<title>14</title>\n<ellipse fill=\"none\" stroke=\"red\" cx=\"675\" cy=\"-244.49\" rx=\"19.5\" ry=\"19.5\"/>\n<text text-anchor=\"middle\" x=\"675\" y=\"-240.79\" font-family=\"Times,serif\" font-size=\"14.00\">14</text>\n</g>\n<!-- 2&#45;&#45;14 -->\n<g id=\"edge22\" class=\"edge\">\n<title>2&#45;&#45;14</title>\n<path fill=\"none\" stroke=\"black\" d=\"M744.8,-746.4C751.09,-736.15 758.67,-721.83 762,-707.97 765.73,-692.41 763.61,-687.89 762,-671.97 745.79,-511.45 696.11,-322.04 680.06,-263.58\"/>\n</g>\n<!-- 3 -->\n<g id=\"node11\" class=\"node\">\n<title>3</title>\n<ellipse fill=\"none\" stroke=\"blue\" cx=\"735\" cy=\"-689.97\" rx=\"18\" ry=\"18\"/>\n<text text-anchor=\"middle\" x=\"735\" y=\"-686.27\" font-family=\"Times,serif\" font-size=\"14.00\">3</text>\n</g>\n<!-- 2&#45;&#45;3 -->\n<g id=\"edge18\" class=\"edge\">\n<title>2&#45;&#45;3</title>\n<path fill=\"none\" stroke=\"black\" d=\"M735,-743.67C735,-732.82 735,-718.89 735,-708.08\"/>\n</g>\n<!-- 2&#45;&#45;6 -->\n<g id=\"edge19\" class=\"edge\">\n<title>2&#45;&#45;6</title>\n<path fill=\"none\" stroke=\"black\" d=\"M726.43,-746.01C720.69,-735.58 713.26,-721.22 708,-707.97 698.26,-683.43 690.33,-653.81 685.89,-635.69\"/>\n</g>\n<!-- 2&#45;&#45;7 -->\n<g id=\"edge20\" class=\"edge\">\n<title>2&#45;&#45;7</title>\n<path fill=\"none\" stroke=\"black\" d=\"M751.22,-753.77C788.63,-736.69 882.92,-691.03 950,-635.97 1008.64,-587.84 1063.91,-515.16 1085.94,-484.7\"/>\n</g>\n<!-- 5&#45;&#45;9 -->\n<g id=\"edge34\" class=\"edge\">\n<title>5&#45;&#45;9</title>\n<path fill=\"none\" stroke=\"black\" d=\"M366.4,-610C386.9,-600.91 422.64,-583.81 450,-563.97 484.09,-539.26 518.2,-503.08 535.44,-483.77\"/>\n</g>\n<!-- 5&#45;&#45;10 -->\n<g id=\"edge35\" class=\"edge\">\n<title>5&#45;&#45;10</title>\n<path fill=\"none\" stroke=\"black\" d=\"M339.4,-603.19C329.97,-590.93 316.22,-573.05 306.52,-560.45\"/>\n</g>\n<!-- 5&#45;&#45;14 -->\n<g id=\"edge36\" class=\"edge\">\n<title>5&#45;&#45;14</title>\n<path fill=\"none\" stroke=\"black\" d=\"M357.57,-601.55C382.45,-552.14 466.33,-395.41 574,-299.99 599.35,-277.52 635.57,-260.86 657.05,-252.2\"/>\n</g>\n<!-- 5&#45;&#45;15 -->\n<g id=\"edge37\" class=\"edge\">\n<title>5&#45;&#45;15</title>\n<path fill=\"none\" stroke=\"black\" d=\"M348.46,-599.85C346.13,-572.52 342,-517.34 342,-470.48 342,-470.48 342,-470.48 342,-393.48 342,-306.4 389.38,-294.38 442,-224.99 453.54,-209.78 468.83,-194.19 479.84,-183.6\"/>\n</g>\n<!-- 5&#45;&#45;17 -->\n<g id=\"edge38\" class=\"edge\">\n<title>5&#45;&#45;17</title>\n<path fill=\"none\" stroke=\"black\" d=\"M333.85,-609.39C315.96,-600.42 287,-584.11 267,-563.97 176.96,-473.27 114,-448.29 114,-320.48 114,-320.48 114,-320.48 114,-168.49 114,-100.88 171.28,-100.24 234,-75 328.86,-36.83 656.88,-23.82 740.49,-21.09\"/>\n</g>\n<!-- 9&#45;&#45;14 -->\n<g id=\"edge54\" class=\"edge\">\n<title>9&#45;&#45;14</title>\n<path fill=\"none\" stroke=\"black\" d=\"M545.48,-451.45C544.46,-432.06 544.91,-399.85 556,-374.98 579.51,-322.28 633.17,-276.81 659.64,-256.63\"/>\n</g>\n<!-- 9&#45;&#45;15 -->\n<g id=\"edge55\" class=\"edge\">\n<title>9&#45;&#45;15</title>\n<path fill=\"none\" stroke=\"black\" d=\"M544,-451.6C534.78,-399.77 506.92,-243.11 497.3,-189.06\"/>\n</g>\n<!-- 9&#45;&#45;16 -->\n<g id=\"edge56\" class=\"edge\">\n<title>9&#45;&#45;16</title>\n<path fill=\"none\" stroke=\"black\" d=\"M537.47,-453.86C498.86,-394.59 354.19,-172.53 314.26,-111.25\"/>\n</g>\n<!-- 9&#45;&#45;19 -->\n<g id=\"edge58\" class=\"edge\">\n<title>9&#45;&#45;19</title>\n<path fill=\"none\" stroke=\"black\" d=\"M529.35,-465.79C454.5,-454.41 163.68,-410.18 86.11,-398.39\"/>\n</g>\n<!-- 9&#45;&#45;13 -->\n<g id=\"edge53\" class=\"edge\">\n<title>9&#45;&#45;13</title>\n<path fill=\"none\" stroke=\"black\" d=\"M563.31,-461.73C622.54,-437.25 825.97,-353.15 887.34,-327.79\"/>\n</g>\n<!-- 18 -->\n<g id=\"node20\" class=\"node\">\n<title>18</title>\n<ellipse fill=\"none\" stroke=\"blue\" cx=\"836\" cy=\"-94.49\" rx=\"19.5\" ry=\"19.5\"/>\n<text text-anchor=\"middle\" x=\"836\" y=\"-90.79\" font-family=\"Times,serif\" font-size=\"14.00\">18</text>\n</g>\n<!-- 9&#45;&#45;18 -->\n<g id=\"edge57\" class=\"edge\">\n<title>9&#45;&#45;18</title>\n<path fill=\"none\" stroke=\"black\" d=\"M557.76,-454.71C583.31,-421.95 649.52,-336.62 703,-263.99 739.85,-213.94 744.44,-197.93 784,-149.99 796.15,-135.27 811.36,-119.61 822.18,-108.88\"/>\n</g>\n<!-- 10&#45;&#45;15 -->\n<g id=\"edge60\" class=\"edge\">\n<title>10&#45;&#45;15</title>\n<path fill=\"none\" stroke=\"black\" d=\"M293.59,-524.89C291.18,-482.52 289.77,-376.5 328,-299.99 338.61,-278.76 385.28,-239.57 404,-224.99 427.78,-206.47 458.29,-189.19 476.98,-179.23\"/>\n</g>\n<!-- 10&#45;&#45;16 -->\n<g id=\"edge61\" class=\"edge\">\n<title>10&#45;&#45;16</title>\n<path fill=\"none\" stroke=\"black\" d=\"M292.05,-525.12C290.5,-514.57 288.77,-501.07 288,-488.98 286.89,-471.68 287.61,-467.31 288,-449.98 290.9,-321.57 299.69,-167.18 302.85,-114.32\"/>\n</g>\n<!-- 10&#45;&#45;11 -->\n<g id=\"edge59\" class=\"edge\">\n<title>10&#45;&#45;11</title>\n<path fill=\"none\" stroke=\"black\" d=\"M310.1,-531.75C327.64,-518.12 356.41,-495.79 373.93,-482.18\"/>\n</g>\n<!-- 14&#45;&#45;15 -->\n<g id=\"edge72\" class=\"edge\">\n<title>14&#45;&#45;15</title>\n<path fill=\"none\" stroke=\"black\" d=\"M658.48,-233.55C653.29,-230.62 647.49,-227.52 642,-224.99 596.74,-204.13 541.03,-185.39 512.61,-176.29\"/>\n</g>\n<!-- 14&#45;&#45;18 -->\n<g id=\"edge73\" class=\"edge\">\n<title>14&#45;&#45;18</title>\n<path fill=\"none\" stroke=\"black\" d=\"M677.06,-225.04C680.28,-204.35 688.33,-170.95 708,-149.99 737.75,-118.3 788.95,-104.23 816.72,-98.67\"/>\n</g>\n<!-- 15&#45;&#45;16 -->\n<g id=\"edge74\" class=\"edge\">\n<title>15&#45;&#45;16</title>\n<path fill=\"none\" stroke=\"black\" d=\"M476.13,-161.62C439.91,-147.71 358.25,-116.34 321.97,-102.4\"/>\n</g>\n<!-- 15&#45;&#45;18 -->\n<g id=\"edge75\" class=\"edge\">\n<title>15&#45;&#45;18</title>\n<path fill=\"none\" stroke=\"black\" d=\"M512.87,-164.46C572.53,-151.73 756.61,-112.44 816.76,-99.6\"/>\n</g>\n<!-- 16&#45;&#45;17 -->\n<g id=\"edge76\" class=\"edge\">\n<title>16&#45;&#45;17</title>\n<path fill=\"none\" stroke=\"black\" d=\"M323.3,-90.4C397.81,-78.48 666.18,-35.52 740.69,-23.59\"/>\n</g>\n<!-- 3&#45;&#45;6 -->\n<g id=\"edge23\" class=\"edge\">\n<title>3&#45;&#45;6</title>\n<path fill=\"none\" stroke=\"black\" d=\"M724.53,-675.14C715.24,-662.87 701.73,-645.04 692.45,-632.77\"/>\n</g>\n<!-- 3&#45;&#45;13 -->\n<g id=\"edge24\" class=\"edge\">\n<title>3&#45;&#45;13</title>\n<path fill=\"none\" stroke=\"black\" d=\"M752.97,-687.91C783.38,-685.06 844.53,-674.56 874,-635.97 909.74,-589.17 907.39,-400.16 905.66,-339.39\"/>\n</g>\n<!-- 4 -->\n<g id=\"node12\" class=\"node\">\n<title>4</title>\n<ellipse fill=\"none\" stroke=\"blue\" cx=\"588\" cy=\"-689.97\" rx=\"18\" ry=\"18\"/>\n<text text-anchor=\"middle\" x=\"588\" y=\"-686.27\" font-family=\"Times,serif\" font-size=\"14.00\">4</text>\n</g>\n<!-- 4&#45;&#45;10 -->\n<g id=\"edge27\" class=\"edge\">\n<title>4&#45;&#45;10</title>\n<path fill=\"none\" stroke=\"black\" d=\"M572.25,-681.26C521.85,-656.57 364.79,-579.65 312.29,-553.94\"/>\n</g>\n<!-- 4&#45;&#45;15 -->\n<g id=\"edge30\" class=\"edge\">\n<title>4&#45;&#45;15</title>\n<path fill=\"none\" stroke=\"black\" d=\"M581.23,-673.26C567.22,-639.98 535.09,-559.63 520,-488.98 499.02,-390.76 506.35,-364.15 499,-263.99 497.1,-238.05 495.62,-208.01 494.78,-189.13\"/>\n</g>\n<!-- 4&#45;&#45;16 -->\n<g id=\"edge31\" class=\"edge\">\n<title>4&#45;&#45;16</title>\n<path fill=\"none\" stroke=\"black\" d=\"M569.77,-689.45C524.52,-689.81 404.82,-685.64 323,-635.97 242.34,-587 190,-564.84 190,-470.48 190,-470.48 190,-470.48 190,-243.49 190,-180.24 256.14,-127.48 287.67,-105.93\"/>\n</g>\n<!-- 4&#45;&#45;19 -->\n<g id=\"edge33\" class=\"edge\">\n<title>4&#45;&#45;19</title>\n<path fill=\"none\" stroke=\"black\" d=\"M570.15,-687.56C509.09,-682.51 309.22,-664.14 252,-635.97 153.93,-587.7 93.3,-459.68 73.84,-412.91\"/>\n</g>\n<!-- 4&#45;&#45;6 -->\n<g id=\"edge25\" class=\"edge\">\n<title>4&#45;&#45;6</title>\n<path fill=\"none\" stroke=\"black\" d=\"M602.28,-678.34C620.05,-665.11 650.21,-642.65 667.9,-629.47\"/>\n</g>\n<!-- 8 -->\n<g id=\"node15\" class=\"node\">\n<title>8</title>\n<ellipse fill=\"none\" stroke=\"blue\" cx=\"672\" cy=\"-544.47\" rx=\"18\" ry=\"18\"/>\n<text text-anchor=\"middle\" x=\"672\" y=\"-540.77\" font-family=\"Times,serif\" font-size=\"14.00\">8</text>\n</g>\n<!-- 4&#45;&#45;8 -->\n<g id=\"edge26\" class=\"edge\">\n<title>4&#45;&#45;8</title>\n<path fill=\"none\" stroke=\"black\" d=\"M596.67,-674.16C612.77,-646.66 647.09,-588.02 663.25,-560.42\"/>\n</g>\n<!-- 4&#45;&#45;11 -->\n<g id=\"edge28\" class=\"edge\">\n<title>4&#45;&#45;11</title>\n<path fill=\"none\" stroke=\"black\" d=\"M576.15,-675.96C541.09,-637.46 438.08,-524.36 401.81,-484.54\"/>\n</g>\n<!-- 4&#45;&#45;12 -->\n<g id=\"edge29\" class=\"edge\">\n<title>4&#45;&#45;12</title>\n<path fill=\"none\" stroke=\"black\" d=\"M605.98,-686.58C665.3,-678.55 852.24,-652.2 874,-635.97 950.89,-578.65 983.42,-459.45 993.4,-413.8\"/>\n</g>\n<!-- 4&#45;&#45;18 -->\n<g id=\"edge32\" class=\"edge\">\n<title>4&#45;&#45;18</title>\n<path fill=\"none\" stroke=\"black\" d=\"M605.87,-685.88C632.12,-680.43 681.01,-666.63 709,-635.97 852.78,-478.47 842.89,-189.51 837.56,-113.96\"/>\n</g>\n<!-- 6&#45;&#45;9 -->\n<g id=\"edge40\" class=\"edge\">\n<title>6&#45;&#45;9</title>\n<path fill=\"none\" stroke=\"black\" d=\"M670.91,-603.6C655.73,-585.45 627.47,-552.16 602,-524.98 588.03,-510.07 571.26,-493.65 559.94,-482.77\"/>\n</g>\n<!-- 6&#45;&#45;15 -->\n<g id=\"edge41\" class=\"edge\">\n<title>6&#45;&#45;15</title>\n<path fill=\"none\" stroke=\"black\" d=\"M688.95,-601.23C696.16,-582.81 705.51,-551.47 699,-524.98 663.07,-378.84 627.23,-349.01 542,-224.99 531.72,-210.03 517.81,-194.65 507.62,-184.07\"/>\n</g>\n<!-- 6&#45;&#45;8 -->\n<g id=\"edge39\" class=\"edge\">\n<title>6&#45;&#45;8</title>\n<path fill=\"none\" stroke=\"black\" d=\"M679.63,-600.03C678.06,-588.8 676,-574.1 674.42,-562.79\"/>\n</g>\n<!-- 6&#45;&#45;18 -->\n<g id=\"edge42\" class=\"edge\">\n<title>6&#45;&#45;18</title>\n<path fill=\"none\" stroke=\"black\" d=\"M700.1,-614.24C775.44,-602.52 1063.04,-554.06 1123,-488.98 1151.73,-457.79 1142,-437.88 1142,-395.48 1142,-395.48 1142,-395.48 1142,-318.48 1142,-175.84 922.13,-114.8 855.14,-99.51\"/>\n</g>\n<!-- 7&#45;&#45;12 -->\n<g id=\"edge43\" class=\"edge\">\n<title>7&#45;&#45;12</title>\n<path fill=\"none\" stroke=\"black\" d=\"M1081.82,-458.02C1063.42,-444.46 1031.46,-420.89 1012.46,-406.88\"/>\n</g>\n<!-- 7&#45;&#45;13 -->\n<g id=\"edge44\" class=\"edge\">\n<title>7&#45;&#45;13</title>\n<path fill=\"none\" stroke=\"black\" d=\"M1087.75,-453.35C1076.08,-433.16 1053.03,-397.37 1025,-374.98 993.53,-349.86 948.61,-333.52 923.61,-325.76\"/>\n</g>\n<!-- 7&#45;&#45;18 -->\n<g id=\"edge45\" class=\"edge\">\n<title>7&#45;&#45;18</title>\n<path fill=\"none\" stroke=\"black\" d=\"M1090.05,-452.19C1082.88,-433.21 1070.04,-401.11 1056,-374.98 999.35,-269.55 989.98,-237.2 908,-149.99 889.73,-130.56 881.23,-130.13 860,-113.99 857.07,-111.76 853.95,-109.37 850.96,-107.07\"/>\n</g>\n<!-- 8&#45;&#45;9 -->\n<g id=\"edge46\" class=\"edge\">\n<title>8&#45;&#45;9</title>\n<path fill=\"none\" stroke=\"black\" d=\"M656.67,-534.52C632.68,-520.51 586.52,-493.56 562.45,-479.5\"/>\n</g>\n<!-- 8&#45;&#45;15 -->\n<g id=\"edge50\" class=\"edge\">\n<title>8&#45;&#45;15</title>\n<path fill=\"none\" stroke=\"black\" d=\"M658.89,-531.55C648.09,-521.16 632.98,-505.24 623,-488.98 557.2,-381.78 571.64,-340.13 521,-224.99 515.3,-212.04 508.17,-197.71 502.67,-187\"/>\n</g>\n<!-- 8&#45;&#45;11 -->\n<g id=\"edge47\" class=\"edge\">\n<title>8&#45;&#45;11</title>\n<path fill=\"none\" stroke=\"black\" d=\"M654.75,-538.88C640.59,-535.11 620,-529.66 602,-524.98 530.33,-506.34 444.96,-484.65 407.82,-475.24\"/>\n</g>\n<!-- 8&#45;&#45;12 -->\n<g id=\"edge48\" class=\"edge\">\n<title>8&#45;&#45;12</title>\n<path fill=\"none\" stroke=\"black\" d=\"M688.12,-536.14C743.06,-511.11 922.79,-429.28 979.61,-403.4\"/>\n</g>\n<!-- 8&#45;&#45;13 -->\n<g id=\"edge49\" class=\"edge\">\n<title>8&#45;&#45;13</title>\n<path fill=\"none\" stroke=\"black\" d=\"M684.91,-531.87C709.79,-509.41 766,-458.34 812,-413.98 841,-386.01 874.09,-352.31 891.93,-333.97\"/>\n</g>\n<!-- 8&#45;&#45;17 -->\n<g id=\"edge51\" class=\"edge\">\n<title>8&#45;&#45;17</title>\n<path fill=\"none\" stroke=\"black\" d=\"M674.83,-526.67C687.99,-448.43 743.21,-120.28 756.91,-38.85\"/>\n</g>\n<!-- 8&#45;&#45;18 -->\n<g id=\"edge52\" class=\"edge\">\n<title>8&#45;&#45;18</title>\n<path fill=\"none\" stroke=\"black\" d=\"M680.86,-528.73C709.54,-480.9 798,-332.41 798,-320.48 798,-320.48 798,-320.48 798,-243.49 798,-194.94 817.42,-140.18 828.49,-112.89\"/>\n</g>\n<!-- 11&#45;&#45;12 -->\n<g id=\"edge62\" class=\"edge\">\n<title>11&#45;&#45;12</title>\n<path fill=\"none\" stroke=\"black\" d=\"M408.51,-465.56C434.08,-461.77 480.36,-455.04 520,-449.98 697.35,-427.33 912.38,-404.38 977.44,-397.53\"/>\n</g>\n<!-- 11&#45;&#45;17 -->\n<g id=\"edge63\" class=\"edge\">\n<title>11&#45;&#45;17</title>\n<path fill=\"none\" stroke=\"black\" d=\"M373.27,-457.75C332.76,-428.71 228,-344.09 228,-245.49 228,-245.49 228,-245.49 228,-168.49 228,-121.78 237.56,-101.54 276,-75 353.15,-21.73 659.8,-19.85 740.47,-20.3\"/>\n</g>\n<!-- 12&#45;&#45;15 -->\n<g id=\"edge65\" class=\"edge\">\n<title>12&#45;&#45;15</title>\n<path fill=\"none\" stroke=\"black\" d=\"M989.6,-376.44C979.66,-355.5 960.08,-320.27 933,-299.99 796.26,-197.57 579.56,-175.84 513.65,-171.51\"/>\n</g>\n<!-- 12&#45;&#45;13 -->\n<g id=\"edge64\" class=\"edge\">\n<title>12&#45;&#45;13</title>\n<path fill=\"none\" stroke=\"black\" d=\"M982.22,-381.75C965.15,-368.21 937.23,-346.06 920.05,-332.43\"/>\n</g>\n<!-- 12&#45;&#45;17 -->\n<g id=\"edge66\" class=\"edge\">\n<title>12&#45;&#45;17</title>\n<path fill=\"none\" stroke=\"black\" d=\"M996.2,-374.71C992.89,-320.41 975.85,-161.54 889,-75 858,-44.11 806.82,-29.71 779.16,-23.89\"/>\n</g>\n<!-- 12&#45;&#45;18 -->\n<g id=\"edge67\" class=\"edge\">\n<title>12&#45;&#45;18</title>\n<path fill=\"none\" stroke=\"black\" d=\"M991.63,-375.57C985.69,-356.51 975.44,-325.61 964,-299.99 933.03,-230.61 924.94,-212.67 882,-149.99 871.92,-135.28 858.63,-119.88 848.92,-109.22\"/>\n</g>\n<!-- 13&#45;&#45;14 -->\n<g id=\"edge68\" class=\"edge\">\n<title>13&#45;&#45;14</title>\n<path fill=\"none\" stroke=\"black\" d=\"M886.57,-312.63C843.5,-298.97 736.67,-265.06 693.52,-251.37\"/>\n</g>\n<!-- 13&#45;&#45;16 -->\n<g id=\"edge69\" class=\"edge\">\n<title>13&#45;&#45;16</title>\n<path fill=\"none\" stroke=\"black\" d=\"M887.91,-309.54C834.93,-282.14 668.24,-198.28 522,-149.99 449.76,-126.14 361.09,-107.01 322.93,-99.24\"/>\n</g>\n<!-- 13&#45;&#45;17 -->\n<g id=\"edge70\" class=\"edge\">\n<title>13&#45;&#45;17</title>\n<path fill=\"none\" stroke=\"black\" d=\"M907.53,-299.87C912.48,-255.55 918.62,-142.46 864,-75 841.81,-47.59 802.12,-32.34 778.71,-25.33\"/>\n</g>\n<!-- 13&#45;&#45;18 -->\n<g id=\"edge71\" class=\"edge\">\n<title>13&#45;&#45;18</title>\n<path fill=\"none\" stroke=\"black\" d=\"M902.76,-299.96C900.19,-280.91 895.36,-250.51 888,-224.99 875.98,-183.32 855.35,-136.61 844.02,-112.28\"/>\n</g>\n</g>\n</svg>\n",
            "text/plain": [
              "<graphviz.graphs.Graph at 0x7ecb4dbadd10>"
            ]
          },
          "metadata": {}
        },
        {
          "output_type": "display_data",
          "data": {
            "image/svg+xml": "<?xml version=\"1.0\" encoding=\"UTF-8\" standalone=\"no\"?>\n<!DOCTYPE svg PUBLIC \"-//W3C//DTD SVG 1.1//EN\"\n \"http://www.w3.org/Graphics/SVG/1.1/DTD/svg11.dtd\">\n<!-- Generated by graphviz version 2.43.0 (0)\n -->\n<!-- Title: %3 Pages: 1 -->\n<svg width=\"1156pt\" height=\"860pt\"\n viewBox=\"0.00 0.00 1155.62 859.97\" xmlns=\"http://www.w3.org/2000/svg\" xmlns:xlink=\"http://www.w3.org/1999/xlink\">\n<g id=\"graph0\" class=\"graph\" transform=\"scale(1 1) rotate(0) translate(4 855.97)\">\n<title>%3</title>\n<polygon fill=\"white\" stroke=\"transparent\" points=\"-4,4 -4,-855.97 1151.62,-855.97 1151.62,4 -4,4\"/>\n<!-- 1 -->\n<g id=\"node1\" class=\"node\">\n<title>1</title>\n<ellipse fill=\"none\" stroke=\"red\" cx=\"825.62\" cy=\"-689.97\" rx=\"18\" ry=\"18\"/>\n<text text-anchor=\"middle\" x=\"825.62\" y=\"-686.27\" font-family=\"Times,serif\" font-size=\"14.00\">1</text>\n</g>\n<!-- 5 -->\n<g id=\"node3\" class=\"node\">\n<title>5</title>\n<ellipse fill=\"none\" stroke=\"red\" cx=\"947.62\" cy=\"-617.97\" rx=\"18\" ry=\"18\"/>\n<text text-anchor=\"middle\" x=\"947.62\" y=\"-614.27\" font-family=\"Times,serif\" font-size=\"14.00\">5</text>\n</g>\n<!-- 1&#45;&#45;5 -->\n<g id=\"edge10\" class=\"edge\">\n<title>1&#45;&#45;5</title>\n<path fill=\"none\" stroke=\"black\" d=\"M841.07,-680.11C864.54,-666.64 908.9,-641.19 932.29,-627.77\"/>\n</g>\n<!-- 9 -->\n<g id=\"node4\" class=\"node\">\n<title>9</title>\n<ellipse fill=\"none\" stroke=\"red\" cx=\"574.62\" cy=\"-469.48\" rx=\"18\" ry=\"18\"/>\n<text text-anchor=\"middle\" x=\"574.62\" y=\"-465.78\" font-family=\"Times,serif\" font-size=\"14.00\">9</text>\n</g>\n<!-- 1&#45;&#45;9 -->\n<g id=\"edge12\" class=\"edge\">\n<title>1&#45;&#45;9</title>\n<path fill=\"none\" stroke=\"black\" d=\"M812.48,-677.53C769.2,-639.86 631.46,-519.95 587.93,-482.07\"/>\n</g>\n<!-- 10 -->\n<g id=\"node5\" class=\"node\">\n<title>10</title>\n<ellipse fill=\"none\" stroke=\"red\" cx=\"834.62\" cy=\"-544.47\" rx=\"19.5\" ry=\"19.5\"/>\n<text text-anchor=\"middle\" x=\"834.62\" y=\"-540.77\" font-family=\"Times,serif\" font-size=\"14.00\">10</text>\n</g>\n<!-- 1&#45;&#45;10 -->\n<g id=\"edge13\" class=\"edge\">\n<title>1&#45;&#45;10</title>\n<path fill=\"none\" stroke=\"black\" d=\"M831.15,-672.48C834.33,-662.13 838,-648.43 839.62,-635.97 842.84,-611.16 840.13,-582.26 837.62,-563.92\"/>\n</g>\n<!-- 11 -->\n<g id=\"node6\" class=\"node\">\n<title>11</title>\n<ellipse fill=\"none\" stroke=\"red\" cx=\"519.62\" cy=\"-469.48\" rx=\"19.5\" ry=\"19.5\"/>\n<text text-anchor=\"middle\" x=\"519.62\" y=\"-465.78\" font-family=\"Times,serif\" font-size=\"14.00\">11</text>\n</g>\n<!-- 1&#45;&#45;11 -->\n<g id=\"edge14\" class=\"edge\">\n<title>1&#45;&#45;11</title>\n<path fill=\"none\" stroke=\"black\" d=\"M809.35,-681.86C788.56,-672.5 751.76,-654.97 722.62,-635.97 646.44,-586.31 565.39,-513.23 533.57,-483.64\"/>\n</g>\n<!-- 15 -->\n<g id=\"node8\" class=\"node\">\n<title>15</title>\n<ellipse fill=\"none\" stroke=\"red\" cx=\"748.62\" cy=\"-169.49\" rx=\"19.5\" ry=\"19.5\"/>\n<text text-anchor=\"middle\" x=\"748.62\" y=\"-165.79\" font-family=\"Times,serif\" font-size=\"14.00\">15</text>\n</g>\n<!-- 1&#45;&#45;15 -->\n<g id=\"edge15\" class=\"edge\">\n<title>1&#45;&#45;15</title>\n<path fill=\"none\" stroke=\"black\" d=\"M843.68,-687.04C891.23,-681.59 1018.26,-664.61 1047.62,-635.97 1077.41,-606.92 1071.62,-587.09 1071.62,-545.47 1071.62,-545.47 1071.62,-545.47 1071.62,-468.48 1071.62,-301.39 835.24,-202.1 766.91,-176.9\"/>\n</g>\n<!-- 16 -->\n<g id=\"node9\" class=\"node\">\n<title>16</title>\n<ellipse fill=\"none\" stroke=\"red\" cx=\"748.62\" cy=\"-94.49\" rx=\"19.5\" ry=\"19.5\"/>\n<text text-anchor=\"middle\" x=\"748.62\" y=\"-90.79\" font-family=\"Times,serif\" font-size=\"14.00\">16</text>\n</g>\n<!-- 1&#45;&#45;16 -->\n<g id=\"edge16\" class=\"edge\">\n<title>1&#45;&#45;16</title>\n<path fill=\"none\" stroke=\"black\" d=\"M843.62,-687.28C894.4,-682.18 1037.39,-665.46 1072.62,-635.97 1105.94,-608.08 1109.62,-588.93 1109.62,-545.47 1109.62,-545.47 1109.62,-545.47 1109.62,-468.48 1109.62,-324.27 1150.2,-251.35 1047.62,-149.99 1007.74,-110.59 828.05,-99.05 768.13,-96.27\"/>\n</g>\n<!-- 19 -->\n<g id=\"node10\" class=\"node\">\n<title>19</title>\n<ellipse fill=\"none\" stroke=\"red\" cx=\"758.62\" cy=\"-394.48\" rx=\"19.5\" ry=\"19.5\"/>\n<text text-anchor=\"middle\" x=\"758.62\" y=\"-390.78\" font-family=\"Times,serif\" font-size=\"14.00\">19</text>\n</g>\n<!-- 1&#45;&#45;19 -->\n<g id=\"edge17\" class=\"edge\">\n<title>1&#45;&#45;19</title>\n<path fill=\"none\" stroke=\"black\" d=\"M821.82,-672.35C810.17,-621.3 774.95,-467.01 762.79,-413.77\"/>\n</g>\n<!-- 6 -->\n<g id=\"node14\" class=\"node\">\n<title>6</title>\n<ellipse fill=\"none\" stroke=\"blue\" cx=\"399.62\" cy=\"-617.97\" rx=\"18\" ry=\"18\"/>\n<text text-anchor=\"middle\" x=\"399.62\" y=\"-614.27\" font-family=\"Times,serif\" font-size=\"14.00\">6</text>\n</g>\n<!-- 1&#45;&#45;6 -->\n<g id=\"edge11\" class=\"edge\">\n<title>1&#45;&#45;6</title>\n<path fill=\"none\" stroke=\"black\" d=\"M807.86,-686.05C738.57,-674.67 486.88,-633.31 417.46,-621.9\"/>\n</g>\n<!-- 4 -->\n<g id=\"node2\" class=\"node\">\n<title>4</title>\n<ellipse fill=\"none\" stroke=\"red\" cx=\"445.62\" cy=\"-689.97\" rx=\"18\" ry=\"18\"/>\n<text text-anchor=\"middle\" x=\"445.62\" y=\"-686.27\" font-family=\"Times,serif\" font-size=\"14.00\">4</text>\n</g>\n<!-- 4&#45;&#45;10 -->\n<g id=\"edge27\" class=\"edge\">\n<title>4&#45;&#45;10</title>\n<path fill=\"none\" stroke=\"black\" d=\"M463.53,-687.13C504.5,-682.48 607.66,-668.26 687.62,-635.97 739.59,-614.99 794.07,-576.37 819.66,-557.08\"/>\n</g>\n<!-- 4&#45;&#45;11 -->\n<g id=\"edge28\" class=\"edge\">\n<title>4&#45;&#45;11</title>\n<path fill=\"none\" stroke=\"black\" d=\"M451.18,-672.55C464.76,-632.45 499.52,-529.82 513.58,-488.31\"/>\n</g>\n<!-- 4&#45;&#45;15 -->\n<g id=\"edge30\" class=\"edge\">\n<title>4&#45;&#45;15</title>\n<path fill=\"none\" stroke=\"black\" d=\"M462.19,-682.23C520.77,-657.33 718.23,-564.18 786.62,-413.98 822.7,-334.74 777.4,-227.62 757.31,-187.01\"/>\n</g>\n<!-- 4&#45;&#45;16 -->\n<g id=\"edge31\" class=\"edge\">\n<title>4&#45;&#45;16</title>\n<path fill=\"none\" stroke=\"black\" d=\"M463.68,-688.57C552.43,-686.39 939.55,-674.73 974.62,-635.97 1120.07,-475.21 1099.88,-287.93 932.62,-149.99 883.27,-109.3 804.44,-98.99 768.12,-96.38\"/>\n</g>\n<!-- 4&#45;&#45;19 -->\n<g id=\"edge33\" class=\"edge\">\n<title>4&#45;&#45;19</title>\n<path fill=\"none\" stroke=\"black\" d=\"M458.08,-676.9C494.57,-641.62 604.46,-535.74 697.62,-449.98 713.5,-435.36 732.03,-418.89 744.46,-407.92\"/>\n</g>\n<!-- 4&#45;&#45;6 -->\n<g id=\"edge25\" class=\"edge\">\n<title>4&#45;&#45;6</title>\n<path fill=\"none\" stroke=\"black\" d=\"M436.09,-674.47C428.19,-662.45 417.03,-645.47 409.14,-633.46\"/>\n</g>\n<!-- 8 -->\n<g id=\"node16\" class=\"node\">\n<title>8</title>\n<ellipse fill=\"none\" stroke=\"blue\" cx=\"399.62\" cy=\"-544.47\" rx=\"18\" ry=\"18\"/>\n<text text-anchor=\"middle\" x=\"399.62\" y=\"-540.77\" font-family=\"Times,serif\" font-size=\"14.00\">8</text>\n</g>\n<!-- 4&#45;&#45;8 -->\n<g id=\"edge26\" class=\"edge\">\n<title>4&#45;&#45;8</title>\n<path fill=\"none\" stroke=\"black\" d=\"M428.95,-682.37C411.29,-674.36 384.35,-659 372.62,-635.97 359.59,-610.41 376.99,-577.51 389.31,-559.24\"/>\n</g>\n<!-- 12 -->\n<g id=\"node17\" class=\"node\">\n<title>12</title>\n<ellipse fill=\"none\" stroke=\"blue\" cx=\"170.62\" cy=\"-394.48\" rx=\"19.5\" ry=\"19.5\"/>\n<text text-anchor=\"middle\" x=\"170.62\" y=\"-390.78\" font-family=\"Times,serif\" font-size=\"14.00\">12</text>\n</g>\n<!-- 4&#45;&#45;12 -->\n<g id=\"edge29\" class=\"edge\">\n<title>4&#45;&#45;12</title>\n<path fill=\"none\" stroke=\"black\" d=\"M429.77,-680.75C412.45,-671.31 384.38,-654.71 363.62,-635.97 281.95,-562.27 207.03,-451.93 180.65,-411.26\"/>\n</g>\n<!-- 18 -->\n<g id=\"node20\" class=\"node\">\n<title>18</title>\n<ellipse fill=\"none\" stroke=\"blue\" cx=\"293.62\" cy=\"-94.49\" rx=\"19.5\" ry=\"19.5\"/>\n<text text-anchor=\"middle\" x=\"293.62\" y=\"-90.79\" font-family=\"Times,serif\" font-size=\"14.00\">18</text>\n</g>\n<!-- 4&#45;&#45;18 -->\n<g id=\"edge32\" class=\"edge\">\n<title>4&#45;&#45;18</title>\n<path fill=\"none\" stroke=\"black\" d=\"M428.56,-683.49C356.33,-659.88 77.29,-564.73 30.62,-488.98 -56.19,-348.09 62.12,-261.24 184.62,-149.99 211.71,-125.39 251.97,-109.15 275.22,-101.21\"/>\n</g>\n<!-- 5&#45;&#45;9 -->\n<g id=\"edge34\" class=\"edge\">\n<title>5&#45;&#45;9</title>\n<path fill=\"none\" stroke=\"black\" d=\"M936.89,-603.41C918.36,-580.33 880.59,-534.94 862.62,-524.98 770.93,-474.17 640.31,-469.84 592.79,-470.09\"/>\n</g>\n<!-- 5&#45;&#45;10 -->\n<g id=\"edge35\" class=\"edge\">\n<title>5&#45;&#45;10</title>\n<path fill=\"none\" stroke=\"black\" d=\"M932.85,-607.63C911.67,-594.23 872.82,-569.64 850.86,-555.75\"/>\n</g>\n<!-- 14 -->\n<g id=\"node7\" class=\"node\">\n<title>14</title>\n<ellipse fill=\"none\" stroke=\"red\" cx=\"568.62\" cy=\"-244.49\" rx=\"19.5\" ry=\"19.5\"/>\n<text text-anchor=\"middle\" x=\"568.62\" y=\"-240.79\" font-family=\"Times,serif\" font-size=\"14.00\">14</text>\n</g>\n<!-- 5&#45;&#45;14 -->\n<g id=\"edge36\" class=\"edge\">\n<title>5&#45;&#45;14</title>\n<path fill=\"none\" stroke=\"black\" d=\"M940.54,-601.18C921.22,-559.52 863.78,-445.01 786.62,-374.98 721.59,-315.96 625.52,-270.29 586.29,-253\"/>\n</g>\n<!-- 5&#45;&#45;15 -->\n<g id=\"edge37\" class=\"edge\">\n<title>5&#45;&#45;15</title>\n<path fill=\"none\" stroke=\"black\" d=\"M947.53,-599.67C946.39,-540.78 935.42,-345.15 842.62,-224.99 823.13,-199.76 788.41,-184.09 767.06,-176.35\"/>\n</g>\n<!-- 17 -->\n<g id=\"node19\" class=\"node\">\n<title>17</title>\n<ellipse fill=\"none\" stroke=\"blue\" cx=\"521.62\" cy=\"-19.5\" rx=\"19.5\" ry=\"19.5\"/>\n<text text-anchor=\"middle\" x=\"521.62\" y=\"-15.8\" font-family=\"Times,serif\" font-size=\"14.00\">17</text>\n</g>\n<!-- 5&#45;&#45;17 -->\n<g id=\"edge38\" class=\"edge\">\n<title>5&#45;&#45;17</title>\n<path fill=\"none\" stroke=\"black\" d=\"M958.5,-603.41C994.82,-556.7 1109.62,-397.11 1109.62,-245.49 1109.62,-245.49 1109.62,-245.49 1109.62,-168.49 1109.62,-48.49 643.21,-24.85 541.18,-21.12\"/>\n</g>\n<!-- 9&#45;&#45;14 -->\n<g id=\"edge54\" class=\"edge\">\n<title>9&#45;&#45;14</title>\n<path fill=\"none\" stroke=\"black\" d=\"M572.23,-451.27C568.29,-420.79 561.09,-355.33 563.62,-299.99 564.17,-287.93 565.41,-274.43 566.51,-263.87\"/>\n</g>\n<!-- 9&#45;&#45;15 -->\n<g id=\"edge55\" class=\"edge\">\n<title>9&#45;&#45;15</title>\n<path fill=\"none\" stroke=\"black\" d=\"M589.73,-459.42C605.65,-449.46 630.95,-432.41 649.62,-413.98 679.22,-384.76 687.69,-376.52 705.62,-338.98 730.08,-287.77 741.81,-220.91 746.31,-189\"/>\n</g>\n<!-- 9&#45;&#45;16 -->\n<g id=\"edge56\" class=\"edge\">\n<title>9&#45;&#45;16</title>\n<path fill=\"none\" stroke=\"black\" d=\"M585.18,-454.64C593.08,-443.91 603.81,-428.48 611.62,-413.98 671.81,-302.22 667.35,-265.21 720.62,-149.99 726.6,-137.06 733.99,-122.73 739.68,-112.01\"/>\n</g>\n<!-- 9&#45;&#45;19 -->\n<g id=\"edge58\" class=\"edge\">\n<title>9&#45;&#45;19</title>\n<path fill=\"none\" stroke=\"black\" d=\"M591.27,-461.87C625.86,-448.15 705.22,-416.67 740.79,-402.55\"/>\n</g>\n<!-- 13 -->\n<g id=\"node18\" class=\"node\">\n<title>13</title>\n<ellipse fill=\"none\" stroke=\"blue\" cx=\"378.62\" cy=\"-319.48\" rx=\"19.5\" ry=\"19.5\"/>\n<text text-anchor=\"middle\" x=\"378.62\" y=\"-315.78\" font-family=\"Times,serif\" font-size=\"14.00\">13</text>\n</g>\n<!-- 9&#45;&#45;13 -->\n<g id=\"edge53\" class=\"edge\">\n<title>9&#45;&#45;13</title>\n<path fill=\"none\" stroke=\"black\" d=\"M560.52,-457.83C524.8,-430.86 430.92,-359.98 393.92,-332.04\"/>\n</g>\n<!-- 9&#45;&#45;18 -->\n<g id=\"edge57\" class=\"edge\">\n<title>9&#45;&#45;18</title>\n<path fill=\"none\" stroke=\"black\" d=\"M581.96,-453.04C600.2,-412.21 642.9,-299.42 596.62,-224.99 533.19,-122.96 369.93,-101.19 313.31,-96.65\"/>\n</g>\n<!-- 10&#45;&#45;11 -->\n<g id=\"edge59\" class=\"edge\">\n<title>10&#45;&#45;11</title>\n<path fill=\"none\" stroke=\"black\" d=\"M815.07,-542.41C767.58,-539.28 643.01,-527.71 547.62,-488.98 543.19,-487.18 538.73,-484.63 534.71,-482.01\"/>\n</g>\n<!-- 10&#45;&#45;15 -->\n<g id=\"edge60\" class=\"edge\">\n<title>10&#45;&#45;15</title>\n<path fill=\"none\" stroke=\"black\" d=\"M836.48,-524.81C839.12,-496.76 843.62,-442.07 843.62,-395.48 843.62,-395.48 843.62,-395.48 843.62,-318.48 843.62,-275.58 843.26,-260.79 819.62,-224.99 806,-204.37 781.91,-188.34 765.61,-179.16\"/>\n</g>\n<!-- 10&#45;&#45;16 -->\n<g id=\"edge61\" class=\"edge\">\n<title>10&#45;&#45;16</title>\n<path fill=\"none\" stroke=\"black\" d=\"M848.25,-530.3C880.28,-497.86 957.62,-410.24 957.62,-320.48 957.62,-320.48 957.62,-320.48 957.62,-243.49 957.62,-150.79 818.98,-110.92 767.53,-99.31\"/>\n</g>\n<!-- 11&#45;&#45;12 -->\n<g id=\"edge62\" class=\"edge\">\n<title>11&#45;&#45;12</title>\n<path fill=\"none\" stroke=\"black\" d=\"M500.61,-464.5C439.87,-451.8 250.92,-412.28 189.86,-399.51\"/>\n</g>\n<!-- 11&#45;&#45;17 -->\n<g id=\"edge63\" class=\"edge\">\n<title>11&#45;&#45;17</title>\n<path fill=\"none\" stroke=\"black\" d=\"M519.7,-449.8C520.03,-376.94 521.21,-112.26 521.54,-39.26\"/>\n</g>\n<!-- 14&#45;&#45;15 -->\n<g id=\"edge72\" class=\"edge\">\n<title>14&#45;&#45;15</title>\n<path fill=\"none\" stroke=\"black\" d=\"M586.54,-236.22C621.04,-222.23 696.33,-191.7 730.77,-177.73\"/>\n</g>\n<!-- 14&#45;&#45;18 -->\n<g id=\"edge73\" class=\"edge\">\n<title>14&#45;&#45;18</title>\n<path fill=\"none\" stroke=\"black\" d=\"M551.83,-234.45C502.74,-208.03 359.8,-131.11 310.54,-104.6\"/>\n</g>\n<!-- 15&#45;&#45;16 -->\n<g id=\"edge74\" class=\"edge\">\n<title>15&#45;&#45;16</title>\n<path fill=\"none\" stroke=\"black\" d=\"M748.62,-149.69C748.62,-138.79 748.62,-125.12 748.62,-114.23\"/>\n</g>\n<!-- 15&#45;&#45;18 -->\n<g id=\"edge75\" class=\"edge\">\n<title>15&#45;&#45;18</title>\n<path fill=\"none\" stroke=\"black\" d=\"M729.36,-165.4C655.02,-153.47 387.23,-110.51 312.88,-98.59\"/>\n</g>\n<!-- 16&#45;&#45;17 -->\n<g id=\"edge76\" class=\"edge\">\n<title>16&#45;&#45;17</title>\n<path fill=\"none\" stroke=\"black\" d=\"M730.04,-87.52C687.37,-73.8 582.75,-40.16 540.13,-26.45\"/>\n</g>\n<!-- 0 -->\n<g id=\"node11\" class=\"node\">\n<title>0</title>\n<ellipse fill=\"none\" stroke=\"blue\" cx=\"711.62\" cy=\"-833.97\" rx=\"18\" ry=\"18\"/>\n<text text-anchor=\"middle\" x=\"711.62\" y=\"-830.27\" font-family=\"Times,serif\" font-size=\"14.00\">0</text>\n</g>\n<!-- 0&#45;&#45;1 -->\n<g id=\"edge1\" class=\"edge\">\n<title>0&#45;&#45;1</title>\n<path fill=\"none\" stroke=\"black\" d=\"M722.55,-819.36C744.28,-792.28 792.71,-731.96 814.55,-704.76\"/>\n</g>\n<!-- 0&#45;&#45;5 -->\n<g id=\"edge3\" class=\"edge\">\n<title>0&#45;&#45;5</title>\n<path fill=\"none\" stroke=\"black\" d=\"M729.62,-830.75C774.55,-824.83 889.88,-807.25 915.62,-779.97 953.46,-739.87 952.38,-668.41 949.6,-635.9\"/>\n</g>\n<!-- 0&#45;&#45;10 -->\n<g id=\"edge5\" class=\"edge\">\n<title>0&#45;&#45;10</title>\n<path fill=\"none\" stroke=\"black\" d=\"M727.66,-825.1C759.18,-808.59 828.21,-766.91 852.62,-707.97 873.14,-658.41 853.55,-593.46 841.89,-562.85\"/>\n</g>\n<!-- 0&#45;&#45;19 -->\n<g id=\"edge9\" class=\"edge\">\n<title>0&#45;&#45;19</title>\n<path fill=\"none\" stroke=\"black\" d=\"M711.62,-815.92C711.62,-789.26 711.62,-736.09 711.62,-690.97 711.62,-690.97 711.62,-690.97 711.62,-543.47 711.62,-493.87 735.9,-439.12 749.56,-412.24\"/>\n</g>\n<!-- 2 -->\n<g id=\"node12\" class=\"node\">\n<title>2</title>\n<ellipse fill=\"none\" stroke=\"blue\" cx=\"376.62\" cy=\"-761.97\" rx=\"18\" ry=\"18\"/>\n<text text-anchor=\"middle\" x=\"376.62\" y=\"-758.27\" font-family=\"Times,serif\" font-size=\"14.00\">2</text>\n</g>\n<!-- 0&#45;&#45;2 -->\n<g id=\"edge2\" class=\"edge\">\n<title>0&#45;&#45;2</title>\n<path fill=\"none\" stroke=\"black\" d=\"M694.08,-829.31C636.32,-817.24 452.48,-778.82 394.39,-766.69\"/>\n</g>\n<!-- 7 -->\n<g id=\"node15\" class=\"node\">\n<title>7</title>\n<ellipse fill=\"none\" stroke=\"blue\" cx=\"57.62\" cy=\"-469.48\" rx=\"18\" ry=\"18\"/>\n<text text-anchor=\"middle\" x=\"57.62\" y=\"-465.78\" font-family=\"Times,serif\" font-size=\"14.00\">7</text>\n</g>\n<!-- 0&#45;&#45;7 -->\n<g id=\"edge4\" class=\"edge\">\n<title>0&#45;&#45;7</title>\n<path fill=\"none\" stroke=\"black\" d=\"M693.54,-832.34C603.77,-829.06 208.45,-812.83 165.62,-779.97 69.44,-706.19 58.54,-540.93 57.6,-487.49\"/>\n</g>\n<!-- 0&#45;&#45;12 -->\n<g id=\"edge6\" class=\"edge\">\n<title>0&#45;&#45;12</title>\n<path fill=\"none\" stroke=\"black\" d=\"M693.58,-832.63C603.15,-830.71 201.94,-819.99 165.62,-779.97 68.71,-673.2 138.89,-472.88 163.19,-412.89\"/>\n</g>\n<!-- 0&#45;&#45;13 -->\n<g id=\"edge7\" class=\"edge\">\n<title>0&#45;&#45;13</title>\n<path fill=\"none\" stroke=\"black\" d=\"M693.29,-832.53C627.62,-830.6 405.13,-821.08 349.62,-779.97 229.14,-690.74 256.49,-598.11 279.62,-449.98 285.02,-415.4 283.11,-403.34 303.62,-374.98 318.71,-354.11 344.23,-338.04 361.25,-328.92\"/>\n</g>\n<!-- 0&#45;&#45;17 -->\n<g id=\"edge8\" class=\"edge\">\n<title>0&#45;&#45;17</title>\n<path fill=\"none\" stroke=\"black\" d=\"M729.52,-831.14C811.57,-822.26 1147.62,-780.43 1147.62,-690.97 1147.62,-690.97 1147.62,-690.97 1147.62,-168.49 1147.62,-105 1097.87,-100.26 1039.62,-75 947.32,-34.97 624.16,-23.35 541.17,-21\"/>\n</g>\n<!-- 2&#45;&#45;10 -->\n<g id=\"edge21\" class=\"edge\">\n<title>2&#45;&#45;10</title>\n<path fill=\"none\" stroke=\"black\" d=\"M394.07,-757.48C447.85,-746.19 614.61,-707.22 734.62,-635.97 770.26,-614.82 804.42,-579.65 822.11,-559.97\"/>\n</g>\n<!-- 2&#45;&#45;14 -->\n<g id=\"edge22\" class=\"edge\">\n<title>2&#45;&#45;14</title>\n<path fill=\"none\" stroke=\"black\" d=\"M362.08,-750.69C350.01,-741.18 333.72,-725.84 326.62,-707.97 304.97,-653.48 346.11,-578.82 372.62,-524.98 427.06,-414.38 522.43,-299 556.27,-259.62\"/>\n</g>\n<!-- 3 -->\n<g id=\"node13\" class=\"node\">\n<title>3</title>\n<ellipse fill=\"none\" stroke=\"blue\" cx=\"353.62\" cy=\"-689.97\" rx=\"18\" ry=\"18\"/>\n<text text-anchor=\"middle\" x=\"353.62\" y=\"-686.27\" font-family=\"Times,serif\" font-size=\"14.00\">3</text>\n</g>\n<!-- 2&#45;&#45;3 -->\n<g id=\"edge18\" class=\"edge\">\n<title>2&#45;&#45;3</title>\n<path fill=\"none\" stroke=\"black\" d=\"M371.28,-744.74C367.62,-733.59 362.77,-718.84 359.08,-707.61\"/>\n</g>\n<!-- 2&#45;&#45;6 -->\n<g id=\"edge19\" class=\"edge\">\n<title>2&#45;&#45;6</title>\n<path fill=\"none\" stroke=\"black\" d=\"M379.35,-744.13C383.77,-716.8 392.47,-663.11 396.89,-635.8\"/>\n</g>\n<!-- 2&#45;&#45;7 -->\n<g id=\"edge20\" class=\"edge\">\n<title>2&#45;&#45;7</title>\n<path fill=\"none\" stroke=\"black\" d=\"M358.94,-757.24C331.64,-750.81 278.5,-735.6 241.62,-707.97 154.99,-643.09 87.91,-527.36 65.6,-485.83\"/>\n</g>\n<!-- 3&#45;&#45;6 -->\n<g id=\"edge23\" class=\"edge\">\n<title>3&#45;&#45;6</title>\n<path fill=\"none\" stroke=\"black\" d=\"M363.15,-674.47C371.04,-662.45 382.21,-645.47 390.1,-633.46\"/>\n</g>\n<!-- 3&#45;&#45;13 -->\n<g id=\"edge24\" class=\"edge\">\n<title>3&#45;&#45;13</title>\n<path fill=\"none\" stroke=\"black\" d=\"M343.44,-675.12C326.32,-650.4 293.62,-596.51 293.62,-545.47 293.62,-545.47 293.62,-545.47 293.62,-468.48 293.62,-412.18 340.44,-357.93 364.58,-333.7\"/>\n</g>\n<!-- 6&#45;&#45;9 -->\n<g id=\"edge40\" class=\"edge\">\n<title>6&#45;&#45;9</title>\n<path fill=\"none\" stroke=\"black\" d=\"M412.84,-605.54C433.11,-588.05 473.17,-553.66 507.62,-524.98 525.94,-509.72 547.35,-492.39 560.94,-481.45\"/>\n</g>\n<!-- 6&#45;&#45;15 -->\n<g id=\"edge41\" class=\"edge\">\n<title>6&#45;&#45;15</title>\n<path fill=\"none\" stroke=\"black\" d=\"M415.43,-609.36C435.29,-599.59 470.22,-581.8 498.62,-563.97 587.4,-508.25 614.65,-495.43 680.62,-413.98 726.8,-356.96 738.74,-336.55 749.62,-263.99 753.47,-238.3 752.12,-208.2 750.56,-189.24\"/>\n</g>\n<!-- 6&#45;&#45;8 -->\n<g id=\"edge39\" class=\"edge\">\n<title>6&#45;&#45;8</title>\n<path fill=\"none\" stroke=\"black\" d=\"M399.62,-599.66C399.62,-588.42 399.62,-573.83 399.62,-562.62\"/>\n</g>\n<!-- 6&#45;&#45;18 -->\n<g id=\"edge42\" class=\"edge\">\n<title>6&#45;&#45;18</title>\n<path fill=\"none\" stroke=\"black\" d=\"M385.81,-606.17C349.77,-576.64 255.62,-490.42 255.62,-395.48 255.62,-395.48 255.62,-395.48 255.62,-243.49 255.62,-194.94 275.04,-140.18 286.11,-112.89\"/>\n</g>\n<!-- 7&#45;&#45;12 -->\n<g id=\"edge43\" class=\"edge\">\n<title>7&#45;&#45;12</title>\n<path fill=\"none\" stroke=\"black\" d=\"M72.39,-458.93C93.57,-445.25 132.42,-420.16 154.38,-405.97\"/>\n</g>\n<!-- 7&#45;&#45;13 -->\n<g id=\"edge44\" class=\"edge\">\n<title>7&#45;&#45;13</title>\n<path fill=\"none\" stroke=\"black\" d=\"M68.36,-454.77C86.93,-431.43 124.73,-385.46 142.62,-374.98 214.64,-332.79 316.86,-323.26 359.15,-321.11\"/>\n</g>\n<!-- 7&#45;&#45;18 -->\n<g id=\"edge45\" class=\"edge\">\n<title>7&#45;&#45;18</title>\n<path fill=\"none\" stroke=\"black\" d=\"M62.75,-451.94C78.94,-401.84 132.93,-249.13 218.62,-149.99 235.35,-130.63 260.23,-114.3 276.68,-104.7\"/>\n</g>\n<!-- 8&#45;&#45;9 -->\n<g id=\"edge46\" class=\"edge\">\n<title>8&#45;&#45;9</title>\n<path fill=\"none\" stroke=\"black\" d=\"M417.07,-538.59C445.36,-530.33 502.61,-512.22 547.62,-488.98 552.06,-486.68 556.64,-483.78 560.74,-480.96\"/>\n</g>\n<!-- 8&#45;&#45;11 -->\n<g id=\"edge47\" class=\"edge\">\n<title>8&#45;&#45;11</title>\n<path fill=\"none\" stroke=\"black\" d=\"M414.82,-534.23C437.52,-520.42 480.11,-494.51 503.4,-480.35\"/>\n</g>\n<!-- 8&#45;&#45;15 -->\n<g id=\"edge50\" class=\"edge\">\n<title>8&#45;&#45;15</title>\n<path fill=\"none\" stroke=\"black\" d=\"M411.63,-530.64C464.97,-473.63 680.15,-243.66 735.56,-184.45\"/>\n</g>\n<!-- 8&#45;&#45;12 -->\n<g id=\"edge48\" class=\"edge\">\n<title>8&#45;&#45;12</title>\n<path fill=\"none\" stroke=\"black\" d=\"M384.95,-533.99C344.08,-507.58 229.17,-433.32 186.68,-405.86\"/>\n</g>\n<!-- 8&#45;&#45;13 -->\n<g id=\"edge49\" class=\"edge\">\n<title>8&#45;&#45;13</title>\n<path fill=\"none\" stroke=\"black\" d=\"M398.01,-526.35C394.14,-485.25 384.35,-381.31 380.35,-338.91\"/>\n</g>\n<!-- 8&#45;&#45;17 -->\n<g id=\"edge51\" class=\"edge\">\n<title>8&#45;&#45;17</title>\n<path fill=\"none\" stroke=\"black\" d=\"M381.37,-543.56C313.92,-543.5 80.08,-539.56 30.62,-488.98 -22.14,-435.01 9.62,-395.95 9.62,-320.48 9.62,-320.48 9.62,-320.48 9.62,-168.49 9.62,-112.63 44.14,-100.93 93.62,-75 166.35,-36.88 428.44,-24.08 502.19,-21.19\"/>\n</g>\n<!-- 8&#45;&#45;18 -->\n<g id=\"edge52\" class=\"edge\">\n<title>8&#45;&#45;18</title>\n<path fill=\"none\" stroke=\"black\" d=\"M395.06,-526.95C381.23,-476.55 338.98,-320.16 310.62,-188.99 305.01,-163.03 299.73,-132.74 296.59,-113.84\"/>\n</g>\n<!-- 12&#45;&#45;15 -->\n<g id=\"edge65\" class=\"edge\">\n<title>12&#45;&#45;15</title>\n<path fill=\"none\" stroke=\"black\" d=\"M187.19,-384.09C218.55,-366.48 288.99,-327.79 350.62,-299.99 433.37,-262.65 454.33,-253.21 540.62,-224.99 609.27,-202.54 692.98,-182.89 729.76,-174.64\"/>\n</g>\n<!-- 12&#45;&#45;13 -->\n<g id=\"edge64\" class=\"edge\">\n<title>12&#45;&#45;13</title>\n<path fill=\"none\" stroke=\"black\" d=\"M186.99,-383.19C192.17,-380.24 198.01,-377.22 203.62,-374.98 264.09,-350.86 285.15,-363.11 345.62,-338.98 351.23,-336.74 357.07,-333.72 362.25,-330.78\"/>\n</g>\n<!-- 12&#45;&#45;17 -->\n<g id=\"edge66\" class=\"edge\">\n<title>12&#45;&#45;17</title>\n<path fill=\"none\" stroke=\"black\" d=\"M154.03,-384.01C120.46,-363.46 47.62,-311.3 47.62,-245.49 47.62,-245.49 47.62,-245.49 47.62,-168.49 47.62,-71.61 412.96,-30.77 502.15,-22.24\"/>\n</g>\n<!-- 12&#45;&#45;18 -->\n<g id=\"edge67\" class=\"edge\">\n<title>12&#45;&#45;18</title>\n<path fill=\"none\" stroke=\"black\" d=\"M172.97,-374.9C178.95,-332.52 197.53,-226.48 241.62,-149.99 251.28,-133.22 267.15,-117.63 278.82,-107.46\"/>\n</g>\n<!-- 13&#45;&#45;14 -->\n<g id=\"edge68\" class=\"edge\">\n<title>13&#45;&#45;14</title>\n<path fill=\"none\" stroke=\"black\" d=\"M395.03,-308.31C400.22,-305.37 406.05,-302.32 411.62,-299.99 464.55,-277.81 482.69,-286.16 535.62,-263.99 541.19,-261.65 547.02,-258.61 552.2,-255.66\"/>\n</g>\n<!-- 13&#45;&#45;16 -->\n<g id=\"edge69\" class=\"edge\">\n<title>13&#45;&#45;16</title>\n<path fill=\"none\" stroke=\"black\" d=\"M394.13,-307.61C433.99,-279.87 543.58,-204.78 639.62,-149.99 671.04,-132.07 709.12,-113.77 730.94,-103.6\"/>\n</g>\n<!-- 13&#45;&#45;17 -->\n<g id=\"edge70\" class=\"edge\">\n<title>13&#45;&#45;17</title>\n<path fill=\"none\" stroke=\"black\" d=\"M386.72,-301.61C411.83,-249.28 488.2,-90.13 513.43,-37.56\"/>\n</g>\n<!-- 13&#45;&#45;18 -->\n<g id=\"edge71\" class=\"edge\">\n<title>13&#45;&#45;18</title>\n<path fill=\"none\" stroke=\"black\" d=\"M371.95,-300.99C356.06,-259.3 316.12,-154.51 300.26,-112.91\"/>\n</g>\n</g>\n</svg>\n",
            "text/plain": [
              "<graphviz.graphs.Graph at 0x7ecb4dabdd90>"
            ]
          },
          "metadata": {}
        }
      ]
    },
    {
      "cell_type": "markdown",
      "source": [
        "## LEF DEF Parsing\n",
        "\n",
        "- Install the LEFDEFParser from the the wheel file : [LEFDEFParser-0.1-cp310-cp310-linux_x86_64.whl](https://github.com/srini229/EE5333_tutorials/blob/master/parser/LEFDEFParser-0.1-cp310-cp310-linux_x86_64.whl)\n",
        "- Download example LEF and DEF files: [Nangate.lef](https://github.com/srini229/EE5333_tutorials/blob/master/parser/Nangate.lef) and [example.def](https://github.com/srini229/EE5333_tutorials/blob/master/parser/example.def)\n",
        "\n",
        "    <img src=\"https://raw.githubusercontent.com/srini229/EE5333_tutorials/master/part/fig/example_cir.png\" width=340 height=195 />\n",
        "\n"
      ],
      "metadata": {
        "id": "9b8l7WIsKTOC"
      }
    },
    {
      "cell_type": "code",
      "source": [
        "!pip install --break-system-packages https://raw.githubusercontent.com/srini229/EE5333_tutorials/master/parser/LEFDEFParser-0.1-cp311-cp311-linux_x86_64.whl\n",
        "!rm *.{lef,def}\n",
        "!wget https://raw.githubusercontent.com/srini229/EE5333_tutorials/master/parser/{Nangate.lef,example.def}\n",
        "!wget https://raw.githubusercontent.com/srini229/EE5333_tutorials/master/parser/sample.{lef,def}"
      ],
      "metadata": {
        "id": "yZMKB51YKRme",
        "outputId": "54f6e7ab-6eaf-42f3-bf37-e1c1f00b1171",
        "colab": {
          "base_uri": "https://localhost:8080/"
        }
      },
      "execution_count": 8,
      "outputs": [
        {
          "output_type": "stream",
          "name": "stdout",
          "text": [
            "Collecting LEFDEFParser==0.1\n",
            "  Downloading https://raw.githubusercontent.com/srini229/EE5333_tutorials/master/parser/LEFDEFParser-0.1-cp311-cp311-linux_x86_64.whl (617 kB)\n",
            "\u001b[2K     \u001b[90m━━━━━━━━━━━━━━━━━━━━━━━━━━━━━━━━━━━━━━━━\u001b[0m \u001b[32m617.8/617.8 kB\u001b[0m \u001b[31m12.1 MB/s\u001b[0m eta \u001b[36m0:00:00\u001b[0m\n",
            "\u001b[?25hInstalling collected packages: LEFDEFParser\n",
            "Successfully installed LEFDEFParser-0.1\n",
            "rm: cannot remove '*.lef': No such file or directory\n",
            "rm: cannot remove '*.def': No such file or directory\n",
            "--2025-01-31 11:36:11--  https://raw.githubusercontent.com/srini229/EE5333_tutorials/master/parser/Nangate.lef\n",
            "Resolving raw.githubusercontent.com (raw.githubusercontent.com)... 185.199.108.133, 185.199.109.133, 185.199.110.133, ...\n",
            "Connecting to raw.githubusercontent.com (raw.githubusercontent.com)|185.199.108.133|:443... connected.\n",
            "HTTP request sent, awaiting response... 200 OK\n",
            "Length: 1083933 (1.0M) [text/plain]\n",
            "Saving to: ‘Nangate.lef’\n",
            "\n",
            "Nangate.lef         100%[===================>]   1.03M  --.-KB/s    in 0.04s   \n",
            "\n",
            "2025-01-31 11:36:11 (25.9 MB/s) - ‘Nangate.lef’ saved [1083933/1083933]\n",
            "\n",
            "--2025-01-31 11:36:11--  https://raw.githubusercontent.com/srini229/EE5333_tutorials/master/parser/example.def\n",
            "Reusing existing connection to raw.githubusercontent.com:443.\n",
            "HTTP request sent, awaiting response... 200 OK\n",
            "Length: 899 [text/plain]\n",
            "Saving to: ‘example.def’\n",
            "\n",
            "example.def         100%[===================>]     899  --.-KB/s    in 0s      \n",
            "\n",
            "2025-01-31 11:36:12 (43.0 MB/s) - ‘example.def’ saved [899/899]\n",
            "\n",
            "FINISHED --2025-01-31 11:36:12--\n",
            "Total wall clock time: 0.9s\n",
            "Downloaded: 2 files, 1.0M in 0.04s (25.9 MB/s)\n",
            "--2025-01-31 11:36:12--  https://raw.githubusercontent.com/srini229/EE5333_tutorials/master/parser/sample.lef\n",
            "Resolving raw.githubusercontent.com (raw.githubusercontent.com)... 185.199.110.133, 185.199.111.133, 185.199.108.133, ...\n",
            "Connecting to raw.githubusercontent.com (raw.githubusercontent.com)|185.199.110.133|:443... connected.\n",
            "HTTP request sent, awaiting response... 200 OK\n",
            "Length: 40034 (39K) [text/plain]\n",
            "Saving to: ‘sample.lef’\n",
            "\n",
            "sample.lef          100%[===================>]  39.10K  --.-KB/s    in 0.006s  \n",
            "\n",
            "2025-01-31 11:36:12 (6.35 MB/s) - ‘sample.lef’ saved [40034/40034]\n",
            "\n",
            "--2025-01-31 11:36:12--  https://raw.githubusercontent.com/srini229/EE5333_tutorials/master/parser/sample.def\n",
            "Reusing existing connection to raw.githubusercontent.com:443.\n",
            "HTTP request sent, awaiting response... 200 OK\n",
            "Length: 2909 (2.8K) [text/plain]\n",
            "Saving to: ‘sample.def’\n",
            "\n",
            "sample.def          100%[===================>]   2.84K  --.-KB/s    in 0s      \n",
            "\n",
            "2025-01-31 11:36:12 (31.9 MB/s) - ‘sample.def’ saved [2909/2909]\n",
            "\n",
            "FINISHED --2025-01-31 11:36:12--\n",
            "Total wall clock time: 0.7s\n",
            "Downloaded: 2 files, 42K in 0.006s (6.71 MB/s)\n"
          ]
        }
      ]
    },
    {
      "cell_type": "code",
      "source": [
        "#vertex class; name is the instance name of the gate; area: area of the module and the;\n",
        "class Vertex:\n",
        "  def __init__(self, name, area):\n",
        "    self._name = name\n",
        "    self._area = area\n",
        "  def __repr__(self):\n",
        "    return self._name + f\" ({round(self._area,2)})\"\n",
        "\n",
        "# Reads input LEF/DEF files and returns a hypergraph with vertex list V and hyperedge list E;\n",
        "# each hyperedge in E is a tuple of vertices of type `Vertex` defined above.\n",
        "def loadNetlist(leffile = None, deffile = None):\n",
        "  import LEFDEFParser as LDP\n",
        "  l = LDP.LEFReader()\n",
        "  areaLookup = dict()\n",
        "  if leffile:\n",
        "    l.readLEF(leffile)\n",
        "    areaLookup = {m.name():(m.xdim()*m.ydim()*1.e-6) for m in l.macros()}\n",
        "  vertices = dict()\n",
        "  edges = dict()\n",
        "  if deffile:\n",
        "    d = LDP.DEFReader()\n",
        "    d.readDEF(deffile)\n",
        "    vertices = {c.name() : Vertex(c.name(), areaLookup.get(c.macro(), None)) for c in d.components()}\n",
        "    edges = {n.name():[vertices[p[0]] for p in n.pins() if p[0] != 'PIN'] for n in d.nets()}\n",
        "  delE = list()\n",
        "  for e in edges:\n",
        "    if len(edges[e]) <= 1:\n",
        "      delE.append(e)\n",
        "  for e in delE: del edges[e]\n",
        "  return vertices, edges"
      ],
      "metadata": {
        "id": "-rcSMjfrJtaK"
      },
      "execution_count": 10,
      "outputs": []
    },
    {
      "cell_type": "code",
      "source": [
        "V,E = loadNetlist('Nangate.lef', 'example.def')\n",
        "Atotal = sum(V[u]._area for u in V)\n",
        "maxCellArea = max(V[u]._area for u in V)\n",
        "print(Atotal, round(maxCellArea,2))"
      ],
      "metadata": {
        "id": "sdy6ddx9cSRO",
        "colab": {
          "base_uri": "https://localhost:8080/"
        },
        "outputId": "4b6a6c63-81eb-49e1-ec21-83e604ec72fd"
      },
      "execution_count": 11,
      "outputs": [
        {
          "output_type": "stream",
          "name": "stdout",
          "text": [
            "18.088 3.19\n"
          ]
        }
      ]
    },
    {
      "cell_type": "code",
      "source": [
        "V,E = loadNetlist('sample.lef', 'sample.def')\n",
        "Atotal = sum(V[u]._area for u in V)\n",
        "maxCellArea = max(V[u]._area for u in V)\n",
        "print(Atotal, round(maxCellArea,2))"
      ],
      "metadata": {
        "id": "4a6bTl_XcaPD",
        "colab": {
          "base_uri": "https://localhost:8080/"
        },
        "outputId": "4c17f84a-9bf5-4707-9dd4-a437b133853d"
      },
      "execution_count": 12,
      "outputs": [
        {
          "output_type": "stream",
          "name": "stdout",
          "text": [
            "250.344 25.99\n"
          ]
        }
      ]
    }
  ]
}