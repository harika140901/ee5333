{
  "cells": [
    {
      "cell_type": "markdown",
      "metadata": {
        "id": "view-in-github",
        "colab_type": "text"
      },
      "source": [
        "<a href=\"https://colab.research.google.com/github/harika140901/EE5333_tutorials/blob/master/Shaastra2025_Quantum_Workshop.ipynb\" target=\"_parent\"><img src=\"https://colab.research.google.com/assets/colab-badge.svg\" alt=\"Open In Colab\"/></a>"
      ]
    },
    {
      "cell_type": "code",
      "execution_count": null,
      "metadata": {
        "colab": {
          "base_uri": "https://localhost:8080/"
        },
        "id": "-_hsa867nB3B",
        "outputId": "ebc2e9cf-7db6-4512-e495-e1d747a9a524"
      },
      "outputs": [
        {
          "name": "stdout",
          "output_type": "stream",
          "text": [
            "Collecting qiskit\n",
            "  Using cached qiskit-1.3.1-cp39-abi3-manylinux_2_17_x86_64.manylinux2014_x86_64.whl.metadata (12 kB)\n",
            "Collecting rustworkx>=0.15.0 (from qiskit)\n",
            "  Using cached rustworkx-0.15.1-cp38-abi3-manylinux_2_17_x86_64.manylinux2014_x86_64.whl.metadata (9.9 kB)\n",
            "Requirement already satisfied: numpy<3,>=1.17 in /usr/local/lib/python3.10/dist-packages (from qiskit) (1.26.4)\n",
            "Requirement already satisfied: scipy>=1.5 in /usr/local/lib/python3.10/dist-packages (from qiskit) (1.13.1)\n",
            "Requirement already satisfied: sympy>=1.3 in /usr/local/lib/python3.10/dist-packages (from qiskit) (1.13.1)\n",
            "Collecting dill>=0.3 (from qiskit)\n",
            "  Using cached dill-0.3.9-py3-none-any.whl.metadata (10 kB)\n",
            "Requirement already satisfied: python-dateutil>=2.8.0 in /usr/local/lib/python3.10/dist-packages (from qiskit) (2.8.2)\n",
            "Collecting stevedore>=3.0.0 (from qiskit)\n",
            "  Using cached stevedore-5.4.0-py3-none-any.whl.metadata (2.3 kB)\n",
            "Requirement already satisfied: typing-extensions in /usr/local/lib/python3.10/dist-packages (from qiskit) (4.12.2)\n",
            "Requirement already satisfied: symengine<0.14,>=0.11 in /usr/local/lib/python3.10/dist-packages (from qiskit) (0.13.0)\n",
            "Requirement already satisfied: six>=1.5 in /usr/local/lib/python3.10/dist-packages (from python-dateutil>=2.8.0->qiskit) (1.17.0)\n",
            "Collecting pbr>=2.0.0 (from stevedore>=3.0.0->qiskit)\n",
            "  Using cached pbr-6.1.0-py2.py3-none-any.whl.metadata (3.4 kB)\n",
            "Requirement already satisfied: mpmath<1.4,>=1.1.0 in /usr/local/lib/python3.10/dist-packages (from sympy>=1.3->qiskit) (1.3.0)\n",
            "Using cached qiskit-1.3.1-cp39-abi3-manylinux_2_17_x86_64.manylinux2014_x86_64.whl (6.7 MB)\n",
            "Using cached dill-0.3.9-py3-none-any.whl (119 kB)\n",
            "Using cached rustworkx-0.15.1-cp38-abi3-manylinux_2_17_x86_64.manylinux2014_x86_64.whl (2.0 MB)\n",
            "Using cached stevedore-5.4.0-py3-none-any.whl (49 kB)\n",
            "Using cached pbr-6.1.0-py2.py3-none-any.whl (108 kB)\n",
            "Installing collected packages: rustworkx, pbr, dill, stevedore, qiskit\n",
            "Successfully installed dill-0.3.9 pbr-6.1.0 qiskit-1.3.1 rustworkx-0.15.1 stevedore-5.4.0\n"
          ]
        }
      ],
      "source": [
        "pip install qiskit\n"
      ]
    },
    {
      "cell_type": "code",
      "execution_count": null,
      "metadata": {
        "colab": {
          "base_uri": "https://localhost:8080/"
        },
        "id": "ADFPg9VnpMhh",
        "outputId": "e28e2fe6-b5fa-4e07-b71c-7b80035d0107"
      },
      "outputs": [
        {
          "name": "stdout",
          "output_type": "stream",
          "text": [
            "Requirement already satisfied: matplotlib in /usr/local/lib/python3.10/dist-packages (3.8.0)\n",
            "Requirement already satisfied: contourpy>=1.0.1 in /usr/local/lib/python3.10/dist-packages (from matplotlib) (1.3.1)\n",
            "Requirement already satisfied: cycler>=0.10 in /usr/local/lib/python3.10/dist-packages (from matplotlib) (0.12.1)\n",
            "Requirement already satisfied: fonttools>=4.22.0 in /usr/local/lib/python3.10/dist-packages (from matplotlib) (4.55.3)\n",
            "Requirement already satisfied: kiwisolver>=1.0.1 in /usr/local/lib/python3.10/dist-packages (from matplotlib) (1.4.7)\n",
            "Requirement already satisfied: numpy<2,>=1.21 in /usr/local/lib/python3.10/dist-packages (from matplotlib) (1.26.4)\n",
            "Requirement already satisfied: packaging>=20.0 in /usr/local/lib/python3.10/dist-packages (from matplotlib) (24.2)\n",
            "Requirement already satisfied: pillow>=6.2.0 in /usr/local/lib/python3.10/dist-packages (from matplotlib) (11.0.0)\n",
            "Requirement already satisfied: pyparsing>=2.3.1 in /usr/local/lib/python3.10/dist-packages (from matplotlib) (3.2.0)\n",
            "Requirement already satisfied: python-dateutil>=2.7 in /usr/local/lib/python3.10/dist-packages (from matplotlib) (2.8.2)\n",
            "Requirement already satisfied: six>=1.5 in /usr/local/lib/python3.10/dist-packages (from python-dateutil>=2.7->matplotlib) (1.17.0)\n"
          ]
        }
      ],
      "source": [
        "pip install matplotlib"
      ]
    },
    {
      "cell_type": "code",
      "execution_count": null,
      "metadata": {
        "colab": {
          "base_uri": "https://localhost:8080/"
        },
        "id": "n5m8BoDJpuNk",
        "outputId": "9f46fc00-ac1a-4344-90bf-fe134ffe9fc1"
      },
      "outputs": [
        {
          "name": "stdout",
          "output_type": "stream",
          "text": [
            "Collecting qiskit_ibm_runtime\n",
            "  Using cached qiskit_ibm_runtime-0.34.0-py3-none-any.whl.metadata (3.0 kB)\n",
            "Requirement already satisfied: requests>=2.19 in /usr/local/lib/python3.10/dist-packages (from qiskit_ibm_runtime) (2.32.3)\n",
            "Collecting requests-ntlm>=1.1.0 (from qiskit_ibm_runtime)\n",
            "  Using cached requests_ntlm-1.3.0-py3-none-any.whl.metadata (2.4 kB)\n",
            "Requirement already satisfied: numpy>=1.13 in /usr/local/lib/python3.10/dist-packages (from qiskit_ibm_runtime) (1.26.4)\n",
            "Requirement already satisfied: urllib3>=1.21.1 in /usr/local/lib/python3.10/dist-packages (from qiskit_ibm_runtime) (2.2.3)\n",
            "Requirement already satisfied: python-dateutil>=2.8.0 in /usr/local/lib/python3.10/dist-packages (from qiskit_ibm_runtime) (2.8.2)\n",
            "Requirement already satisfied: websocket-client>=1.5.1 in /usr/local/lib/python3.10/dist-packages (from qiskit_ibm_runtime) (1.8.0)\n",
            "Collecting ibm-platform-services>=0.22.6 (from qiskit_ibm_runtime)\n",
            "  Using cached ibm_platform_services-0.59.0-py3-none-any.whl.metadata (9.0 kB)\n",
            "Collecting pydantic<2.10,>=2.5.0 (from qiskit_ibm_runtime)\n",
            "  Using cached pydantic-2.9.2-py3-none-any.whl.metadata (149 kB)\n",
            "Requirement already satisfied: qiskit>=1.1.0 in /usr/local/lib/python3.10/dist-packages (from qiskit_ibm_runtime) (1.3.1)\n",
            "Collecting ibm-cloud-sdk-core<4.0.0,>=3.22.0 (from ibm-platform-services>=0.22.6->qiskit_ibm_runtime)\n",
            "  Using cached ibm_cloud_sdk_core-3.22.0-py3-none-any.whl.metadata (8.6 kB)\n",
            "Requirement already satisfied: annotated-types>=0.6.0 in /usr/local/lib/python3.10/dist-packages (from pydantic<2.10,>=2.5.0->qiskit_ibm_runtime) (0.7.0)\n",
            "Collecting pydantic-core==2.23.4 (from pydantic<2.10,>=2.5.0->qiskit_ibm_runtime)\n",
            "  Using cached pydantic_core-2.23.4-cp310-cp310-manylinux_2_17_x86_64.manylinux2014_x86_64.whl.metadata (6.6 kB)\n",
            "Requirement already satisfied: typing-extensions>=4.6.1 in /usr/local/lib/python3.10/dist-packages (from pydantic<2.10,>=2.5.0->qiskit_ibm_runtime) (4.12.2)\n",
            "Requirement already satisfied: six>=1.5 in /usr/local/lib/python3.10/dist-packages (from python-dateutil>=2.8.0->qiskit_ibm_runtime) (1.17.0)\n",
            "Requirement already satisfied: rustworkx>=0.15.0 in /usr/local/lib/python3.10/dist-packages (from qiskit>=1.1.0->qiskit_ibm_runtime) (0.15.1)\n",
            "Requirement already satisfied: scipy>=1.5 in /usr/local/lib/python3.10/dist-packages (from qiskit>=1.1.0->qiskit_ibm_runtime) (1.13.1)\n",
            "Requirement already satisfied: sympy>=1.3 in /usr/local/lib/python3.10/dist-packages (from qiskit>=1.1.0->qiskit_ibm_runtime) (1.13.1)\n",
            "Requirement already satisfied: dill>=0.3 in /usr/local/lib/python3.10/dist-packages (from qiskit>=1.1.0->qiskit_ibm_runtime) (0.3.9)\n",
            "Requirement already satisfied: stevedore>=3.0.0 in /usr/local/lib/python3.10/dist-packages (from qiskit>=1.1.0->qiskit_ibm_runtime) (5.4.0)\n",
            "Requirement already satisfied: symengine<0.14,>=0.11 in /usr/local/lib/python3.10/dist-packages (from qiskit>=1.1.0->qiskit_ibm_runtime) (0.13.0)\n",
            "Requirement already satisfied: charset-normalizer<4,>=2 in /usr/local/lib/python3.10/dist-packages (from requests>=2.19->qiskit_ibm_runtime) (3.4.0)\n",
            "Requirement already satisfied: idna<4,>=2.5 in /usr/local/lib/python3.10/dist-packages (from requests>=2.19->qiskit_ibm_runtime) (3.10)\n",
            "Requirement already satisfied: certifi>=2017.4.17 in /usr/local/lib/python3.10/dist-packages (from requests>=2.19->qiskit_ibm_runtime) (2024.12.14)\n",
            "Requirement already satisfied: cryptography>=1.3 in /usr/local/lib/python3.10/dist-packages (from requests-ntlm>=1.1.0->qiskit_ibm_runtime) (43.0.3)\n",
            "Collecting pyspnego>=0.4.0 (from requests-ntlm>=1.1.0->qiskit_ibm_runtime)\n",
            "  Using cached pyspnego-0.11.2-py3-none-any.whl.metadata (5.4 kB)\n",
            "Requirement already satisfied: cffi>=1.12 in /usr/local/lib/python3.10/dist-packages (from cryptography>=1.3->requests-ntlm>=1.1.0->qiskit_ibm_runtime) (1.17.1)\n",
            "Requirement already satisfied: PyJWT<3.0.0,>=2.8.0 in /usr/local/lib/python3.10/dist-packages (from ibm-cloud-sdk-core<4.0.0,>=3.22.0->ibm-platform-services>=0.22.6->qiskit_ibm_runtime) (2.10.1)\n",
            "Requirement already satisfied: pbr>=2.0.0 in /usr/local/lib/python3.10/dist-packages (from stevedore>=3.0.0->qiskit>=1.1.0->qiskit_ibm_runtime) (6.1.0)\n",
            "Requirement already satisfied: mpmath<1.4,>=1.1.0 in /usr/local/lib/python3.10/dist-packages (from sympy>=1.3->qiskit>=1.1.0->qiskit_ibm_runtime) (1.3.0)\n",
            "Requirement already satisfied: pycparser in /usr/local/lib/python3.10/dist-packages (from cffi>=1.12->cryptography>=1.3->requests-ntlm>=1.1.0->qiskit_ibm_runtime) (2.22)\n",
            "Using cached qiskit_ibm_runtime-0.34.0-py3-none-any.whl (3.0 MB)\n",
            "Using cached ibm_platform_services-0.59.0-py3-none-any.whl (340 kB)\n",
            "Using cached pydantic-2.9.2-py3-none-any.whl (434 kB)\n",
            "Using cached pydantic_core-2.23.4-cp310-cp310-manylinux_2_17_x86_64.manylinux2014_x86_64.whl (2.1 MB)\n",
            "Using cached requests_ntlm-1.3.0-py3-none-any.whl (6.6 kB)\n",
            "Using cached ibm_cloud_sdk_core-3.22.0-py3-none-any.whl (69 kB)\n",
            "Using cached pyspnego-0.11.2-py3-none-any.whl (130 kB)\n",
            "Installing collected packages: pydantic-core, pydantic, ibm-cloud-sdk-core, pyspnego, ibm-platform-services, requests-ntlm, qiskit_ibm_runtime\n",
            "  Attempting uninstall: pydantic-core\n",
            "    Found existing installation: pydantic_core 2.27.1\n",
            "    Uninstalling pydantic_core-2.27.1:\n",
            "      Successfully uninstalled pydantic_core-2.27.1\n",
            "  Attempting uninstall: pydantic\n",
            "    Found existing installation: pydantic 2.10.3\n",
            "    Uninstalling pydantic-2.10.3:\n",
            "      Successfully uninstalled pydantic-2.10.3\n",
            "Successfully installed ibm-cloud-sdk-core-3.22.0 ibm-platform-services-0.59.0 pydantic-2.9.2 pydantic-core-2.23.4 pyspnego-0.11.2 qiskit_ibm_runtime-0.34.0 requests-ntlm-1.3.0\n"
          ]
        }
      ],
      "source": [
        "pip install qiskit_ibm_runtime"
      ]
    },
    {
      "cell_type": "code",
      "execution_count": null,
      "metadata": {
        "colab": {
          "base_uri": "https://localhost:8080/"
        },
        "collapsed": true,
        "id": "QO7D8Ilwpzye",
        "outputId": "fe35e376-a902-486c-b515-5d6016beebd3"
      },
      "outputs": [
        {
          "name": "stdout",
          "output_type": "stream",
          "text": [
            "Collecting pylatexenc\n",
            "  Downloading pylatexenc-2.10.tar.gz (162 kB)\n",
            "\u001b[?25l     \u001b[90m━━━━━━━━━━━━━━━━━━━━━━━━━━━━━━━━━━━━━━━━\u001b[0m \u001b[32m0.0/162.6 kB\u001b[0m \u001b[31m?\u001b[0m eta \u001b[36m-:--:--\u001b[0m\r\u001b[2K     \u001b[90m━━━━━━━━━━━━━━━━━━━━━━━━━━━━━━━━━━━━━━━━\u001b[0m \u001b[32m162.6/162.6 kB\u001b[0m \u001b[31m4.7 MB/s\u001b[0m eta \u001b[36m0:00:00\u001b[0m\n",
            "\u001b[?25h  Preparing metadata (setup.py) ... \u001b[?25l\u001b[?25hdone\n",
            "Building wheels for collected packages: pylatexenc\n",
            "  Building wheel for pylatexenc (setup.py) ... \u001b[?25l\u001b[?25hdone\n",
            "  Created wheel for pylatexenc: filename=pylatexenc-2.10-py3-none-any.whl size=136816 sha256=60f693f776519e3239894bcc506e8fbce2b29f25f4a526093dd8287fa3d98845\n",
            "  Stored in directory: /root/.cache/pip/wheels/d3/31/8b/e09b0386afd80cfc556c00408c9aeea5c35c4d484a9c762fd5\n",
            "Successfully built pylatexenc\n",
            "Installing collected packages: pylatexenc\n",
            "Successfully installed pylatexenc-2.10\n"
          ]
        }
      ],
      "source": [
        "pip install pylatexenc\n"
      ]
    },
    {
      "cell_type": "code",
      "execution_count": null,
      "metadata": {
        "colab": {
          "base_uri": "https://localhost:8080/"
        },
        "id": "Cyc2iWNmZwvT",
        "outputId": "73b643cf-636b-44ad-8818-e2d9a64b4ac2"
      },
      "outputs": [
        {
          "name": "stdout",
          "output_type": "stream",
          "text": [
            "Collecting qiskit-aer\n",
            "  Downloading qiskit_aer-0.15.1-cp310-cp310-manylinux_2_17_x86_64.manylinux2014_x86_64.whl.metadata (8.0 kB)\n",
            "Requirement already satisfied: qiskit>=1.1.0 in /usr/local/lib/python3.10/dist-packages (from qiskit-aer) (1.3.1)\n",
            "Requirement already satisfied: numpy>=1.16.3 in /usr/local/lib/python3.10/dist-packages (from qiskit-aer) (1.26.4)\n",
            "Requirement already satisfied: scipy>=1.0 in /usr/local/lib/python3.10/dist-packages (from qiskit-aer) (1.13.1)\n",
            "Requirement already satisfied: psutil>=5 in /usr/local/lib/python3.10/dist-packages (from qiskit-aer) (5.9.5)\n",
            "Requirement already satisfied: rustworkx>=0.15.0 in /usr/local/lib/python3.10/dist-packages (from qiskit>=1.1.0->qiskit-aer) (0.15.1)\n",
            "Requirement already satisfied: sympy>=1.3 in /usr/local/lib/python3.10/dist-packages (from qiskit>=1.1.0->qiskit-aer) (1.13.1)\n",
            "Requirement already satisfied: dill>=0.3 in /usr/local/lib/python3.10/dist-packages (from qiskit>=1.1.0->qiskit-aer) (0.3.9)\n",
            "Requirement already satisfied: python-dateutil>=2.8.0 in /usr/local/lib/python3.10/dist-packages (from qiskit>=1.1.0->qiskit-aer) (2.8.2)\n",
            "Requirement already satisfied: stevedore>=3.0.0 in /usr/local/lib/python3.10/dist-packages (from qiskit>=1.1.0->qiskit-aer) (5.4.0)\n",
            "Requirement already satisfied: typing-extensions in /usr/local/lib/python3.10/dist-packages (from qiskit>=1.1.0->qiskit-aer) (4.12.2)\n",
            "Requirement already satisfied: symengine<0.14,>=0.11 in /usr/local/lib/python3.10/dist-packages (from qiskit>=1.1.0->qiskit-aer) (0.13.0)\n",
            "Requirement already satisfied: six>=1.5 in /usr/local/lib/python3.10/dist-packages (from python-dateutil>=2.8.0->qiskit>=1.1.0->qiskit-aer) (1.17.0)\n",
            "Requirement already satisfied: pbr>=2.0.0 in /usr/local/lib/python3.10/dist-packages (from stevedore>=3.0.0->qiskit>=1.1.0->qiskit-aer) (6.1.0)\n",
            "Requirement already satisfied: mpmath<1.4,>=1.1.0 in /usr/local/lib/python3.10/dist-packages (from sympy>=1.3->qiskit>=1.1.0->qiskit-aer) (1.3.0)\n",
            "Downloading qiskit_aer-0.15.1-cp310-cp310-manylinux_2_17_x86_64.manylinux2014_x86_64.whl (12.3 MB)\n",
            "\u001b[2K   \u001b[90m━━━━━━━━━━━━━━━━━━━━━━━━━━━━━━━━━━━━━━━━\u001b[0m \u001b[32m12.3/12.3 MB\u001b[0m \u001b[31m91.7 MB/s\u001b[0m eta \u001b[36m0:00:00\u001b[0m\n",
            "\u001b[?25hInstalling collected packages: qiskit-aer\n",
            "Successfully installed qiskit-aer-0.15.1\n"
          ]
        }
      ],
      "source": [
        "pip install qiskit-aer"
      ]
    },
    {
      "cell_type": "code",
      "execution_count": null,
      "metadata": {
        "colab": {
          "base_uri": "https://localhost:8080/"
        },
        "id": "TeeYltN4NMFw",
        "outputId": "fd034a70-7126-4694-d056-2c60e3f08afa"
      },
      "outputs": [
        {
          "name": "stdout",
          "output_type": "stream",
          "text": [
            "Collecting qiskit-ibm-provider\n",
            "  Downloading qiskit_ibm_provider-0.11.0-py3-none-any.whl.metadata (7.6 kB)\n",
            "Requirement already satisfied: qiskit>=0.45.0 in /usr/local/lib/python3.10/dist-packages (from qiskit-ibm-provider) (1.3.1)\n",
            "Requirement already satisfied: requests>=2.19 in /usr/local/lib/python3.10/dist-packages (from qiskit-ibm-provider) (2.32.3)\n",
            "Requirement already satisfied: requests-ntlm>=1.1.0 in /usr/local/lib/python3.10/dist-packages (from qiskit-ibm-provider) (1.3.0)\n",
            "Requirement already satisfied: numpy>=1.13 in /usr/local/lib/python3.10/dist-packages (from qiskit-ibm-provider) (1.26.4)\n",
            "Requirement already satisfied: urllib3>=1.21.1 in /usr/local/lib/python3.10/dist-packages (from qiskit-ibm-provider) (2.2.3)\n",
            "Requirement already satisfied: python-dateutil>=2.8.0 in /usr/local/lib/python3.10/dist-packages (from qiskit-ibm-provider) (2.8.2)\n",
            "Requirement already satisfied: websocket-client>=1.5.1 in /usr/local/lib/python3.10/dist-packages (from qiskit-ibm-provider) (1.8.0)\n",
            "Requirement already satisfied: websockets>=10.0 in /usr/local/lib/python3.10/dist-packages (from qiskit-ibm-provider) (14.1)\n",
            "Requirement already satisfied: typing-extensions>=4.3 in /usr/local/lib/python3.10/dist-packages (from qiskit-ibm-provider) (4.12.2)\n",
            "Requirement already satisfied: six>=1.5 in /usr/local/lib/python3.10/dist-packages (from python-dateutil>=2.8.0->qiskit-ibm-provider) (1.17.0)\n",
            "Requirement already satisfied: rustworkx>=0.15.0 in /usr/local/lib/python3.10/dist-packages (from qiskit>=0.45.0->qiskit-ibm-provider) (0.15.1)\n",
            "Requirement already satisfied: scipy>=1.5 in /usr/local/lib/python3.10/dist-packages (from qiskit>=0.45.0->qiskit-ibm-provider) (1.13.1)\n",
            "Requirement already satisfied: sympy>=1.3 in /usr/local/lib/python3.10/dist-packages (from qiskit>=0.45.0->qiskit-ibm-provider) (1.13.1)\n",
            "Requirement already satisfied: dill>=0.3 in /usr/local/lib/python3.10/dist-packages (from qiskit>=0.45.0->qiskit-ibm-provider) (0.3.9)\n",
            "Requirement already satisfied: stevedore>=3.0.0 in /usr/local/lib/python3.10/dist-packages (from qiskit>=0.45.0->qiskit-ibm-provider) (5.4.0)\n",
            "Requirement already satisfied: symengine<0.14,>=0.11 in /usr/local/lib/python3.10/dist-packages (from qiskit>=0.45.0->qiskit-ibm-provider) (0.13.0)\n",
            "Requirement already satisfied: charset-normalizer<4,>=2 in /usr/local/lib/python3.10/dist-packages (from requests>=2.19->qiskit-ibm-provider) (3.4.0)\n",
            "Requirement already satisfied: idna<4,>=2.5 in /usr/local/lib/python3.10/dist-packages (from requests>=2.19->qiskit-ibm-provider) (3.10)\n",
            "Requirement already satisfied: certifi>=2017.4.17 in /usr/local/lib/python3.10/dist-packages (from requests>=2.19->qiskit-ibm-provider) (2024.12.14)\n",
            "Requirement already satisfied: cryptography>=1.3 in /usr/local/lib/python3.10/dist-packages (from requests-ntlm>=1.1.0->qiskit-ibm-provider) (43.0.3)\n",
            "Requirement already satisfied: pyspnego>=0.4.0 in /usr/local/lib/python3.10/dist-packages (from requests-ntlm>=1.1.0->qiskit-ibm-provider) (0.11.2)\n",
            "Requirement already satisfied: cffi>=1.12 in /usr/local/lib/python3.10/dist-packages (from cryptography>=1.3->requests-ntlm>=1.1.0->qiskit-ibm-provider) (1.17.1)\n",
            "Requirement already satisfied: pbr>=2.0.0 in /usr/local/lib/python3.10/dist-packages (from stevedore>=3.0.0->qiskit>=0.45.0->qiskit-ibm-provider) (6.1.0)\n",
            "Requirement already satisfied: mpmath<1.4,>=1.1.0 in /usr/local/lib/python3.10/dist-packages (from sympy>=1.3->qiskit>=0.45.0->qiskit-ibm-provider) (1.3.0)\n",
            "Requirement already satisfied: pycparser in /usr/local/lib/python3.10/dist-packages (from cffi>=1.12->cryptography>=1.3->requests-ntlm>=1.1.0->qiskit-ibm-provider) (2.22)\n",
            "Downloading qiskit_ibm_provider-0.11.0-py3-none-any.whl (249 kB)\n",
            "\u001b[2K   \u001b[90m━━━━━━━━━━━━━━━━━━━━━━━━━━━━━━━━━━━━━━━━\u001b[0m \u001b[32m249.9/249.9 kB\u001b[0m \u001b[31m5.8 MB/s\u001b[0m eta \u001b[36m0:00:00\u001b[0m\n",
            "\u001b[?25hInstalling collected packages: qiskit-ibm-provider\n",
            "Successfully installed qiskit-ibm-provider-0.11.0\n"
          ]
        }
      ],
      "source": [
        "pip install qiskit-ibm-provider\n"
      ]
    },
    {
      "cell_type": "code",
      "execution_count": null,
      "metadata": {
        "colab": {
          "base_uri": "https://localhost:8080/"
        },
        "id": "vY1qF4iCNZdn",
        "outputId": "200ef6f3-2431-4589-fe0c-365eb75e9229"
      },
      "outputs": [
        {
          "name": "stderr",
          "output_type": "stream",
          "text": [
            "<ipython-input-8-4691b17bfc7f>:1: DeprecationWarning: The package qiskit_ibm_provider is being deprecated. Please see https://docs.quantum.ibm.com/api/migration-guides/qiskit-runtime to get instructions on how to migrate to qiskit-ibm-runtime (https://github.com/Qiskit/qiskit-ibm-runtime).\n",
            "  from qiskit_ibm_provider import IBMProvider\n"
          ]
        }
      ],
      "source": [
        "from qiskit_ibm_provider import IBMProvider\n",
        "IBMProvider.save_account('API_TOKEN', overwrite=True)\n"
      ]
    },
    {
      "cell_type": "code",
      "execution_count": null,
      "metadata": {
        "id": "73GCNYnZp4GF"
      },
      "outputs": [],
      "source": [
        "#Imports\n",
        "from qiskit import QuantumCircuit\n",
        "from qiskit_aer import AerSimulator\n",
        "from qiskit.visualization import plot_bloch_multivector, plot_histogram, visualize_transition\n",
        "from qiskit.quantum_info import SparsePauliOp, Statevector\n",
        "from qiskit_ibm_runtime import EstimatorV2 as Estimator\n",
        "from qiskit.primitives import StatevectorSampler, PrimitiveJob\n",
        "import matplotlib.pyplot as plt"
      ]
    },
    {
      "cell_type": "markdown",
      "metadata": {
        "id": "oWBeZeIWmgLQ"
      },
      "source": [
        "# Exploring Quantum Gates"
      ]
    },
    {
      "cell_type": "code",
      "execution_count": null,
      "metadata": {
        "colab": {
          "base_uri": "https://localhost:8080/",
          "height": 191
        },
        "id": "0ioDaTy5R5jO",
        "outputId": "cfaadb68-c9ce-498b-f62d-b08fad593457"
      },
      "outputs": [
        {
          "data": {
            "image/png": "[encoded data removed]",
            "text/plain": [
              "<Figure size 185.453x200.667 with 1 Axes>"
            ]
          },
          "execution_count": 10,
          "metadata": {},
          "output_type": "execute_result"
        }
      ],
      "source": [
        "# Create a new circuit with a single qubit\n",
        "qc = QuantumCircuit(1, 1)\n",
        "\n",
        "# Add a Not gate to qubit 0\n",
        "qc.x(0)\n",
        "\n",
        "# Return a drawing of the circuit using MatPlotLib (\"mpl\").\n",
        "qc.draw(\"mpl\")"
      ]
    },
    {
      "cell_type": "code",
      "execution_count": null,
      "metadata": {
        "colab": {
          "base_uri": "https://localhost:8080/",
          "height": 191
        },
        "id": "mcDxY8-j4QaU",
        "outputId": "2513e557-5891-43ed-b497-009f3ee3b856"
      },
      "outputs": [
        {
          "data": {
            "image/png": "[encoded data removed]",
            "text/plain": [
              "<Figure size 269.064x200.667 with 1 Axes>"
            ]
          },
          "execution_count": 11,
          "metadata": {},
          "output_type": "execute_result"
        }
      ],
      "source": [
        "#Measuring and storing in a classical bit\n",
        "\n",
        "#To measure qubit 0 and store it classical bit 0\n",
        "qc.measure(0, 0)\n",
        "\n",
        "#Drawing the circuit\n",
        "qc.draw('mpl')"
      ]
    },
    {
      "cell_type": "markdown",
      "metadata": {
        "id": "5-_tgdbnNQrM"
      },
      "source": [
        "Ex 1:\n",
        "Required output\n",
        "\n",
        "![Screenshot 2025-01-07 013110.png](data:image/png;base64,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)"
      ]
    },
    {
      "cell_type": "code",
      "execution_count": null,
      "metadata": {
        "colab": {
          "base_uri": "https://localhost:8080/",
          "height": 191
        },
        "id": "PAtEAXvamvKV",
        "outputId": "d15400c4-7a74-4bbc-d493-06a5253e61db"
      },
      "outputs": [
        {
          "data": {
            "image/png": "[encoded data removed]",
            "text/plain": [
              "<Figure size 269.064x200.667 with 1 Axes>"
            ]
          },
          "execution_count": 12,
          "metadata": {},
          "output_type": "execute_result"
        }
      ],
      "source": [
        "'''\n",
        "Challenge 1: Creating a Simple Quantum Circuit\n",
        "\n",
        "1. Create a quantum circuit with one qubit and one classical bit.\n",
        "2. Apply a Hadamard gate to the qubit.\n",
        "3. Measure the qubit and store the result in the classical bit.\n",
        "'''\n",
        "\n",
        "# Create a quantum circuit with one qubit and one classical bit\n",
        "qc = QuantumCircuit(1,1)\n",
        "\n",
        "# Apply a Hadamard gate to the qubit\n",
        "qc.h(0)\n",
        "\n",
        "# Measure the qubit\n",
        "qc.measure(0,0)\n",
        "\n",
        "# Draw the circuit\n",
        "qc.draw('mpl')\n",
        "\n"
      ]
    },
    {
      "cell_type": "markdown",
      "metadata": {
        "id": "GX6g0hrjC6w2"
      },
      "source": [
        "Ex 2:\n",
        "Required output\n",
        "\n",
        "![Screenshot 2025-01-07 012549.png](data:image/png;base64,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)"
      ]
    },
    {
      "cell_type": "code",
      "execution_count": null,
      "metadata": {
        "colab": {
          "base_uri": "https://localhost:8080/",
          "height": 255
        },
        "id": "P2KIVMuo7gGf",
        "outputId": "6e8dd80b-25d3-41b8-9b45-787885fac693"
      },
      "outputs": [
        {
          "data": {
            "image/png": "[encoded data removed]",
            "text/plain": [
              "<Figure size 496.776x284.278 with 1 Axes>"
            ]
          },
          "execution_count": 14,
          "metadata": {},
          "output_type": "execute_result"
        }
      ],
      "source": [
        "#Creating a quantum circuit with two qubits and two classical bits.\n",
        "qc = QuantumCircuit(2)\n",
        "\n",
        "#Apply Not gate to the first qubit and Hadamard to the second qubit.\n",
        "qc.x(0)\n",
        "qc.h(1)\n",
        "\n",
        "#Measure and draw the circuit\n",
        "qc.measure_all()\n",
        "qc.draw('mpl')"
      ]
    },
    {
      "cell_type": "markdown",
      "metadata": {
        "id": "Yigyjaqba-1R"
      },
      "source": [
        "# The Bloch Sphere"
      ]
    },
    {
      "cell_type": "code",
      "execution_count": null,
      "metadata": {
        "colab": {
          "background_save": true,
          "base_uri": "https://localhost:8080/"
        },
        "id": "GXa9SRZQY7UH",
        "outputId": "6a39e453-10ab-4492-afd6-e9fbdd33f06d"
      },
      "outputs": [
        {
          "output_type": "stream",
          "text": [
            "\u001b[1;30;43mThis cell output is too large and can only be displayed while logged in.\u001b[0m\n"
          ]
        }
      ],
      "source": [
        "#Creating a quantum circuit and applying not gate\n",
        "qc = QuantumCircuit(1)\n",
        "qc.x(0)\n",
        "\n",
        "# Visualize the state using a Bloch sphere\n",
        "visualize_transition(qc)\n"
      ]
    },
    {
      "cell_type": "markdown",
      "metadata": {
        "id": "JK5sqt1ZC8Tp"
      },
      "source": [
        "Ex 3:\n",
        "Requried output\n",
        "\n",
        "![Screenshot 2025-01-07 012916.png](data:image/png;base64,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)"
      ]
    },
    {
      "cell_type": "code",
      "execution_count": null,
      "metadata": {
        "id": "FXQ2M9yv24fH"
      },
      "outputs": [],
      "source": [
        "'''Challenge 3: Adding More Gates\n",
        "\n",
        "1.Create a single qubit quantum circuit\n",
        "2. Add the following gates in order - H, X, H\n",
        "'''\n",
        "#Your code goes here\n",
        "\n",
        "#Drawing the circuit\n",
        "qc.draw('mpl')"
      ]
    },
    {
      "cell_type": "code",
      "execution_count": null,
      "metadata": {
        "id": "4QVod6hy_FdH"
      },
      "outputs": [],
      "source": [
        "#Visualize using Bloch Sphere\n",
        "\n",
        "#your code"
      ]
    },
    {
      "cell_type": "markdown",
      "metadata": {
        "id": "aC464WFp2eyH"
      },
      "source": [
        "# Measurment and Histograms"
      ]
    },
    {
      "cell_type": "code",
      "execution_count": null,
      "metadata": {
        "id": "bRXQv2Pn3YdC"
      },
      "outputs": [],
      "source": [
        "\n",
        "''' Challenge 4: Analyzing Output Using Histograms\n",
        "\n",
        "1. Simulate the circuit using the Qasm simulator.\n",
        "2. Run the simulation 1000 times to get a distribution of results.\n",
        "3. Use a histogram to visualize the output.\n",
        "'''\n",
        "\n",
        "#Creating the quantum circuit\n",
        "qc = QuantumCircuit(2,2)\n",
        "qc.x(0)\n",
        "qc.h(1)\n",
        "\n",
        "#Connecting to the backend\n",
        "sampler = StatevectorSampler()\n",
        "pub = (qc)\n",
        "job_sampler = sampler.run([pub], shots=10000)\n",
        "\n",
        "#Postprocessing the results\n",
        "result_sampler = job_sampler.result()\n",
        "counts_sampler = result_sampler[0].data.meas.get_counts()\n",
        "\n",
        "print(counts_sampler)\n"
      ]
    },
    {
      "cell_type": "code",
      "execution_count": null,
      "metadata": {
        "id": "0svfVblE4lpd"
      },
      "outputs": [],
      "source": [
        "plot_histogram(counts_sampler)"
      ]
    },
    {
      "cell_type": "markdown",
      "metadata": {
        "id": "831u8kEZ20xQ"
      },
      "source": [
        "Ex 4:\n",
        "\n",
        "![Screenshot 2025-01-07 014121.png](data:image/png;base64,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)"
      ]
    },
    {
      "cell_type": "code",
      "execution_count": null,
      "metadata": {
        "id": "zuIXBU9f4uHz"
      },
      "outputs": [],
      "source": [
        "# Create a two qubit quantum circuit\n",
        "# Apply H gate to both qubits\n",
        "# Draw the circuit"
      ]
    },
    {
      "cell_type": "code",
      "execution_count": null,
      "metadata": {
        "id": "ONAQU33H5LK6"
      },
      "outputs": [],
      "source": [
        "# Run simulation and plot the histogram for the above circuit (Hint: Refer to the above example)\n",
        "\n",
        "# Connecting to the backend\n",
        "\n",
        "# Post processing the results\n",
        "\n",
        "# Plotting the histogram"
      ]
    },
    {
      "cell_type": "markdown",
      "metadata": {
        "id": "np6wxvWa5SwC"
      },
      "source": [
        "Superposition"
      ]
    },
    {
      "cell_type": "markdown",
      "metadata": {
        "id": "UHPmn_CF5ebB"
      },
      "source": [
        "#Multi Qubit Gates"
      ]
    },
    {
      "cell_type": "markdown",
      "metadata": {
        "id": "hhJhj-11RJdu"
      },
      "source": [
        "![Screenshot 2025-01-07 014823.png](data:image/png;base64,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)"
      ]
    },
    {
      "cell_type": "code",
      "execution_count": null,
      "metadata": {
        "id": "PRflvY4b5kHs"
      },
      "outputs": [],
      "source": [
        "# Create a two qubit quantum circuits\n",
        "# your code\n",
        "\n",
        "#Applying C-Not gate\n",
        "#qc.cx(target_qubit, control_qubit)\n",
        "qc.cx(0,1)\n",
        "\n",
        "#Draw the circuit\n",
        "qc.draw('mpl')\n",
        "\n",
        "qc.measure_all()"
      ]
    },
    {
      "cell_type": "code",
      "execution_count": null,
      "metadata": {
        "id": "fGEiIaS5RFPg"
      },
      "outputs": [],
      "source": [
        "#Plotting Histogram\n",
        "\n",
        "#Connecting to the backend\n",
        "sampler = StatevectorSampler()\n",
        "pub = (qc)\n",
        "job_sampler = sampler.run([pub], shots=10000)\n",
        "\n",
        "#Postprocessing the results\n",
        "result_sampler = job_sampler.result()\n",
        "counts_sampler = result_sampler[0].data.meas.get_counts()\n",
        "\n",
        "plot_histogram(counts_sampler)"
      ]
    },
    {
      "cell_type": "markdown",
      "metadata": {
        "id": "CMmEpwC45kcG"
      },
      "source": [
        "#Quantum Entanglement\n"
      ]
    },
    {
      "cell_type": "code",
      "execution_count": null,
      "metadata": {
        "id": "Z0vpdKBLqRiA"
      },
      "outputs": [],
      "source": [
        "''' Bell states\n",
        "1. Create a two qubit quantum circuit with two classical bits\n",
        "2. Apply H gate to the first qubit\n",
        "3. Apply cx gate with first qubit acting as the control and the second as the target.\n",
        "4. Draw the circuit\n",
        "'''\n",
        "\n"
      ]
    },
    {
      "cell_type": "code",
      "execution_count": null,
      "metadata": {
        "id": "XJeaGTPeSD83"
      },
      "outputs": [],
      "source": [
        "#Measure and plot the histogram"
      ]
    },
    {
      "cell_type": "markdown",
      "metadata": {
        "id": "J_F--GOB6Cqs"
      },
      "source": [
        "#Teleportation"
      ]
    },
    {
      "cell_type": "markdown",
      "metadata": {
        "id": "rKNT0aCbBtG1"
      },
      "source": [
        "![Screenshot 2025-01-07 095950.png](data:image/png;base64,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)"
      ]
    },
    {
      "cell_type": "code",
      "execution_count": null,
      "metadata": {
        "id": "RCaB7pYp6CHU"
      },
      "outputs": [],
      "source": [
        "from qiskit import *"
      ]
    },
    {
      "cell_type": "code",
      "execution_count": null,
      "metadata": {
        "id": "NIEWPkqwQ_BF"
      },
      "outputs": [],
      "source": [
        "circuit = QuantumCircuit(3,3)\n",
        "\n",
        "''' QUBIT ORDERING\n",
        "# q0 = State |psi> that we want to teleport\n",
        "# q1 = Alice's half of the Bell pair\n",
        "# q2 = Bob's half of the Bell pair, the destination of the teleportation\n",
        "\n",
        "========================'''\n",
        "\n",
        "# Step 0: Create the state to be teleported in qubit 0\n",
        "\n",
        "#Apply a cnot gate to the q0\n",
        "#your code here\n",
        "\n",
        "circuit.barrier()\n",
        "\n",
        "\n"
      ]
    },
    {
      "cell_type": "code",
      "execution_count": null,
      "metadata": {
        "id": "11JXgSLHRefE"
      },
      "outputs": [],
      "source": [
        "# Step 1: create an entangled Bell pair between Alice and Bob (qubits 1 and 2)\n",
        "#your code here\n",
        "\n",
        "circuit.barrier"
      ]
    },
    {
      "cell_type": "code",
      "execution_count": null,
      "metadata": {
        "id": "23MNuqPSRtQe"
      },
      "outputs": [],
      "source": [
        "# Step 2: Alice applies a series of operations\n",
        "# between the state to teleport (qubit 0) and her half of the Bell pair (qubit 1)\n",
        "\n",
        "#your code here\n",
        "\n",
        "circuit.barrier()"
      ]
    },
    {
      "cell_type": "code",
      "execution_count": null,
      "metadata": {
        "id": "4LRNi5C5R3lX"
      },
      "outputs": [],
      "source": [
        "# Step 3: Alice measures both qubits 0 and 1\n",
        "circuit.measure([0, 1], [0, 1]) # results stored in classical bits 0 and 1, respectively\n",
        "\n",
        "circuit.barrier() # just a visual aid"
      ]
    },
    {
      "cell_type": "code",
      "execution_count": null,
      "metadata": {
        "id": "EF1l6kfHR7n-"
      },
      "outputs": [],
      "source": [
        "# Step 4: Now that Alice has measured the two qubits, their states have collapsed to 0 and 1.\n",
        "# Bob can do operations conditioned on these qubits to his half of the Bell pair\n",
        "# Note that while we're conditioning Bob's operation on the collapsed qubits 0 and 1, we can\n",
        "# do teleportation over long distances by transmitting the classical information in classical bits 0 and 1\n",
        "\n",
        "circuit.cx(1, 2)\n",
        "circuit.cz(0, 2)\n",
        "\n",
        "# Step 5: Done! Measure Bob's qubit to find out what state it is in\n",
        "circuit.measure([2], [2])\n",
        "\n",
        "circuit.draw(output='mpl')"
      ]
    },
    {
      "cell_type": "code",
      "execution_count": null,
      "metadata": {
        "id": "PH9qAEHRRCJ7"
      },
      "outputs": [],
      "source": [
        "from qiskit.providers.fake_provider import GenericBackendV2\n",
        "\n",
        "backend = GenericBackendV2(num_qubits = 3)\n",
        "transpiled_circuit = transpile(circuit, backend)\n",
        "transpiled_circuit.draw(output='mpl')\n"
      ]
    },
    {
      "cell_type": "code",
      "execution_count": null,
      "metadata": {
        "id": "0wGlcKSQREHu"
      },
      "outputs": [],
      "source": [
        "job = backend.run(transpiled_circuit)\n",
        "counts = job.result().get_counts()\n",
        "plot_histogram(counts)"
      ]
    },
    {
      "cell_type": "markdown",
      "metadata": {
        "id": "y7yq5VOB5vs1"
      },
      "source": [
        "#Grover's Algorithm"
      ]
    },
    {
      "cell_type": "code",
      "execution_count": null,
      "metadata": {
        "id": "04wn8xK750gF"
      },
      "outputs": [],
      "source": [
        "# To run on hardware, select the backend with the fewest number of jobs in the queue\n",
        "service = QiskitRuntimeService(channel=\"ibm_quantum\")\n",
        "backend = service.least_busy(operational=True, simulator=False)\n",
        "backend.name"
      ]
    },
    {
      "cell_type": "markdown",
      "metadata": {
        "id": "if5JZY4fSliC"
      },
      "source": [
        "Defining the Grover Oracle function"
      ]
    },
    {
      "cell_type": "code",
      "execution_count": null,
      "metadata": {
        "id": "CnI9ezNzSiYZ"
      },
      "outputs": [],
      "source": [
        "def grover_oracle(marked_states):\n",
        "    \"\"\"Build a Grover oracle for multiple marked states\n",
        "\n",
        "    Here we assume all input marked states have the same number of bits\n",
        "\n",
        "    Parameters:\n",
        "        marked_states (str or list): Marked states of oracle\n",
        "\n",
        "    Returns:\n",
        "        QuantumCircuit: Quantum circuit representing Grover oracle\n",
        "    \"\"\"\n",
        "    if not isinstance(marked_states, list):\n",
        "        marked_states = [marked_states]\n",
        "    # Compute the number of qubits in circuit\n",
        "    num_qubits = len(marked_states[0])\n",
        "\n",
        "    qc = QuantumCircuit(num_qubits)\n",
        "    # Mark each target state in the input list\n",
        "    for target in marked_states:\n",
        "        # Flip target bit-string to match Qiskit bit-ordering\n",
        "        rev_target = target[::-1]\n",
        "        # Find the indices of all the '0' elements in bit-string\n",
        "        zero_inds = [ind for ind in range(num_qubits) if rev_target.startswith(\"0\", ind)]\n",
        "        # Add a multi-controlled Z-gate with pre- and post-applied X-gates (open-controls)\n",
        "        # where the target bit-string has a '0' entry\n",
        "        qc.x(zero_inds)\n",
        "        qc.compose(MCMT(ZGate(), num_qubits - 1, 1), inplace=True)\n",
        "        qc.x(zero_inds)\n",
        "    return qc"
      ]
    },
    {
      "cell_type": "markdown",
      "metadata": {
        "id": "bKKmNYvYSrqp"
      },
      "source": [
        "Setting up a Grovers' instance"
      ]
    },
    {
      "cell_type": "code",
      "execution_count": null,
      "metadata": {
        "id": "_s_YP_NKSoWJ"
      },
      "outputs": [],
      "source": [
        "marked_states = [\"011\", \"100\"]\n",
        "\n",
        "oracle = grover_oracle(marked_states)\n",
        "oracle.draw(output=\"mpl\", style=\"iqp\")"
      ]
    },
    {
      "cell_type": "markdown",
      "metadata": {
        "id": "IHIHuWT8SybG"
      },
      "source": [
        "Gorver's Operator - IBM's inbuilt function to build the oracle and amplify the amplitude"
      ]
    },
    {
      "cell_type": "code",
      "execution_count": null,
      "metadata": {
        "id": "dsbfBhKESvJO"
      },
      "outputs": [],
      "source": [
        "grover_op = GroverOperator(oracle)\n",
        "grover_op.decompose().draw(output=\"mpl\", style=\"iqp\")"
      ]
    },
    {
      "cell_type": "markdown",
      "metadata": {
        "id": "sgz_D9rJS937"
      },
      "source": [
        "Setting up optimal number of amplifications"
      ]
    },
    {
      "cell_type": "code",
      "execution_count": null,
      "metadata": {
        "id": "WnpTUw0IS5hj"
      },
      "outputs": [],
      "source": [
        "optimal_num_iterations = math.floor(\n",
        "    math.pi / (4 * math.asin(math.sqrt(len(marked_states) / 2**grover_op.num_qubits)))\n",
        ")"
      ]
    },
    {
      "cell_type": "markdown",
      "metadata": {
        "id": "dVjrrmDLTFsV"
      },
      "source": [
        "Setting up the overal circuit"
      ]
    },
    {
      "cell_type": "code",
      "execution_count": null,
      "metadata": {
        "id": "826vto7KTCkJ"
      },
      "outputs": [],
      "source": [
        "qc = QuantumCircuit(grover_op.num_qubits)\n",
        "# Create even superposition of all basis states\n",
        "qc.h(range(grover_op.num_qubits))\n",
        "# Apply Grover operator the optimal number of times\n",
        "qc.compose(grover_op.power(optimal_num_iterations), inplace=True)\n",
        "# Measure all qubits\n",
        "qc.measure_all()\n",
        "qc.draw(output=\"mpl\", style=\"iqp\")"
      ]
    },
    {
      "cell_type": "markdown",
      "metadata": {
        "id": "BEu-lkTiTJ-y"
      },
      "source": [
        "Optimize the hardware"
      ]
    },
    {
      "cell_type": "code",
      "execution_count": null,
      "metadata": {
        "id": "LaFjluenTJPv"
      },
      "outputs": [],
      "source": [
        "from qiskit.transpiler.preset_passmanagers import generate_preset_pass_manager\n",
        "\n",
        "target = backend.target\n",
        "pm = generate_preset_pass_manager(target=target, optimization_level=3)\n",
        "\n",
        "circuit_isa = pm.run(qc)\n",
        "circuit_isa.draw(output=\"mpl\", idle_wires=False, style=\"iqp\")"
      ]
    },
    {
      "cell_type": "markdown",
      "metadata": {
        "id": "pONhxLpTzC_D"
      },
      "source": [
        "Running the algorithm on the backend"
      ]
    },
    {
      "cell_type": "code",
      "execution_count": null,
      "metadata": {
        "id": "ANX2uuqQzBKv"
      },
      "outputs": [],
      "source": [
        "# To run on local simulator:\n",
        "#   1. Use the SatetvectorSampler from qiskit.primitives instead\n",
        "sampler = Sampler(mode=backend)\n",
        "sampler.options.default_shots = 1000\n",
        "result = sampler.run([circuit_isa]).result()\n",
        "dist = result[0].data.meas.get_counts()"
      ]
    },
    {
      "cell_type": "markdown",
      "metadata": {
        "id": "2UN0AKmbzF5U"
      },
      "source": [
        "Plotting"
      ]
    },
    {
      "cell_type": "code",
      "execution_count": null,
      "metadata": {
        "id": "ywbYAHyuzFgK"
      },
      "outputs": [],
      "source": [
        "plot_distribution(dist)"
      ]
    }
  ],
  "metadata": {
    "colab": {
      "provenance": [],
      "include_colab_link": true
    },
    "kernelspec": {
      "display_name": "Python 3",
      "name": "python3"
    },
    "language_info": {
      "name": "python"
    }
  },
  "nbformat": 4,
  "nbformat_minor": 0
}